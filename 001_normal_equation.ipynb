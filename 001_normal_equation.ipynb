{
 "cells": [
  {
   "cell_type": "code",
   "execution_count": 1,
   "id": "03ae0f14-78a4-4ef3-ab42-835994a4bfab",
   "metadata": {},
   "outputs": [],
   "source": [
    "import numpy as np"
   ]
  },
  {
   "cell_type": "code",
   "execution_count": 2,
   "id": "5ab6d5d4-ff5c-49d5-9b84-9f8557ede147",
   "metadata": {},
   "outputs": [
    {
     "data": {
      "text/plain": [
       "array([[1, 3],\n",
       "       [2, 4]])"
      ]
     },
     "execution_count": 2,
     "metadata": {},
     "output_type": "execute_result"
    }
   ],
   "source": [
    "np.c_[[1, 2], [3, 4]]"
   ]
  },
  {
   "cell_type": "code",
   "execution_count": 3,
   "id": "3bbf9d4f-d974-4904-af5c-a24aed5a5ee6",
   "metadata": {},
   "outputs": [
    {
     "data": {
      "text/plain": [
       "array([[1, 3],\n",
       "       [2, 4]])"
      ]
     },
     "execution_count": 3,
     "metadata": {},
     "output_type": "execute_result"
    }
   ],
   "source": [
    "np.stack([[1, 2], [3, 4]], axis=1)"
   ]
  },
  {
   "cell_type": "code",
   "execution_count": 4,
   "id": "6a2db321-e729-4296-8101-33094be8e387",
   "metadata": {},
   "outputs": [],
   "source": [
    "X = 2 * np.random.rand(100)\n",
    "y = 4 + 3 * X + np.random.randn(100)"
   ]
  },
  {
   "cell_type": "markdown",
   "id": "d1488d6f-b479-4b87-ac17-99ad0da201d9",
   "metadata": {},
   "source": [
    "## Solving the normal equation manually"
   ]
  },
  {
   "cell_type": "code",
   "execution_count": 5,
   "id": "9d333d89-54a2-4adc-b0ba-433f023c500e",
   "metadata": {},
   "outputs": [
    {
     "data": {
      "text/plain": [
       "array([3.87953046, 3.1691552 ])"
      ]
     },
     "execution_count": 5,
     "metadata": {},
     "output_type": "execute_result"
    }
   ],
   "source": [
    "# Add 1 as bias term for x0\n",
    "X_b = np.stack([np.ones(100), X], axis=1)\n",
    "theta = np.linalg.pinv(X_b.T @ X_b) @ (X_b.T @ y)\n",
    "theta"
   ]
  },
  {
   "cell_type": "code",
   "execution_count": 6,
   "id": "11367e6b-766b-479c-94a5-2bfebb6db259",
   "metadata": {},
   "outputs": [
    {
     "data": {
      "text/plain": [
       "19.725306447532212"
      ]
     },
     "execution_count": 6,
     "metadata": {},
     "output_type": "execute_result"
    }
   ],
   "source": [
    "X_test = [1, 5]\n",
    "X_test @ theta"
   ]
  },
  {
   "cell_type": "code",
   "execution_count": 7,
   "id": "f73225f9-32eb-4e0a-9112-8964616fb7ea",
   "metadata": {},
   "outputs": [
    {
     "name": "stderr",
     "output_type": "stream",
     "text": [
      "/var/folders/v5/8v9k6wcn65jbbct8spl3wwsh0000gn/T/ipykernel_9935/1142066073.py:2: FutureWarning: `rcond` parameter will change to the default of machine precision times ``max(M, N)`` where M and N are the input matrix dimensions.\n",
      "To use the future default and silence this warning we advise to pass `rcond=None`, to keep using the old, explicitly pass `rcond=-1`.\n",
      "  theta, residuals, rank, s = np.linalg.lstsq(X_b, y)\n"
     ]
    },
    {
     "data": {
      "text/plain": [
       "array([3.87953046, 3.1691552 ])"
      ]
     },
     "execution_count": 7,
     "metadata": {},
     "output_type": "execute_result"
    }
   ],
   "source": [
    "X_b = np.stack([np.ones(X.shape[0]), X], axis=1)\n",
    "theta, residuals, rank, s = np.linalg.lstsq(X_b, y)\n",
    "theta"
   ]
  },
  {
   "cell_type": "code",
   "execution_count": 8,
   "id": "eb540d27-acb3-4f69-b1f9-e1a6c2c4fc04",
   "metadata": {},
   "outputs": [
    {
     "data": {
      "text/plain": [
       "19.72530644753216"
      ]
     },
     "execution_count": 8,
     "metadata": {},
     "output_type": "execute_result"
    }
   ],
   "source": [
    "X_test @ theta"
   ]
  },
  {
   "cell_type": "markdown",
   "id": "c0cda6e4-1045-46d9-b048-0567cb2eab78",
   "metadata": {},
   "source": [
    "## Using statsmodels"
   ]
  },
  {
   "cell_type": "code",
   "execution_count": 9,
   "id": "08c3d08f-7670-40ed-983b-a9927ed0dbff",
   "metadata": {},
   "outputs": [
    {
     "data": {
      "text/plain": [
       "array([3.87953046, 3.1691552 ])"
      ]
     },
     "execution_count": 9,
     "metadata": {},
     "output_type": "execute_result"
    }
   ],
   "source": [
    "import statsmodels.api as sm\n",
    "\n",
    "model = sm.OLS(y, sm.add_constant(X))\n",
    "results = model.fit()\n",
    "results.params"
   ]
  },
  {
   "cell_type": "code",
   "execution_count": 10,
   "id": "69b7b8c7-ee0f-4b57-a7c3-b0b132cc4746",
   "metadata": {},
   "outputs": [
    {
     "data": {
      "text/plain": [
       "19.725306447532166"
      ]
     },
     "execution_count": 10,
     "metadata": {},
     "output_type": "execute_result"
    }
   ],
   "source": [
    "model.predict(results.params, exog=X_test)"
   ]
  }
 ],
 "metadata": {
  "kernelspec": {
   "display_name": "Python 3 (ipykernel)",
   "language": "python",
   "name": "python3"
  },
  "language_info": {
   "codemirror_mode": {
    "name": "ipython",
    "version": 3
   },
   "file_extension": ".py",
   "mimetype": "text/x-python",
   "name": "python",
   "nbconvert_exporter": "python",
   "pygments_lexer": "ipython3",
   "version": "3.12.8"
  }
 },
 "nbformat": 4,
 "nbformat_minor": 5
}
