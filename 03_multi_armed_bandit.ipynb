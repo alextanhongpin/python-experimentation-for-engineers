{
 "cells": [
  {
   "cell_type": "markdown",
   "id": "2f568cf2-0724-4440-886e-7817d9ee2ca6",
   "metadata": {},
   "source": [
    "# Multi-armed bandits: Maximizing business metrics while experimenting"
   ]
  },
  {
   "cell_type": "code",
   "execution_count": 26,
   "id": "01f10627-8357-4e3f-aef8-bd2d57663c41",
   "metadata": {
    "execution": {
     "iopub.execute_input": "2024-04-30T15:21:53.270556Z",
     "iopub.status.busy": "2024-04-30T15:21:53.269442Z",
     "iopub.status.idle": "2024-04-30T15:21:54.320113Z",
     "shell.execute_reply": "2024-04-30T15:21:54.317523Z",
     "shell.execute_reply.started": "2024-04-30T15:21:53.270522Z"
    }
   },
   "outputs": [],
   "source": [
    "import matplotlib.pyplot as plt"
   ]
  },
  {
   "cell_type": "markdown",
   "id": "fad06a45-3f21-4d28-98cd-2f47f2b04b97",
   "metadata": {},
   "source": [
    "### Simulate measurement of click on an ad"
   ]
  },
  {
   "cell_type": "code",
   "execution_count": 2,
   "id": "a4046030-f8d9-48ea-9a17-dbbb9c95c293",
   "metadata": {
    "execution": {
     "iopub.execute_input": "2024-04-30T08:48:43.837028Z",
     "iopub.status.busy": "2024-04-30T08:48:43.836393Z",
     "iopub.status.idle": "2024-04-30T08:48:43.846906Z",
     "shell.execute_reply": "2024-04-30T08:48:43.845635Z",
     "shell.execute_reply.started": "2024-04-30T08:48:43.836990Z"
    }
   },
   "outputs": [],
   "source": [
    "def measure_click(ctr):\n",
    "    return 1 if np.random.uniform(0, 1) < ctr else 0\n",
    "\n",
    "\n",
    "def measure_a():\n",
    "    return measure_click(ctr=0.005)\n",
    "\n",
    "\n",
    "def measure_b():\n",
    "    return measure_click(ctr=0.007)"
   ]
  },
  {
   "cell_type": "markdown",
   "id": "576e342b-dfd9-4a22-966a-254b20f127b4",
   "metadata": {},
   "source": [
    "### Design an A/B test"
   ]
  },
  {
   "cell_type": "code",
   "execution_count": 3,
   "id": "1915cd00-c1b5-4e7d-949e-d4633a73fbac",
   "metadata": {
    "execution": {
     "iopub.execute_input": "2024-04-30T08:52:27.100836Z",
     "iopub.status.busy": "2024-04-30T08:52:27.099200Z",
     "iopub.status.idle": "2024-04-30T08:52:27.134673Z",
     "shell.execute_reply": "2024-04-30T08:52:27.118458Z",
     "shell.execute_reply.started": "2024-04-30T08:52:27.100775Z"
    }
   },
   "outputs": [],
   "source": [
    "def design_ab_test():\n",
    "    def pilot_study(num_pilot_measurements):\n",
    "        clicked_pre_a = np.array([measure_a() for _ in range(num_pilot_measurements)])\n",
    "        clicked_pre_b = np.array([measure_b() for _ in range(num_pilot_measurements)])\n",
    "\n",
    "        sd_1 = np.sqrt(clicked_pre_a.std() ** 2 + clicked_pre_b.std() ** 2)\n",
    "        return sd_1\n",
    "\n",
    "    # Run a pilot study to measure sd_1.\n",
    "    sd_1 = pilot_study(1000)\n",
    "\n",
    "    # Define a practical significance level of 0.001 (0.1%)\n",
    "    prac_sig = 0.001\n",
    "\n",
    "    # Calculate the number of individual measurements.\n",
    "    num_ind = (2.48 * sd_1 / prac_sig) ** 2\n",
    "    return int(num_ind)"
   ]
  },
  {
   "cell_type": "code",
   "execution_count": 4,
   "id": "eb9f361a-bd3e-474c-afbb-6f78314a825b",
   "metadata": {
    "execution": {
     "iopub.execute_input": "2024-04-30T08:52:43.433099Z",
     "iopub.status.busy": "2024-04-30T08:52:43.431643Z",
     "iopub.status.idle": "2024-04-30T08:52:44.018742Z",
     "shell.execute_reply": "2024-04-30T08:52:44.015811Z",
     "shell.execute_reply.started": "2024-04-30T08:52:43.433044Z"
    }
   },
   "outputs": [
    {
     "data": {
      "text/plain": [
       "91561"
      ]
     },
     "execution_count": 4,
     "metadata": {},
     "output_type": "execute_result"
    }
   ],
   "source": [
    "import numpy as np\n",
    "\n",
    "np.random.seed(17)\n",
    "num_ind = design_ab_test()\n",
    "num_ind"
   ]
  },
  {
   "cell_type": "markdown",
   "id": "f466c4f6-cf49-481d-9c84-f47ab134570c",
   "metadata": {},
   "source": [
    "Observation:\n",
    "91,561 individual measurements are required.\n",
    "\n",
    "Say you have the following data:\n",
    "- CPC = cost per click of $1\n",
    "- CTR = click through rate of 0.5%\n",
    "\n",
    "How much does it take to earn $100,000 per year? \n",
    "\n",
    "$$ CTR \\times CPC \\times \\frac{ads}{day} \\times \\frac{days}{year} = [\\text{\\$100,000 revenue}]$$"
   ]
  },
  {
   "cell_type": "code",
   "execution_count": 13,
   "id": "44a5d7ec-8a53-4d72-a48d-b808497a94fe",
   "metadata": {
    "execution": {
     "iopub.execute_input": "2024-04-30T09:03:41.237404Z",
     "iopub.status.busy": "2024-04-30T09:03:41.236907Z",
     "iopub.status.idle": "2024-04-30T09:03:41.279064Z",
     "shell.execute_reply": "2024-04-30T09:03:41.248016Z",
     "shell.execute_reply.started": "2024-04-30T09:03:41.237369Z"
    }
   },
   "outputs": [
    {
     "name": "stdout",
     "output_type": "stream",
     "text": [
      "54795 ads per day\n"
     ]
    }
   ],
   "source": [
    "import math\n",
    "\n",
    "n = math.ceil(100000 / 365 / 1 / 0.005)\n",
    "print(f\"{n} ads per day\")"
   ]
  },
  {
   "cell_type": "code",
   "execution_count": 15,
   "id": "a213c51d-5aaf-41f5-a92c-688089adda43",
   "metadata": {
    "execution": {
     "iopub.execute_input": "2024-04-30T09:05:07.787009Z",
     "iopub.status.busy": "2024-04-30T09:05:07.758988Z",
     "iopub.status.idle": "2024-04-30T09:05:07.801761Z",
     "shell.execute_reply": "2024-04-30T09:05:07.796335Z",
     "shell.execute_reply.started": "2024-04-30T09:05:07.786938Z"
    }
   },
   "outputs": [],
   "source": [
    "def run_ab_test(num_ind):\n",
    "    clicked_a = []\n",
    "    clicked_b = []\n",
    "\n",
    "    for n in range(num_ind):\n",
    "        # Randomize between A and B\n",
    "        if np.random.uniform(0, 1) < 0.5:\n",
    "            clicked = measure_a()\n",
    "            clicked_a.append(clicked)\n",
    "        else:\n",
    "            clicked = measure_b()\n",
    "            clicked_b.append(clicked)\n",
    "\n",
    "    clicked_a = np.array(clicked_a)\n",
    "    clicked_b = np.array(clicked_b)\n",
    "\n",
    "    return clicked_a, clicked_b"
   ]
  },
  {
   "cell_type": "markdown",
   "id": "cc877f02-724a-4519-af2f-6bd156cdb4ba",
   "metadata": {},
   "source": [
    "### Analyze the A/B test data"
   ]
  },
  {
   "cell_type": "code",
   "execution_count": 17,
   "id": "cbc43bed-b40d-4573-80d4-000dedae0f55",
   "metadata": {
    "execution": {
     "iopub.execute_input": "2024-04-30T09:10:58.438153Z",
     "iopub.status.busy": "2024-04-30T09:10:58.437769Z",
     "iopub.status.idle": "2024-04-30T09:10:58.456295Z",
     "shell.execute_reply": "2024-04-30T09:10:58.454768Z",
     "shell.execute_reply.started": "2024-04-30T09:10:58.438126Z"
    }
   },
   "outputs": [],
   "source": [
    "def analyze_ab_test(clicked_a, clicked_b, num_ind):\n",
    "    mean_a = clicked_a.mean()\n",
    "    mean_b = clicked_b.mean()\n",
    "    std_a = clicked_a.std()\n",
    "    std_b = clicked_b.std()\n",
    "\n",
    "    # Calculate the difference of mean click rates, m and the standard error, se.\n",
    "    m = mean_b - mean_a\n",
    "    se = np.sqrt((std_a**2 + std_b**2) / num_ind)\n",
    "\n",
    "    # Calculate the z-score, which determines whether we accept or reject version B.\n",
    "    z = m / se\n",
    "\n",
    "    return z"
   ]
  },
  {
   "cell_type": "code",
   "execution_count": 18,
   "id": "6de3147e-cbea-4511-9a9e-0eaea736bfe6",
   "metadata": {
    "execution": {
     "iopub.execute_input": "2024-04-30T09:12:28.185715Z",
     "iopub.status.busy": "2024-04-30T09:12:28.185044Z",
     "iopub.status.idle": "2024-04-30T09:12:29.286049Z",
     "shell.execute_reply": "2024-04-30T09:12:29.282608Z",
     "shell.execute_reply.started": "2024-04-30T09:12:28.185672Z"
    }
   },
   "outputs": [
    {
     "data": {
      "text/plain": [
       "(91561, 2.954555022088617)"
      ]
     },
     "execution_count": 18,
     "metadata": {},
     "output_type": "execute_result"
    }
   ],
   "source": [
    "np.random.seed(17)\n",
    "num_ind = design_ab_test()\n",
    "clicked_a, clicked_b = run_ab_test(num_ind)\n",
    "z = analyze_ab_test(clicked_a, clicked_b, num_ind)\n",
    "num_ind, z"
   ]
  },
  {
   "cell_type": "markdown",
   "id": "b5d97c7a-a270-4cf1-9ef9-bf3dfc24d240",
   "metadata": {},
   "source": [
    "Observation: Since z = 2.95 (z > 1.64), we would accept the change and replace model A with model B."
   ]
  },
  {
   "cell_type": "markdown",
   "id": "7896b405-19f3-430c-b57d-55c9a5393b21",
   "metadata": {},
   "source": [
    "### Trace the CTR as the A/B test runs."
   ]
  },
  {
   "cell_type": "code",
   "execution_count": 19,
   "id": "3ad5031a-190f-4efb-847f-ce4b940b3e68",
   "metadata": {
    "execution": {
     "iopub.execute_input": "2024-04-30T09:25:10.045741Z",
     "iopub.status.busy": "2024-04-30T09:25:10.043146Z",
     "iopub.status.idle": "2024-04-30T09:25:10.064290Z",
     "shell.execute_reply": "2024-04-30T09:25:10.063010Z",
     "shell.execute_reply.started": "2024-04-30T09:25:10.045688Z"
    }
   },
   "outputs": [],
   "source": [
    "def ab_test(num_ind):\n",
    "    sum_clicks = 0.0\n",
    "    num_ads = 0.0\n",
    "    sum_a, sum_b = 0.0, 0.0\n",
    "    num_a, num_b = 0, 0\n",
    "\n",
    "    ctr_vs_n = []\n",
    "    ctr_a = []\n",
    "    ctr_b = []\n",
    "\n",
    "    for n in range(num_ind):\n",
    "        if np.random.uniform(0, 1) < 0.5:\n",
    "            clicked = measure_a()\n",
    "            sum_a += clicked\n",
    "            num_a += 1\n",
    "        else:\n",
    "            clicked = measure_b()\n",
    "            sum_b += clicked\n",
    "            num_b += 1\n",
    "        sum_clicks += clicked\n",
    "        num_ads += 1\n",
    "        if num_a > 0 and num_b > 0:\n",
    "            ctr_a.append(sum_a / num_a)\n",
    "            ctr_b.append(sum_b / num_b)\n",
    "            ctr_vs_n.append(sum_clicks / num_ads)\n",
    "\n",
    "    return ctr_vs_n, ctr_a, ctr_b"
   ]
  },
  {
   "cell_type": "code",
   "execution_count": 39,
   "id": "154994c7-b23f-4532-941d-82e822a756e1",
   "metadata": {
    "execution": {
     "iopub.execute_input": "2024-04-30T15:25:39.338431Z",
     "iopub.status.busy": "2024-04-30T15:25:39.337586Z",
     "iopub.status.idle": "2024-04-30T15:25:39.732958Z",
     "shell.execute_reply": "2024-04-30T15:25:39.731454Z",
     "shell.execute_reply.started": "2024-04-30T15:25:39.338385Z"
    }
   },
   "outputs": [
    {
     "data": {
      "image/png": "[encoded data removed]",
      "text/plain": [
       "<Figure size 640x480 with 1 Axes>"
      ]
     },
     "metadata": {},
     "output_type": "display_data"
    }
   ],
   "source": [
    "ctr_vs_n, ctr_a, ctr_b = ab_test(10000)\n",
    "plt.plot(ctr_vs_n, label=\"ctr vs n\")\n",
    "plt.plot(ctr_a, label=\"ctr a\")\n",
    "plt.plot(ctr_b, label=\"ctr b\")\n",
    "plt.legend();"
   ]
  },
  {
   "cell_type": "code",
   "execution_count": 20,
   "id": "9b390b55-3c6b-4625-ae6a-94d3fd0ca9ba",
   "metadata": {
    "execution": {
     "iopub.execute_input": "2024-04-30T09:31:30.417775Z",
     "iopub.status.busy": "2024-04-30T09:31:30.416956Z",
     "iopub.status.idle": "2024-04-30T09:31:30.466147Z",
     "shell.execute_reply": "2024-04-30T09:31:30.454168Z",
     "shell.execute_reply.started": "2024-04-30T09:31:30.417725Z"
    }
   },
   "outputs": [],
   "source": [
    "def epsilon_greedy(num_ind, epsilon):\n",
    "    sum_clicks = 0.0\n",
    "    num_ads = 0.0\n",
    "    sum_a, sum_b = 0.0, 0.0\n",
    "    num_a, num_b = 0, 0\n",
    "    ctr_vs_n = []\n",
    "    used_b = []\n",
    "\n",
    "    for _ in range(num_ind):\n",
    "        select = \"Randomize\"\n",
    "        if np.random.uniform(0, 1) < 1 - epsilon:\n",
    "            ctr_a = sum_a / num_a if num_a > 0 else 0\n",
    "            ctr_b = sum_b / num_b if num_b > 0 else 0\n",
    "            if ctr_a > ctr_b:\n",
    "                select = \"A\"\n",
    "            elif ctr_b > ctr_a:\n",
    "                select = \"B\"\n",
    "        if select == \"Randomize\":\n",
    "            if np.random.uniform(0, 1) < 0.5:\n",
    "                select = \"A\"\n",
    "            else:\n",
    "                select = \"B\"\n",
    "\n",
    "        if select == \"A\":\n",
    "            clicked = measure_a()\n",
    "            sum_a += clicked\n",
    "            num_a += 1\n",
    "            used_b.append(False)\n",
    "        else:\n",
    "            clicked = measure_b()\n",
    "            sum_b += clicked\n",
    "            num_b += 1\n",
    "            used_b.append(True)\n",
    "        sum_clicks += clicked\n",
    "        num_ads += 1\n",
    "\n",
    "        ctr_vs_n.append(sum_clicks / num_ads)\n",
    "    return ctr_vs_n, used_b"
   ]
  },
  {
   "cell_type": "code",
   "execution_count": 41,
   "id": "f5712566-384a-4211-b8bf-be276f0e8835",
   "metadata": {
    "execution": {
     "iopub.execute_input": "2024-04-30T15:26:01.292291Z",
     "iopub.status.busy": "2024-04-30T15:26:01.289385Z",
     "iopub.status.idle": "2024-04-30T15:26:01.617241Z",
     "shell.execute_reply": "2024-04-30T15:26:01.615792Z",
     "shell.execute_reply.started": "2024-04-30T15:26:01.292077Z"
    }
   },
   "outputs": [
    {
     "data": {
      "image/png": "[encoded data removed]",
      "text/plain": [
       "<Figure size 640x480 with 1 Axes>"
      ]
     },
     "metadata": {},
     "output_type": "display_data"
    }
   ],
   "source": [
    "ctr_vs_n, used_b = epsilon_greedy(10000, 0.1)\n",
    "plt.plot(ctr_vs_n);"
   ]
  },
  {
   "cell_type": "code",
   "execution_count": 21,
   "id": "273ee317-986f-4045-8882-f51bf761eca7",
   "metadata": {
    "execution": {
     "iopub.execute_input": "2024-04-30T14:45:59.985856Z",
     "iopub.status.busy": "2024-04-30T14:45:59.970649Z",
     "iopub.status.idle": "2024-04-30T14:46:00.099006Z",
     "shell.execute_reply": "2024-04-30T14:46:00.097613Z",
     "shell.execute_reply.started": "2024-04-30T14:45:59.985006Z"
    }
   },
   "outputs": [],
   "source": [
    "def epsilon_greedy_decay():\n",
    "    bm_max = 0.01\n",
    "    prac_sig = 0.001\n",
    "    c = 5\n",
    "\n",
    "    epsilon_0 = 2 * c * (bm_max / prac_sig) ** 2\n",
    "    epsilon_stop = 0.01\n",
    "\n",
    "    sum_clicks = 0.0\n",
    "    num_ads = 0.0\n",
    "    sum_a, sum_b = 0.0, 0.0\n",
    "    num_a, num_b = 0, 0\n",
    "    ctr_vs_n = []\n",
    "    epsilons = []\n",
    "\n",
    "    n = 0\n",
    "    selected = None\n",
    "    while True:\n",
    "        epsilon = min(1.0, epsilon_0 / (1.0 + n))\n",
    "        epsilons.append(epsilon)\n",
    "        if epsilon < epsilon_stop:\n",
    "            break\n",
    "\n",
    "        select = \"Randomize\"\n",
    "        if np.random.uniform(0, 1) < 1 - epsilon:\n",
    "            ctr_a = sum_a / num_a if num_a > 0 else 0\n",
    "            ctr_b = sum_b / num_b if num_b > 0 else 0\n",
    "            if ctr_a > ctr_b:\n",
    "                select = \"A\"\n",
    "                selected = \"A\"\n",
    "            elif ctr_b > ctr_a:\n",
    "                select = \"B\"\n",
    "                selected = \"B\"\n",
    "        if select == \"Randomize\":\n",
    "            if np.random.uniform(0, 1) < 0.5:\n",
    "                select = \"A\"\n",
    "            else:\n",
    "                select = \"B\"\n",
    "\n",
    "        if select == \"A\":\n",
    "            clicked = measure_a()\n",
    "            sum_a += clicked\n",
    "            num_a += 1\n",
    "        else:\n",
    "            clicked = measure_b()\n",
    "            sum_b += clicked\n",
    "            num_b += 1\n",
    "        sum_clicks += clicked\n",
    "        num_ads += 1\n",
    "\n",
    "        ctr_vs_n.append(sum_clicks / num_ads)\n",
    "        n += 1\n",
    "\n",
    "    if selected == \"B\":\n",
    "        accept_reject = \"Accept\"\n",
    "    else:\n",
    "        accept_reject = \"Reject\"\n",
    "\n",
    "    return ctr_vs_n, epsilons, accept_reject"
   ]
  },
  {
   "cell_type": "code",
   "execution_count": 42,
   "id": "64a60d5d-af17-4b91-9790-cd0ac4ed2936",
   "metadata": {
    "execution": {
     "iopub.execute_input": "2024-04-30T15:28:50.996641Z",
     "iopub.status.busy": "2024-04-30T15:28:50.990478Z",
     "iopub.status.idle": "2024-04-30T15:28:52.798208Z",
     "shell.execute_reply": "2024-04-30T15:28:52.796142Z",
     "shell.execute_reply.started": "2024-04-30T15:28:50.996554Z"
    }
   },
   "outputs": [
    {
     "data": {
      "image/png": "[encoded data removed]",
      "text/plain": [
       "<Figure size 640x480 with 1 Axes>"
      ]
     },
     "metadata": {},
     "output_type": "display_data"
    }
   ],
   "source": [
    "ctr_vs_n, epsilons, accept_reject = epsilon_greedy_decay()\n",
    "plt.plot(ctr_vs_n);"
   ]
  },
  {
   "cell_type": "code",
   "execution_count": 22,
   "id": "f3bca689-d68c-455d-bf3c-0832bcf3bbd4",
   "metadata": {
    "execution": {
     "iopub.execute_input": "2024-04-30T15:20:09.928965Z",
     "iopub.status.busy": "2024-04-30T15:20:09.925076Z",
     "iopub.status.idle": "2024-04-30T15:20:09.979305Z",
     "shell.execute_reply": "2024-04-30T15:20:09.978069Z",
     "shell.execute_reply.started": "2024-04-30T15:20:09.928886Z"
    }
   },
   "outputs": [],
   "source": [
    "def epsilon_greedy_decay_multi():\n",
    "    bm_max = 0.01\n",
    "    prac_sig = 0.001\n",
    "    k = 4\n",
    "    c = 5\n",
    "\n",
    "    epsilon_0 = k * c * (bm_max / prac_sig) ** 2\n",
    "    epsilon_stop = 0.01\n",
    "\n",
    "    sum_clicks = 0.0\n",
    "    num_ads = 0.0\n",
    "    sum_arm = [0.0] * k\n",
    "    num_arm = [0.0] * k\n",
    "    ctr_vs_n = []\n",
    "\n",
    "    n = 0\n",
    "    arms_selected = []\n",
    "    while True:\n",
    "        epsilon = min(1.0, epsilon_0 / (1.0 + n))\n",
    "        if epsilon < epsilon_stop:\n",
    "            break\n",
    "        i_selected = None\n",
    "        if np.random.uniform(0, 1) < 1 - epsilon:\n",
    "            max_ctr = None\n",
    "            for i in range(k):\n",
    "                if num_arm[i] > 0:\n",
    "                    ctr_arm = sum_arm[i] / num_arm[i]\n",
    "                else:\n",
    "                    ctr_arm = 0\n",
    "                # Break ties by randomizing\n",
    "                ctr_arm += 1e-9 * np.random.normal()\n",
    "                if max_ctr is None or ctr_arm > max_ctr:\n",
    "                    max_ctr = ctr_arm\n",
    "                    i_selected = i\n",
    "            i_best_arm = i_selected\n",
    "        else:\n",
    "            i_selected = np.random.randint(k)\n",
    "\n",
    "        arms_selected.append(i_selected)\n",
    "        clicked = measure_arm(i_selected)\n",
    "        sum_arm[i_selected] += clicked\n",
    "        num_arm[i_selected] += 1\n",
    "        sum_clicks += clicked\n",
    "        num_ads += 1\n",
    "\n",
    "        ctr_vs_n.append(sum_clicks / num_ads)\n",
    "        n += 1\n",
    "\n",
    "    return ctr_vs_n, arms_selected"
   ]
  },
  {
   "cell_type": "code",
   "execution_count": 43,
   "id": "6f6e01b5-9e31-4b9d-a8f4-48df026359bf",
   "metadata": {
    "execution": {
     "iopub.execute_input": "2024-04-30T15:29:31.933097Z",
     "iopub.status.busy": "2024-04-30T15:29:31.932078Z",
     "iopub.status.idle": "2024-04-30T15:29:35.347986Z",
     "shell.execute_reply": "2024-04-30T15:29:35.346989Z",
     "shell.execute_reply.started": "2024-04-30T15:29:31.933028Z"
    }
   },
   "outputs": [
    {
     "data": {
      "image/png": "[encoded data removed]",
      "text/plain": [
       "<Figure size 640x480 with 1 Axes>"
      ]
     },
     "metadata": {},
     "output_type": "display_data"
    }
   ],
   "source": [
    "ctr_vs_n, arms_selected = epsilon_greedy_decay_multi()\n",
    "plt.plot(ctr_vs_n);"
   ]
  },
  {
   "cell_type": "code",
   "execution_count": 23,
   "id": "e9dfb1fa-c9a1-4500-b9b1-9a22590de957",
   "metadata": {
    "execution": {
     "iopub.execute_input": "2024-04-30T15:20:24.961765Z",
     "iopub.status.busy": "2024-04-30T15:20:24.961110Z",
     "iopub.status.idle": "2024-04-30T15:20:24.976541Z",
     "shell.execute_reply": "2024-04-30T15:20:24.974947Z",
     "shell.execute_reply.started": "2024-04-30T15:20:24.961723Z"
    }
   },
   "outputs": [],
   "source": [
    "def measure_arm(i_arm):\n",
    "    return measure_click(ctr=0.005 + i_arm * 0.002)"
   ]
  },
  {
   "cell_type": "code",
   "execution_count": 27,
   "id": "3622c2b5-3dae-40d9-a829-4abc68953266",
   "metadata": {
    "execution": {
     "iopub.execute_input": "2024-04-30T15:21:57.836039Z",
     "iopub.status.busy": "2024-04-30T15:21:57.835126Z",
     "iopub.status.idle": "2024-04-30T15:22:00.567860Z",
     "shell.execute_reply": "2024-04-30T15:22:00.567234Z",
     "shell.execute_reply.started": "2024-04-30T15:21:57.835992Z"
    }
   },
   "outputs": [
    {
     "data": {
      "text/plain": [
       "[<matplotlib.lines.Line2D at 0x10ccf22d0>]"
      ]
     },
     "execution_count": 27,
     "metadata": {},
     "output_type": "execute_result"
    },
    {
     "data": {
      "image/png": "[encoded data removed]",
      "text/plain": [
       "<Figure size 640x480 with 1 Axes>"
      ]
     },
     "metadata": {},
     "output_type": "display_data"
    }
   ],
   "source": [
    "ctr_vs_n, arms_selected = epsilon_greedy_decay_multi()\n",
    "plt.plot(ctr_vs_n)"
   ]
  },
  {
   "cell_type": "markdown",
   "id": "0b832326-c857-48ed-be56-828d50ecf4fd",
   "metadata": {},
   "source": [
    "## Thompson sampling: A more efficient MAB algorithm"
   ]
  },
  {
   "cell_type": "markdown",
   "id": "6c61d7ec-4bb8-4503-8ea1-2ca44ea171f9",
   "metadata": {},
   "source": [
    "### Bootstrap sampling\n",
    "\n",
    "Generate a bootstrap sample from a data set"
   ]
  },
  {
   "cell_type": "code",
   "execution_count": 44,
   "id": "7827f1f9-f0a9-4efe-8fc9-c37f21712969",
   "metadata": {
    "execution": {
     "iopub.execute_input": "2024-04-30T15:46:17.192465Z",
     "iopub.status.busy": "2024-04-30T15:46:17.188308Z",
     "iopub.status.idle": "2024-04-30T15:46:17.212594Z",
     "shell.execute_reply": "2024-04-30T15:46:17.211139Z",
     "shell.execute_reply.started": "2024-04-30T15:46:17.192378Z"
    }
   },
   "outputs": [],
   "source": [
    "def boostrap_sample(data):\n",
    "    n = len(data)\n",
    "    return data[np.random.randint(n, size=(n,))]"
   ]
  },
  {
   "cell_type": "code",
   "execution_count": 52,
   "id": "05456445-9106-4696-9703-08cddbc43077",
   "metadata": {
    "execution": {
     "iopub.execute_input": "2024-04-30T15:49:52.707532Z",
     "iopub.status.busy": "2024-04-30T15:49:52.706800Z",
     "iopub.status.idle": "2024-04-30T15:49:52.720720Z",
     "shell.execute_reply": "2024-04-30T15:49:52.719399Z",
     "shell.execute_reply.started": "2024-04-30T15:49:52.707484Z"
    }
   },
   "outputs": [
    {
     "name": "stdout",
     "output_type": "stream",
     "text": [
      "[0 0 0 0 0 0 1 0 1 0]\n",
      "[0 0 0 1 1 0 0 0 0 0]\n",
      "[0 1 0 0 1 0 0 1 0 0]\n"
     ]
    }
   ],
   "source": [
    "np.random.seed(17)\n",
    "\n",
    "I_clicked = np.array([0, 0, 1, 0, 1, 1, 0, 0, 1, 0])\n",
    "CTR = I_clicked.mean()\n",
    "SE = I_clicked.std() / np.sqrt(len(I_clicked))\n",
    "\n",
    "print(boostrap_sample(I_clicked))\n",
    "print(boostrap_sample(I_clicked))\n",
    "print(boostrap_sample(I_clicked))"
   ]
  },
  {
   "cell_type": "markdown",
   "id": "4343a03b-713b-4c1b-9fb3-cbb87b7b0658",
   "metadata": {
    "execution": {
     "iopub.execute_input": "2024-04-30T15:48:42.721726Z",
     "iopub.status.busy": "2024-04-30T15:48:42.719703Z",
     "iopub.status.idle": "2024-04-30T15:48:42.884570Z",
     "shell.execute_reply": "2024-04-30T15:48:42.858261Z",
     "shell.execute_reply.started": "2024-04-30T15:48:42.721666Z"
    }
   },
   "source": [
    "### Probability of being the best arm"
   ]
  },
  {
   "cell_type": "code",
   "execution_count": 61,
   "id": "e01d7230-dd28-459b-84dc-ae9d3fe2be18",
   "metadata": {
    "execution": {
     "iopub.execute_input": "2024-04-30T15:59:01.911051Z",
     "iopub.status.busy": "2024-04-30T15:59:01.909277Z",
     "iopub.status.idle": "2024-04-30T15:59:02.326560Z",
     "shell.execute_reply": "2024-04-30T15:59:02.325142Z",
     "shell.execute_reply.started": "2024-04-30T15:59:01.910977Z"
    }
   },
   "outputs": [],
   "source": [
    "I_clicked_1 = np.array([measure_click(ctr=0.005) for _ in range(10000)])\n",
    "I_clicked_2 = np.array([measure_click(ctr=0.007) for _ in range(10000)])"
   ]
  },
  {
   "cell_type": "code",
   "execution_count": 62,
   "id": "8a998336-ad00-4fff-b048-c73c8c925673",
   "metadata": {
    "execution": {
     "iopub.execute_input": "2024-04-30T16:00:29.356436Z",
     "iopub.status.busy": "2024-04-30T16:00:29.352928Z",
     "iopub.status.idle": "2024-04-30T16:00:29.381248Z",
     "shell.execute_reply": "2024-04-30T16:00:29.380392Z",
     "shell.execute_reply.started": "2024-04-30T16:00:29.356363Z"
    }
   },
   "outputs": [],
   "source": [
    "def estimate_pbest(I_clicked_1, I_clicked_2):\n",
    "    counts = [0, 0]\n",
    "    num_samples = 100\n",
    "    for _ in range(num_samples):\n",
    "        ctr_1 = bootstrap_sample(I_clicked_1).mean()\n",
    "        ctr_2 = bootstrap_sample(I_clicked_2).mean()\n",
    "        if ctr_1 > ctr_2:\n",
    "            counts[0] += 1\n",
    "        elif ctr_2 > ctr_1:\n",
    "            counts[1] += 1\n",
    "        else:\n",
    "            pass\n",
    "    p_best = np.array(counts) / num_samples\n",
    "    return p_best"
   ]
  },
  {
   "cell_type": "markdown",
   "id": "94626333-b710-4208-8148-26afb0a5be54",
   "metadata": {},
   "source": [
    "### Estimate the probability that each arm is best"
   ]
  },
  {
   "cell_type": "code",
   "execution_count": 64,
   "id": "25a2d8b7-3df9-48b2-9dd3-4faec69a8b01",
   "metadata": {
    "execution": {
     "iopub.execute_input": "2024-04-30T16:02:07.086340Z",
     "iopub.status.busy": "2024-04-30T16:02:07.085905Z",
     "iopub.status.idle": "2024-04-30T16:02:07.096987Z",
     "shell.execute_reply": "2024-04-30T16:02:07.095659Z",
     "shell.execute_reply.started": "2024-04-30T16:02:07.086300Z"
    }
   },
   "outputs": [],
   "source": [
    "def estimate_pbest(I_clickeds):\n",
    "    counts = [0] * len(I_clickeds)\n",
    "    num_samples = 100\n",
    "\n",
    "    for _ in range(num_samples):\n",
    "        ctrs = [boostrap_sample(I_clicked).mean() for I_clicked in I_clickeds]\n",
    "        ctrs = np.array(ctrs)\n",
    "        i = np.where(ctrs == ctrs.max())[0]\n",
    "        if len(i) == 1:\n",
    "            counts[i[0]] += 1\n",
    "\n",
    "    return np.array(counts) / num_samples"
   ]
  },
  {
   "cell_type": "code",
   "execution_count": 66,
   "id": "bc148b63-a452-45b9-9464-06599d54ac14",
   "metadata": {
    "execution": {
     "iopub.execute_input": "2024-04-30T16:03:05.061659Z",
     "iopub.status.busy": "2024-04-30T16:03:05.060719Z",
     "iopub.status.idle": "2024-04-30T16:03:05.462126Z",
     "shell.execute_reply": "2024-04-30T16:03:05.461256Z",
     "shell.execute_reply.started": "2024-04-30T16:03:05.061611Z"
    }
   },
   "outputs": [
    {
     "data": {
      "text/plain": [
       "array([0.  , 0.  , 0.04, 0.94])"
      ]
     },
     "execution_count": 66,
     "metadata": {},
     "output_type": "execute_result"
    }
   ],
   "source": [
    "np.random.seed(17)\n",
    "I_clickeds = [None] * 4\n",
    "I_clickeds[0] = np.array([measure_click(ctr=0.003) for _ in range(10000)])\n",
    "I_clickeds[1] = np.array([measure_click(ctr=0.005) for _ in range(10000)])\n",
    "I_clickeds[2] = np.array([measure_click(ctr=0.007) for _ in range(10000)])\n",
    "I_clickeds[3] = np.array([measure_click(ctr=0.009) for _ in range(10000)])\n",
    "estimate_pbest(I_clickeds)"
   ]
  },
  {
   "cell_type": "markdown",
   "id": "2c904644-966b-4205-9956-556b7fd87589",
   "metadata": {},
   "source": [
    "### Randomized probability matching"
   ]
  },
  {
   "cell_type": "code",
   "execution_count": 67,
   "id": "ed769886-61c2-4338-805e-dcbfc055bbb0",
   "metadata": {
    "execution": {
     "iopub.execute_input": "2024-04-30T16:04:25.720715Z",
     "iopub.status.busy": "2024-04-30T16:04:25.695209Z",
     "iopub.status.idle": "2024-04-30T16:04:25.804885Z",
     "shell.execute_reply": "2024-04-30T16:04:25.802906Z",
     "shell.execute_reply.started": "2024-04-30T16:04:25.720653Z"
    }
   },
   "outputs": [],
   "source": [
    "def rpm_select_arm(I_clickeds):\n",
    "    ctrs = [boostrap_sample(I_clicked).mean() for I_clicked in I_clickeds]\n",
    "    ctrs = np.array(ctrs)\n",
    "    i = np.where(ctrs == ctrs.max())[0]\n",
    "    if len(i) != i:\n",
    "        return np.random.randint(len(I_clickeds))\n",
    "\n",
    "    return i[0]"
   ]
  },
  {
   "cell_type": "markdown",
   "id": "6e437a63-5267-483e-b97b-fb92d6edf80d",
   "metadata": {},
   "source": [
    "### Online Boostrap"
   ]
  },
  {
   "cell_type": "code",
   "execution_count": 69,
   "id": "f1fb3b0d-9cf2-451d-a2da-637dd2f33d67",
   "metadata": {
    "execution": {
     "iopub.execute_input": "2024-04-30T16:06:58.752699Z",
     "iopub.status.busy": "2024-04-30T16:06:58.746584Z",
     "iopub.status.idle": "2024-04-30T16:06:58.763018Z",
     "shell.execute_reply": "2024-04-30T16:06:58.761599Z",
     "shell.execute_reply.started": "2024-04-30T16:06:58.751974Z"
    }
   },
   "outputs": [],
   "source": [
    "class OnlineBoostrap:\n",
    "    def __init__(self, num_bs_means):\n",
    "        # Track number of bootstrap means for a single arm.\n",
    "        self._sums = np.zeros(shape=(num_bs_means,))\n",
    "        self._n = np.zeros(shape=(num_bs_means,))\n",
    "        self._count = 0\n",
    "\n",
    "    def append(self, clicked):\n",
    "        i = np.where(np.random.randint(2, size=(len(self._n))) == 0)[0]\n",
    "        self._sums[i] += clicked\n",
    "        self._n[i] += 1\n",
    "        self._count += 1\n",
    "\n",
    "    def CTR_estimate(self):\n",
    "        i = np.random.randint(len(self._n))\n",
    "        if self._n[i] == 0:\n",
    "            return np.inf\n",
    "        return self._sums[i] / self._n[i]\n",
    "\n",
    "    def count(self):\n",
    "        return self._count"
   ]
  },
  {
   "cell_type": "markdown",
   "id": "289331b2-b4f3-4f2f-9364-979c8d4fefba",
   "metadata": {},
   "source": [
    "### Randomized probability matching with the online bootstrap"
   ]
  },
  {
   "cell_type": "code",
   "execution_count": 71,
   "id": "2dc0b860-a279-4de4-8921-c47b10f14962",
   "metadata": {
    "execution": {
     "iopub.execute_input": "2024-04-30T16:09:23.542651Z",
     "iopub.status.busy": "2024-04-30T16:09:23.542195Z",
     "iopub.status.idle": "2024-04-30T16:09:23.556915Z",
     "shell.execute_reply": "2024-04-30T16:09:23.549514Z",
     "shell.execute_reply.started": "2024-04-30T16:09:23.542625Z"
    }
   },
   "outputs": [],
   "source": [
    "def rpm_select_arm_ob(obs):\n",
    "    ctrs = [ob.CTR_estimate() for ob in obs]\n",
    "    ctrs = np.array(ctrs)\n",
    "    i = np.where(ctrs == ctrs.max())[0]\n",
    "    return np.random.choice(i)"
   ]
  },
  {
   "cell_type": "markdown",
   "id": "97e58db6-811f-437b-9ffb-6fba498dcc09",
   "metadata": {},
   "source": [
    "## Estimate pbest with the online boostrap"
   ]
  },
  {
   "cell_type": "code",
   "execution_count": 72,
   "id": "fa9f70be-0d30-4779-81c6-8254b98098e5",
   "metadata": {
    "execution": {
     "iopub.execute_input": "2024-04-30T16:10:38.668893Z",
     "iopub.status.busy": "2024-04-30T16:10:38.668175Z",
     "iopub.status.idle": "2024-04-30T16:10:38.738656Z",
     "shell.execute_reply": "2024-04-30T16:10:38.691331Z",
     "shell.execute_reply.started": "2024-04-30T16:10:38.668850Z"
    }
   },
   "outputs": [],
   "source": [
    "def estimate_pbest_ob(obs):\n",
    "    counts = [0] * len(obs)\n",
    "    num_samples = 100\n",
    "    for _ in range(num_samples):\n",
    "        ctrs = [ob.CTR_estimate() for ob in obs]\n",
    "        ctrs = np.array(ctrs)\n",
    "        i = np.where(ctrs == ctrs.max())[0]\n",
    "        if len(i) == 1:\n",
    "            counts[i[0]] += 1\n",
    "\n",
    "    return np.array(counts) / num_samples"
   ]
  },
  {
   "cell_type": "markdown",
   "id": "4f56331a-44ea-46ca-93c9-3ecc4e8f8c3e",
   "metadata": {},
   "source": [
    "### Thompson sampling"
   ]
  },
  {
   "cell_type": "code",
   "execution_count": 75,
   "id": "3f61d14c-3c8b-4b55-91b2-0ac267ccbaf5",
   "metadata": {
    "execution": {
     "iopub.execute_input": "2024-04-30T16:18:46.447961Z",
     "iopub.status.busy": "2024-04-30T16:18:46.443867Z",
     "iopub.status.idle": "2024-04-30T16:18:46.483606Z",
     "shell.execute_reply": "2024-04-30T16:18:46.468220Z",
     "shell.execute_reply.started": "2024-04-30T16:18:46.447881Z"
    }
   },
   "outputs": [],
   "source": [
    "def thompson_sampling():\n",
    "    k = 4\n",
    "    num_bs_means = 100\n",
    "\n",
    "    # Stop when the probability of an arm being the best has reached 0.95\n",
    "    p_stop = 0.95\n",
    "    smallest_sum_difference = 1\n",
    "    prac_sig = 0.001\n",
    "\n",
    "    min_samples_per_arm = smallest_sum_difference / prac_sig\n",
    "    obs = [OnlineBoostrap(num_bs_means) for _ in range(k)]\n",
    "    sum_clicks = 0.0\n",
    "    num_ads = 0.0\n",
    "    ctr_vs_n = []\n",
    "\n",
    "    n = 0\n",
    "    while True:\n",
    "        num_samples_per_arm = [ob.count() for ob in obs]\n",
    "        i_too_few = np.where(np.array(num_samples_per_arm) < min_samples_per_arm)[0]\n",
    "        if len(i_too_few) > 0:\n",
    "            i_selected = np.random.choice(i_too_few)\n",
    "        else:\n",
    "            i_selected = rpm_select_arm_ob(obs)\n",
    "        i_clicked = measure_arm(i_selected)\n",
    "        obs[i_selected].append(i_clicked)\n",
    "        sum_clicks += i_clicked\n",
    "        num_ads += 1\n",
    "        ctr_vs_n.append(sum_clicks / num_ads)\n",
    "\n",
    "        n += 1\n",
    "\n",
    "        if len(i_too_few) == 0 and n % 100 == 0:\n",
    "            p_bests = estimate_pbest_ob(obs)\n",
    "            i_best_arm = np.where(p_bests == p_bests.max())[0]\n",
    "            if len(i_best_arm) == 1 and p_bests.max() >= p_stop:\n",
    "                break\n",
    "\n",
    "    return ctr_vs_n, i_best_arm"
   ]
  },
  {
   "cell_type": "code",
   "execution_count": 77,
   "id": "0f5eafe4-23de-42d9-84f7-7068cfaa2a17",
   "metadata": {
    "execution": {
     "iopub.execute_input": "2024-04-30T16:19:07.555176Z",
     "iopub.status.busy": "2024-04-30T16:19:07.554668Z",
     "iopub.status.idle": "2024-04-30T16:19:10.969387Z",
     "shell.execute_reply": "2024-04-30T16:19:10.968326Z",
     "shell.execute_reply.started": "2024-04-30T16:19:07.555145Z"
    }
   },
   "outputs": [
    {
     "data": {
      "image/png": "[encoded data removed]",
      "text/plain": [
       "<Figure size 640x480 with 1 Axes>"
      ]
     },
     "metadata": {},
     "output_type": "display_data"
    }
   ],
   "source": [
    "ctr_vs_n, i_best_arm = thompson_sampling()\n",
    "plt.plot(ctr_vs_n);"
   ]
  }
 ],
 "metadata": {
  "kernelspec": {
   "display_name": "Python 3 (ipykernel)",
   "language": "python",
   "name": "python3"
  },
  "language_info": {
   "codemirror_mode": {
    "name": "ipython",
    "version": 3
   },
   "file_extension": ".py",
   "mimetype": "text/x-python",
   "name": "python",
   "nbconvert_exporter": "python",
   "pygments_lexer": "ipython3",
   "version": "3.11.9"
  },
  "widgets": {
   "application/vnd.jupyter.widget-state+json": {
    "state": {},
    "version_major": 2,
    "version_minor": 0
   }
  }
 },
 "nbformat": 4,
 "nbformat_minor": 5
}
