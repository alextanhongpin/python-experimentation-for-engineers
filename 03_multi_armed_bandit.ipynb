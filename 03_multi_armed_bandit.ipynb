{
 "cells": [
  {
   "cell_type": "markdown",
   "id": "2f568cf2-0724-4440-886e-7817d9ee2ca6",
   "metadata": {},
   "source": [
    "# Multi-armed bandits: Maximizing business metrics while experimenting"
   ]
  },
  {
   "cell_type": "markdown",
   "id": "fad06a45-3f21-4d28-98cd-2f47f2b04b97",
   "metadata": {},
   "source": [
    "### Simulate measurement of click on an ad"
   ]
  },
  {
   "cell_type": "code",
   "execution_count": 2,
   "id": "a4046030-f8d9-48ea-9a17-dbbb9c95c293",
   "metadata": {
    "execution": {
     "iopub.execute_input": "2024-04-30T08:48:43.837028Z",
     "iopub.status.busy": "2024-04-30T08:48:43.836393Z",
     "iopub.status.idle": "2024-04-30T08:48:43.846906Z",
     "shell.execute_reply": "2024-04-30T08:48:43.845635Z",
     "shell.execute_reply.started": "2024-04-30T08:48:43.836990Z"
    }
   },
   "outputs": [],
   "source": [
    "def measure_click(ctr):\n",
    "    return 1 if np.random.uniform(0, 1) < ctr else 0\n",
    "\n",
    "\n",
    "def measure_a():\n",
    "    return measure_click(ctr=0.005)\n",
    "\n",
    "\n",
    "def measure_b():\n",
    "    return measure_click(ctr=0.007)"
   ]
  },
  {
   "cell_type": "markdown",
   "id": "576e342b-dfd9-4a22-966a-254b20f127b4",
   "metadata": {},
   "source": [
    "### Design an A/B test"
   ]
  },
  {
   "cell_type": "code",
   "execution_count": 3,
   "id": "1915cd00-c1b5-4e7d-949e-d4633a73fbac",
   "metadata": {
    "execution": {
     "iopub.execute_input": "2024-04-30T08:52:27.100836Z",
     "iopub.status.busy": "2024-04-30T08:52:27.099200Z",
     "iopub.status.idle": "2024-04-30T08:52:27.134673Z",
     "shell.execute_reply": "2024-04-30T08:52:27.118458Z",
     "shell.execute_reply.started": "2024-04-30T08:52:27.100775Z"
    }
   },
   "outputs": [],
   "source": [
    "def design_ab_test():\n",
    "    def pilot_study(num_pilot_measurements):\n",
    "        clicked_pre_a = np.array([measure_a() for _ in range(num_pilot_measurements)])\n",
    "        clicked_pre_b = np.array([measure_b() for _ in range(num_pilot_measurements)])\n",
    "\n",
    "        sd_1 = np.sqrt(clicked_pre_a.std() ** 2 + clicked_pre_b.std() ** 2)\n",
    "        return sd_1\n",
    "\n",
    "    # Run a pilot study to measure sd_1.\n",
    "    sd_1 = pilot_study(1000)\n",
    "\n",
    "    # Define a practical significance level of 0.001 (0.1%)\n",
    "    prac_sig = 0.001\n",
    "\n",
    "    # Calculate the number of individual measurements.\n",
    "    num_ind = (2.48 * sd_1 / prac_sig) ** 2\n",
    "    return int(num_ind)"
   ]
  },
  {
   "cell_type": "code",
   "execution_count": 4,
   "id": "eb9f361a-bd3e-474c-afbb-6f78314a825b",
   "metadata": {
    "execution": {
     "iopub.execute_input": "2024-04-30T08:52:43.433099Z",
     "iopub.status.busy": "2024-04-30T08:52:43.431643Z",
     "iopub.status.idle": "2024-04-30T08:52:44.018742Z",
     "shell.execute_reply": "2024-04-30T08:52:44.015811Z",
     "shell.execute_reply.started": "2024-04-30T08:52:43.433044Z"
    }
   },
   "outputs": [
    {
     "data": {
      "text/plain": [
       "91561"
      ]
     },
     "execution_count": 4,
     "metadata": {},
     "output_type": "execute_result"
    }
   ],
   "source": [
    "import numpy as np\n",
    "\n",
    "np.random.seed(17)\n",
    "num_ind = design_ab_test()\n",
    "num_ind"
   ]
  },
  {
   "cell_type": "markdown",
   "id": "f466c4f6-cf49-481d-9c84-f47ab134570c",
   "metadata": {},
   "source": [
    "Observation:\n",
    "91,561 individual measurements are required.\n",
    "\n",
    "Say you have the following data:\n",
    "- CPC = cost per click of $1\n",
    "- CTR = click through rate of 0.5%\n",
    "\n",
    "How much does it take to earn $100,000 per year? \n",
    "\n",
    "$$ CTR \\times CPC \\times \\frac{ads}{day} \\times \\frac{days}{year} = [\\text{\\$100,000 revenue}]$$"
   ]
  },
  {
   "cell_type": "code",
   "execution_count": 13,
   "id": "44a5d7ec-8a53-4d72-a48d-b808497a94fe",
   "metadata": {
    "execution": {
     "iopub.execute_input": "2024-04-30T09:03:41.237404Z",
     "iopub.status.busy": "2024-04-30T09:03:41.236907Z",
     "iopub.status.idle": "2024-04-30T09:03:41.279064Z",
     "shell.execute_reply": "2024-04-30T09:03:41.248016Z",
     "shell.execute_reply.started": "2024-04-30T09:03:41.237369Z"
    }
   },
   "outputs": [
    {
     "name": "stdout",
     "output_type": "stream",
     "text": [
      "54795 ads per day\n"
     ]
    }
   ],
   "source": [
    "import math\n",
    "\n",
    "n = math.ceil(100000 / 365 / 1 / 0.005)\n",
    "print(f\"{n} ads per day\")"
   ]
  },
  {
   "cell_type": "code",
   "execution_count": 15,
   "id": "a213c51d-5aaf-41f5-a92c-688089adda43",
   "metadata": {
    "execution": {
     "iopub.execute_input": "2024-04-30T09:05:07.787009Z",
     "iopub.status.busy": "2024-04-30T09:05:07.758988Z",
     "iopub.status.idle": "2024-04-30T09:05:07.801761Z",
     "shell.execute_reply": "2024-04-30T09:05:07.796335Z",
     "shell.execute_reply.started": "2024-04-30T09:05:07.786938Z"
    }
   },
   "outputs": [],
   "source": [
    "def run_ab_test(num_ind):\n",
    "    clicked_a = []\n",
    "    clicked_b = []\n",
    "\n",
    "    for n in range(num_ind):\n",
    "        # Randomize between A and B\n",
    "        if np.random.uniform(0, 1) < 0.5:\n",
    "            clicked = measure_a()\n",
    "            clicked_a.append(clicked)\n",
    "        else:\n",
    "            clicked = measure_b()\n",
    "            clicked_b.append(clicked)\n",
    "\n",
    "    clicked_a = np.array(clicked_a)\n",
    "    clicked_b = np.array(clicked_b)\n",
    "\n",
    "    return clicked_a, clicked_b"
   ]
  },
  {
   "cell_type": "markdown",
   "id": "cc877f02-724a-4519-af2f-6bd156cdb4ba",
   "metadata": {},
   "source": [
    "### Analyze the A/B test data"
   ]
  },
  {
   "cell_type": "code",
   "execution_count": 17,
   "id": "cbc43bed-b40d-4573-80d4-000dedae0f55",
   "metadata": {
    "execution": {
     "iopub.execute_input": "2024-04-30T09:10:58.438153Z",
     "iopub.status.busy": "2024-04-30T09:10:58.437769Z",
     "iopub.status.idle": "2024-04-30T09:10:58.456295Z",
     "shell.execute_reply": "2024-04-30T09:10:58.454768Z",
     "shell.execute_reply.started": "2024-04-30T09:10:58.438126Z"
    }
   },
   "outputs": [],
   "source": [
    "def analyze_ab_test(clicked_a, clicked_b, num_ind):\n",
    "    mean_a = clicked_a.mean()\n",
    "    mean_b = clicked_b.mean()\n",
    "    std_a = clicked_a.std()\n",
    "    std_b = clicked_b.std()\n",
    "\n",
    "    # Calculate the difference of mean click rates, m and the standard error, se.\n",
    "    m = mean_b - mean_a\n",
    "    se = np.sqrt((std_a**2 + std_b**2) / num_ind)\n",
    "\n",
    "    # Calculate the z-score, which determines whether we accept or reject version B.\n",
    "    z = m / se\n",
    "\n",
    "    return z"
   ]
  },
  {
   "cell_type": "code",
   "execution_count": 18,
   "id": "6de3147e-cbea-4511-9a9e-0eaea736bfe6",
   "metadata": {
    "execution": {
     "iopub.execute_input": "2024-04-30T09:12:28.185715Z",
     "iopub.status.busy": "2024-04-30T09:12:28.185044Z",
     "iopub.status.idle": "2024-04-30T09:12:29.286049Z",
     "shell.execute_reply": "2024-04-30T09:12:29.282608Z",
     "shell.execute_reply.started": "2024-04-30T09:12:28.185672Z"
    }
   },
   "outputs": [
    {
     "data": {
      "text/plain": [
       "(91561, 2.954555022088617)"
      ]
     },
     "execution_count": 18,
     "metadata": {},
     "output_type": "execute_result"
    }
   ],
   "source": [
    "np.random.seed(17)\n",
    "num_ind = design_ab_test()\n",
    "clicked_a, clicked_b = run_ab_test(num_ind)\n",
    "z = analyze_ab_test(clicked_a, clicked_b, num_ind)\n",
    "num_ind, z"
   ]
  },
  {
   "cell_type": "markdown",
   "id": "b5d97c7a-a270-4cf1-9ef9-bf3dfc24d240",
   "metadata": {},
   "source": [
    "Observation: Since z = 2.95 (z > 1.64), we would accept the change and replace model A with model B."
   ]
  },
  {
   "cell_type": "markdown",
   "id": "7896b405-19f3-430c-b57d-55c9a5393b21",
   "metadata": {},
   "source": [
    "### Trace the CTR as the A/B test runs."
   ]
  },
  {
   "cell_type": "code",
   "execution_count": 19,
   "id": "3ad5031a-190f-4efb-847f-ce4b940b3e68",
   "metadata": {
    "execution": {
     "iopub.execute_input": "2024-04-30T09:25:10.045741Z",
     "iopub.status.busy": "2024-04-30T09:25:10.043146Z",
     "iopub.status.idle": "2024-04-30T09:25:10.064290Z",
     "shell.execute_reply": "2024-04-30T09:25:10.063010Z",
     "shell.execute_reply.started": "2024-04-30T09:25:10.045688Z"
    }
   },
   "outputs": [],
   "source": [
    "def ab_test(num_ind):\n",
    "    sum_clicks = 0.0\n",
    "    num_ads = 0.0\n",
    "    sum_a, sum_b = 0.0, 0.0\n",
    "    num_a, num_b = 0, 0\n",
    "\n",
    "    ctr_vs_n = []\n",
    "    ctr_a = []\n",
    "    ctr_b = []\n",
    "\n",
    "    for n in range(num_ind):\n",
    "        if np.random.uniform(0, 1) < 0.5:\n",
    "            clicked = measure_a()\n",
    "            sum_a += clicked\n",
    "            num_a += 1\n",
    "        else:\n",
    "            clicked = measure_b()\n",
    "            sum_b += clicked\n",
    "            num_b += 1\n",
    "        sum_clicks += clicked\n",
    "        num_ads += 1\n",
    "        if num_a > 0 and num_b > 0:\n",
    "            ctr_a.append(sum_a / num_a)\n",
    "            ctr_b.append(sum_b / num_b)\n",
    "            ctr_vs_n.append(sum_clicks / num_ads)\n",
    "\n",
    "    return ctr_vs_n, ctr_a, ctr_b"
   ]
  },
  {
   "cell_type": "code",
   "execution_count": 20,
   "id": "9b390b55-3c6b-4625-ae6a-94d3fd0ca9ba",
   "metadata": {
    "execution": {
     "iopub.execute_input": "2024-04-30T09:31:30.417775Z",
     "iopub.status.busy": "2024-04-30T09:31:30.416956Z",
     "iopub.status.idle": "2024-04-30T09:31:30.466147Z",
     "shell.execute_reply": "2024-04-30T09:31:30.454168Z",
     "shell.execute_reply.started": "2024-04-30T09:31:30.417725Z"
    }
   },
   "outputs": [],
   "source": [
    "def epsilon_greedy(num_ind, epsilon):\n",
    "    sum_clicks = 0.0\n",
    "    num_ads = 0.0\n",
    "    sum_a, sum_b = 0.0, 0.0\n",
    "    num_a, num_b = 0, 0\n",
    "    ctr_vs_n = []\n",
    "    used_b = []\n",
    "\n",
    "    for _ in range(num_ind):\n",
    "        select = \"Randomize\"\n",
    "        if np.random.uniform(0, 1) < 1 - epsilon:\n",
    "            ctr_a = sum_a / num_a if num_a > 0 else 0\n",
    "            ctr_b = sum_b / num_b if num_b > 0 else 0\n",
    "            if ctr_a > ctr_b:\n",
    "                select = \"A\"\n",
    "            elif ctr_b > ctr_a:\n",
    "                select = \"B\"\n",
    "        if select == \"Randomize\":\n",
    "            if np.random.uniform(0, 1) < 0.5:\n",
    "                select = \"A\"\n",
    "            else:\n",
    "                select = \"B\"\n",
    "\n",
    "        if select == \"A\":\n",
    "            clicked = measure_a()\n",
    "            sum_a += clicked\n",
    "            num_a += 1\n",
    "            used_b.append(False)\n",
    "        else:\n",
    "            clicked = measure_b()\n",
    "            sum_b += clicked\n",
    "            num_b += 1\n",
    "            used_b.append(True)\n",
    "        sum_clicks += clicked\n",
    "        num_ads += 1\n",
    "\n",
    "        ctr_vs_n.append(sum_clicks / num_ads)\n",
    "    return ctr_vs_n, used_b"
   ]
  },
  {
   "cell_type": "code",
   "execution_count": null,
   "id": "273ee317-986f-4045-8882-f51bf761eca7",
   "metadata": {},
   "outputs": [],
   "source": []
  }
 ],
 "metadata": {
  "kernelspec": {
   "display_name": "Python 3 (ipykernel)",
   "language": "python",
   "name": "python3"
  },
  "language_info": {
   "codemirror_mode": {
    "name": "ipython",
    "version": 3
   },
   "file_extension": ".py",
   "mimetype": "text/x-python",
   "name": "python",
   "nbconvert_exporter": "python",
   "pygments_lexer": "ipython3",
   "version": "3.11.9"
  },
  "widgets": {
   "application/vnd.jupyter.widget-state+json": {
    "state": {},
    "version_major": 2,
    "version_minor": 0
   }
  }
 },
 "nbformat": 4,
 "nbformat_minor": 5
}
