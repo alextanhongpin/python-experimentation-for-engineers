{
 "cells": [
  {
   "cell_type": "markdown",
   "id": "c0ad2750-433c-41b1-853e-942f6a877097",
   "metadata": {},
   "source": [
    "# A/B testing: Evaluating a modification to your system\n",
    "\n",
    "Three steps in A/B testing:\n",
    "- design: how many measurements to take\n",
    "- measure: use randomization to measure\n",
    "- analyze: compare the busines metric estimates of A and B"
   ]
  },
  {
   "cell_type": "markdown",
   "id": "50969ab1-a46b-4862-8050-b77504e06c67",
   "metadata": {},
   "source": [
    "See here https://rowannicholls.github.io/python/statistics/sample_size.html\n",
    "\n",
    "The calculation should be similar to [2.1.2 Two × One-Sided Equality](https://rowannicholls.github.io/python/statistics/sample_size.html)\n",
    "\n",
    "https://www.statology.org/z-test-python/"
   ]
  },
  {
   "cell_type": "markdown",
   "id": "cf4e404c-a859-48b7-81f3-7ebaf48b0cbe",
   "metadata": {
    "execution": {
     "iopub.execute_input": "2024-04-24T07:23:58.300177Z",
     "iopub.status.busy": "2024-04-24T07:23:58.298022Z",
     "iopub.status.idle": "2024-04-24T07:23:58.317393Z",
     "shell.execute_reply": "2024-04-24T07:23:58.314472Z",
     "shell.execute_reply.started": "2024-04-24T07:23:58.300101Z"
    }
   },
   "source": [
    "## Simulate the trading system"
   ]
  },
  {
   "cell_type": "code",
   "execution_count": 1,
   "id": "9d8ec736-999f-44cb-b913-e4e5d9d4c070",
   "metadata": {},
   "outputs": [],
   "source": [
    "import numpy as np\n",
    "\n",
    "\n",
    "def trading_system(exchange):\n",
    "    if exchange == \"ASDAQ\":\n",
    "        execution_cost = 12\n",
    "    elif exchange == \"BYSE\":\n",
    "        execution_cost = 10\n",
    "    else:\n",
    "        raise ValueError(\"unknown exchange: {}\".format(exchange))\n",
    "    execution_cost += np.random.normal()\n",
    "    return execution_cost"
   ]
  },
  {
   "cell_type": "code",
   "execution_count": 2,
   "id": "86a9198c-8c4e-4650-ad66-08883d1bfdcd",
   "metadata": {},
   "outputs": [
    {
     "data": {
      "text/plain": [
       "12.27626589002132"
      ]
     },
     "execution_count": 2,
     "metadata": {},
     "output_type": "execute_result"
    }
   ],
   "source": [
    "np.random.seed(17)\n",
    "\n",
    "trading_system(\"ASDAQ\")"
   ]
  },
  {
   "cell_type": "markdown",
   "id": "41c82181-a052-401f-b4ff-558c5688607c",
   "metadata": {},
   "source": [
    "## Compare execution cost"
   ]
  },
  {
   "cell_type": "code",
   "execution_count": 3,
   "id": "f2429a7c-2988-4fb7-ac88-871808a29445",
   "metadata": {},
   "outputs": [
    {
     "name": "stdout",
     "output_type": "stream",
     "text": [
      "12.27626589002132\n",
      "8.145371921193496\n"
     ]
    }
   ],
   "source": [
    "np.random.seed(17)\n",
    "\n",
    "print(trading_system(\"ASDAQ\"))\n",
    "print(trading_system(\"BYSE\"))"
   ]
  },
  {
   "cell_type": "markdown",
   "id": "98dfd278-3090-4b05-acba-117a84a4a0e6",
   "metadata": {},
   "source": [
    "Observation: it is cheaper to trade on BYSE"
   ]
  },
  {
   "cell_type": "code",
   "execution_count": 4,
   "id": "3dde279c-1198-4c61-b234-033879274d16",
   "metadata": {},
   "outputs": [
    {
     "name": "stdout",
     "output_type": "stream",
     "text": [
      "12.079428443806204\n",
      "12.190202357414222\n"
     ]
    }
   ],
   "source": [
    "np.random.seed(18)\n",
    "\n",
    "print(trading_system(\"ASDAQ\"))\n",
    "print(trading_system(\"BYSE\"))"
   ]
  },
  {
   "cell_type": "markdown",
   "id": "153c8aaf-0cc8-4bf6-8b3c-d9ac72a2e508",
   "metadata": {},
   "source": [
    "Observation: it is now cheaper to trade on ASDAQ. The measure value varies from measurement to measurement."
   ]
  },
  {
   "cell_type": "markdown",
   "id": "4e891822-ed2c-407e-9aa3-50032a4fb0a5",
   "metadata": {},
   "source": [
    "### Variation"
   ]
  },
  {
   "cell_type": "code",
   "execution_count": 5,
   "id": "fb2454c7-05b1-49a2-9840-95b515e6aa9c",
   "metadata": {},
   "outputs": [
    {
     "name": "stdout",
     "output_type": "stream",
     "text": [
      "12.111509794247766\n",
      "10.008382946497413\n"
     ]
    }
   ],
   "source": [
    "np.random.seed(17)\n",
    "\n",
    "print(np.array([trading_system(\"ASDAQ\") for _ in range(100)]).mean())\n",
    "print(np.array([trading_system(\"BYSE\") for _ in range(100)]).mean())"
   ]
  },
  {
   "cell_type": "code",
   "execution_count": 6,
   "id": "e9cee972-81e8-489b-92d5-94b4d3980217",
   "metadata": {},
   "outputs": [
    {
     "name": "stdout",
     "output_type": "stream",
     "text": [
      "11.880880186907996\n",
      "9.99591773728191\n"
     ]
    }
   ],
   "source": [
    "print(np.array([trading_system(\"ASDAQ\") for _ in range(100)]).mean())\n",
    "print(np.array([trading_system(\"BYSE\") for _ in range(100)]).mean())"
   ]
  },
  {
   "cell_type": "markdown",
   "id": "4720c24c-8ff6-4d51-851d-13bdf654e5ae",
   "metadata": {},
   "source": [
    "### Bias\n",
    "\n",
    "Below is a simulator that accounts for time of day (tod)."
   ]
  },
  {
   "cell_type": "code",
   "execution_count": 7,
   "id": "e136c084-668b-40a9-9768-7c19bac8da47",
   "metadata": {},
   "outputs": [],
   "source": [
    "def trading_system_tod(exchange, time_of_day):\n",
    "    if time_of_day == \"morning\":\n",
    "        bias = 2.5\n",
    "    elif time_of_day == \"afternoon\":\n",
    "        bias = 0\n",
    "    else:\n",
    "        raise ValueError(\"unknown time of day: {}\".format(time_of_day))\n",
    "    return bias + trading_system(exchange)"
   ]
  },
  {
   "cell_type": "code",
   "execution_count": 8,
   "id": "77035153-8809-4f28-9cb2-c78c036b9d59",
   "metadata": {},
   "outputs": [
    {
     "name": "stdout",
     "output_type": "stream",
     "text": [
      "14.611509794247766\n",
      "12.008382946497411\n"
     ]
    }
   ],
   "source": [
    "np.random.seed(17)\n",
    "\n",
    "print(np.array([trading_system_tod(\"ASDAQ\", \"morning\") for _ in range(100)]).mean())\n",
    "print(np.array([trading_system_tod(\"ASDAQ\", \"afternoon\") for _ in range(100)]).mean())"
   ]
  },
  {
   "cell_type": "markdown",
   "id": "9a6407e4-7887-4ec9-a0e3-27a2c4283252",
   "metadata": {},
   "source": [
    "Observation: it is cheaper to trade in the afternoon."
   ]
  },
  {
   "cell_type": "code",
   "execution_count": 9,
   "id": "f53ba36d-c04e-4d85-bbc4-7ce497222733",
   "metadata": {},
   "outputs": [
    {
     "name": "stdout",
     "output_type": "stream",
     "text": [
      "12.611509794247766\n",
      "12.008382946497411\n"
     ]
    }
   ],
   "source": [
    "np.random.seed(17)\n",
    "\n",
    "print(np.array([trading_system_tod(\"BYSE\", \"morning\") for _ in range(100)]).mean())\n",
    "print(np.array([trading_system_tod(\"ASDAQ\", \"afternoon\") for _ in range(100)]).mean())"
   ]
  },
  {
   "cell_type": "markdown",
   "id": "ab6fa44e-1d7c-4534-9df3-8fe8faf05099",
   "metadata": {},
   "source": [
    "Observation: ASDAQ is more expensive, but it would appear as if it is cheaper than BYSE if traded during the afternoon."
   ]
  },
  {
   "cell_type": "markdown",
   "id": "5d19c53a-cf59-424e-84ba-032164d3185a",
   "metadata": {},
   "source": [
    "### Randomization\n",
    "\n",
    "To remove __confounder bias__ (when a bias is applied differently and consistently), we apply __randomization__ when taking measurements."
   ]
  },
  {
   "cell_type": "code",
   "execution_count": 10,
   "id": "b2c68450-93be-4f75-800b-c52a22514003",
   "metadata": {},
   "outputs": [],
   "source": [
    "def randomized_measurement():\n",
    "    asdaq_measurement = []\n",
    "    byse_measurement = []\n",
    "    for tod in [\"morning\", \"afternoon\"]:\n",
    "        for _ in range(100):\n",
    "            if np.random.randint(2) == 0:\n",
    "                asdaq_measurement.append(trading_system_tod(\"ASDAQ\", tod))\n",
    "            else:\n",
    "                byse_measurement.append(trading_system_tod(\"BYSE\", tod))\n",
    "    return np.array(asdaq_measurement).mean(), np.array(byse_measurement).mean()"
   ]
  },
  {
   "cell_type": "code",
   "execution_count": 11,
   "id": "336ff059-8d8f-4e91-b722-9ca910909bed",
   "metadata": {},
   "outputs": [
    {
     "data": {
      "text/plain": [
       "(13.39588870623852, 11.259639285763223)"
      ]
     },
     "execution_count": 11,
     "metadata": {},
     "output_type": "execute_result"
    }
   ],
   "source": [
    "np.random.seed(17)\n",
    "\n",
    "randomized_measurement()"
   ]
  },
  {
   "cell_type": "markdown",
   "id": "a3e3e5dd-13f8-4371-9a04-86219ae259df",
   "metadata": {
    "execution": {
     "iopub.execute_input": "2024-04-24T07:43:21.246266Z",
     "iopub.status.busy": "2024-04-24T07:43:21.244228Z",
     "iopub.status.idle": "2024-04-24T07:43:21.323424Z",
     "shell.execute_reply": "2024-04-24T07:43:21.292005Z",
     "shell.execute_reply.started": "2024-04-24T07:43:21.246211Z"
    }
   },
   "source": [
    "## Take a precise measurement"
   ]
  },
  {
   "cell_type": "markdown",
   "id": "607b1298-1df8-45a1-bac0-00c4f95d7ad5",
   "metadata": {},
   "source": [
    "### Mitigate measurement variation with replication"
   ]
  },
  {
   "cell_type": "code",
   "execution_count": 12,
   "id": "ec09e863-ef35-4d79-9186-838218277f70",
   "metadata": {},
   "outputs": [
    {
     "data": {
      "text/plain": [
       "array([12.27626589, 10.14537192, 12.62390111])"
      ]
     },
     "execution_count": 12,
     "metadata": {},
     "output_type": "execute_result"
    }
   ],
   "source": [
    "np.random.seed(17)\n",
    "\n",
    "measurements = np.array([trading_system(\"ASDAQ\") for _ in range(3)])\n",
    "measurements"
   ]
  },
  {
   "cell_type": "code",
   "execution_count": 13,
   "id": "ca1b81cc-7fb8-4c2e-b3de-785ca1524b0f",
   "metadata": {},
   "outputs": [
    {
     "data": {
      "text/plain": [
       "11.681846307513723"
      ]
     },
     "execution_count": 13,
     "metadata": {},
     "output_type": "execute_result"
    }
   ],
   "source": [
    "measurements.mean()"
   ]
  },
  {
   "cell_type": "code",
   "execution_count": 14,
   "id": "44c359aa-f2ba-4667-bdb6-a877134e0cf4",
   "metadata": {},
   "outputs": [
    {
     "data": {
      "text/plain": [
       "array([ 0.27626589, -1.85462808,  0.62390111])"
      ]
     },
     "execution_count": 14,
     "metadata": {},
     "output_type": "execute_result"
    }
   ],
   "source": [
    "measurements - 12"
   ]
  },
  {
   "cell_type": "code",
   "execution_count": 15,
   "id": "6589dd30-9028-4440-a391-5bba3da837c4",
   "metadata": {},
   "outputs": [
    {
     "data": {
      "text/plain": [
       "-0.3181536924862769"
      ]
     },
     "execution_count": 15,
     "metadata": {},
     "output_type": "execute_result"
    }
   ],
   "source": [
    "measurements.mean() - 12"
   ]
  },
  {
   "cell_type": "code",
   "execution_count": 16,
   "id": "f530a349-5e8d-4154-a2ad-caa02a2c194d",
   "metadata": {},
   "outputs": [],
   "source": [
    "def aggregate_measurement(exchange, num_individual_measurements):\n",
    "    individual_measurements = np.array(\n",
    "        [trading_system(exchange) for _ in range(num_individual_measurements)]\n",
    "    )\n",
    "    return individual_measurements.mean()"
   ]
  },
  {
   "cell_type": "code",
   "execution_count": 17,
   "id": "6e443692-bef8-40e6-9b55-eb62f0acd542",
   "metadata": {},
   "outputs": [
    {
     "name": "stdout",
     "output_type": "stream",
     "text": [
      "12.000257642551059\n",
      "10.051095649188758\n"
     ]
    }
   ],
   "source": [
    "np.random.seed(17)\n",
    "\n",
    "print(aggregate_measurement(\"ASDAQ\", 300))\n",
    "print(aggregate_measurement(\"BYSE\", 300))"
   ]
  },
  {
   "cell_type": "code",
   "execution_count": 18,
   "id": "8cef663b-09c5-4d4d-82a2-e350e081aee9",
   "metadata": {},
   "outputs": [
    {
     "name": "stdout",
     "output_type": "stream",
     "text": [
      "11.987318214094266\n",
      "10.021053044438455\n"
     ]
    }
   ],
   "source": [
    "print(aggregate_measurement(\"ASDAQ\", 300))\n",
    "print(aggregate_measurement(\"BYSE\", 300))"
   ]
  },
  {
   "cell_type": "markdown",
   "id": "c878c95c-1172-41be-a003-7d6bfdf27ab0",
   "metadata": {},
   "source": [
    "### Standard Error"
   ]
  },
  {
   "cell_type": "code",
   "execution_count": 19,
   "id": "7aecdae7-72d0-4f93-816f-036af279d039",
   "metadata": {},
   "outputs": [
    {
     "data": {
      "text/plain": [
       "(0.5778543829446465, 0.1794924850151226, 0.058012150188856464)"
      ]
     },
     "execution_count": 19,
     "metadata": {},
     "output_type": "execute_result"
    }
   ],
   "source": [
    "agg_3 = np.array([aggregate_measurement(\"ASDAQ\", 3) for _ in range(1000)])\n",
    "agg_30 = np.array([aggregate_measurement(\"ASDAQ\", 30) for _ in range(1000)])\n",
    "agg_300 = np.array([aggregate_measurement(\"ASDAQ\", 300) for _ in range(1000)])\n",
    "\n",
    "agg_3.std(), agg_30.std(), agg_300.std()"
   ]
  },
  {
   "cell_type": "markdown",
   "id": "e7ad2354-9a53-407c-8e7c-06e3b4c35d0b",
   "metadata": {},
   "source": [
    "Observation: the standard deviation decreases as the number of individual measurements in each aggregate measurement increases."
   ]
  },
  {
   "cell_type": "code",
   "execution_count": 20,
   "id": "e6f6ec4a-7c9f-4345-a9b5-4a397177d138",
   "metadata": {},
   "outputs": [],
   "source": [
    "def standard_error(measurements):\n",
    "    return measurements.std() / np.sqrt(len(measurements))"
   ]
  },
  {
   "cell_type": "code",
   "execution_count": 21,
   "id": "75a1b1fe-d259-4f30-a56f-800c5acb84aa",
   "metadata": {},
   "outputs": [],
   "source": [
    "def aggregate_measurement_with_se(exchange, num_individual_measurements):\n",
    "    individual_measurements = np.array(\n",
    "        [trading_system(exchange) for _ in range(num_individual_measurements)]\n",
    "    )\n",
    "    aggregate_measurement = individual_measurements.mean()\n",
    "    return aggregate_measurement, standard_error(individual_measurements)"
   ]
  },
  {
   "cell_type": "code",
   "execution_count": 22,
   "id": "09139ad4-e60f-4dbe-a762-fee674af7476",
   "metadata": {},
   "outputs": [
    {
     "name": "stdout",
     "output_type": "stream",
     "text": [
      "(12.000257642551059, 0.060254756364981225)\n",
      "(10.051095649188758, 0.05714189794415452)\n"
     ]
    }
   ],
   "source": [
    "np.random.seed(17)\n",
    "\n",
    "print(aggregate_measurement_with_se(\"ASDAQ\", 300))\n",
    "print(aggregate_measurement_with_se(\"BYSE\", 300))"
   ]
  },
  {
   "cell_type": "markdown",
   "id": "95645256-d4a5-4335-835f-36891110685e",
   "metadata": {},
   "source": [
    "## Run an A/B test"
   ]
  },
  {
   "cell_type": "markdown",
   "id": "79c58734-52bb-45c1-8568-95ebbf649ca6",
   "metadata": {},
   "source": [
    "### Analyze your measurements"
   ]
  },
  {
   "cell_type": "code",
   "execution_count": 23,
   "id": "33216599-6851-4b24-a370-e7aaf51ce6c7",
   "metadata": {},
   "outputs": [
    {
     "data": {
      "text/plain": [
       "-4.4851273191475025"
      ]
     },
     "execution_count": 23,
     "metadata": {},
     "output_type": "execute_result"
    }
   ],
   "source": [
    "np.random.seed(17)\n",
    "\n",
    "num_individual_measurements = 10\n",
    "agg_asdaq, se_asdaq = aggregate_measurement_with_se(\n",
    "    \"ASDAQ\", num_individual_measurements\n",
    ")\n",
    "agg_byse, se_byse = aggregate_measurement_with_se(\"BYSE\", num_individual_measurements)\n",
    "delta = agg_byse - agg_asdaq\n",
    "se_delta = np.sqrt(se_byse**2 + se_asdaq**2)\n",
    "z_score = delta / se_delta\n",
    "z_score"
   ]
  },
  {
   "cell_type": "code",
   "execution_count": 24,
   "id": "d8cd5ad7-b35a-4234-9efa-92e6633995a5",
   "metadata": {},
   "outputs": [
    {
     "name": "stdout",
     "output_type": "stream",
     "text": [
      "1.2815515655446004\n",
      "0.9494974165258963\n",
      "0.050502583474103704 0.10100516694820741\n",
      "\n",
      "1.644853626951472\n",
      "0.9750021048517795\n",
      "0.04999579029644087\n",
      "\n",
      "2.3263478740408408\n",
      "0.995002467684265\n",
      "0.009995064631470029\n"
     ]
    }
   ],
   "source": [
    "import scipy.stats as st\n",
    "\n",
    "# 90% confidence interval.\n",
    "print(st.norm.ppf(1 - 0.1))  # z-score from p-value\n",
    "print(st.norm.cdf(1.64))  # z-score to p-value\n",
    "print(\n",
    "    st.norm.sf(abs(1.64)), st.norm.sf(abs(1.64)) * 2\n",
    ")  # z-score to p-value, sf: survival function is 1-cdf\n",
    "print()\n",
    "\n",
    "# 95% confidence interval.\n",
    "print(st.norm.ppf(1 - 0.05))  # z-score from p-value\n",
    "print(st.norm.cdf(1.96))  # z-score to p-value\n",
    "print(st.norm.sf(abs(1.96)) * 2)  # z-score to p-value\n",
    "print()\n",
    "\n",
    "# 99% confidence interval.\n",
    "print(st.norm.ppf(1 - 0.01))\n",
    "print(st.norm.cdf(2.576))\n",
    "print(st.norm.sf(abs(2.576)) * 2)  # z-score to p-value"
   ]
  },
  {
   "cell_type": "code",
   "execution_count": 25,
   "id": "d1e81baf-8eab-48d1-8b88-c387e5a5c8df",
   "metadata": {},
   "outputs": [
    {
     "name": "stdout",
     "output_type": "stream",
     "text": [
      "0.31731050786291415\n",
      "0.04999579029644087\n",
      "0.013138238271093524\n",
      "5.733031437583869e-07\n"
     ]
    }
   ],
   "source": [
    "for z_score in [1, 1.96, 2.48, 5.0]:\n",
    "    p_value = st.norm.sf(abs(z_score)) * 2  # two-tailed test\n",
    "    print(p_value)"
   ]
  },
  {
   "cell_type": "markdown",
   "id": "5a71b7d5-5835-45d2-93ee-b2b6ca2d60a0",
   "metadata": {},
   "source": [
    "We know we can reject the null hypothesis is the value is below alpha of 0.05%:\n",
    "\n",
    "```python\n",
    "1 - scipy.stats.norm.cdf((x-mu)/(std/np.sqrt(n)) < alpha\n",
    "```\n",
    "Where\n",
    "- x = sample mean\n",
    "- mu = population mean\n",
    "- std = population standard deviation\n",
    "\n",
    "We can use it to solve `n`, which is the population mean:\n",
    "\n",
    "```python\n",
    "np.sqrt(n) > std * scipy.stats.norm.ppf(1 - alpha) / (x - mu)\n",
    "```"
   ]
  },
  {
   "cell_type": "markdown",
   "id": "95afe2cc-c72c-465f-98da-e9addf254e00",
   "metadata": {},
   "source": [
    "### Design the A/B test"
   ]
  },
  {
   "cell_type": "code",
   "execution_count": 26,
   "id": "f9a9eec5-e68b-43a3-a277-e5ee291c327e",
   "metadata": {},
   "outputs": [],
   "source": [
    "def ab_test_design(sd_1_delta, practical_significance):\n",
    "    num_individual_measurements = (1.64 * sd_1_delta / practical_significance) ** 2\n",
    "    print(num_individual_measurements)\n",
    "    return np.ceil(num_individual_measurements)"
   ]
  },
  {
   "cell_type": "code",
   "execution_count": 27,
   "id": "ab6e7276-19e2-43a1-bf1d-b5773e7352f1",
   "metadata": {
    "scrolled": true
   },
   "outputs": [
    {
     "name": "stdout",
     "output_type": "stream",
     "text": [
      "6.75708875830369\n"
     ]
    },
    {
     "data": {
      "text/plain": [
       "7.0"
      ]
     },
     "execution_count": 27,
     "metadata": {},
     "output_type": "execute_result"
    }
   ],
   "source": [
    "np.random.seed(17)\n",
    "\n",
    "sd_1_asdaq = np.array([trading_system(\"ASDAQ\") for _ in range(100)]).std()\n",
    "sd_1_byse = sd_1_asdaq\n",
    "sd_1_delta = np.sqrt(sd_1_asdaq**2 + sd_1_byse**2)\n",
    "practical_significance = 1\n",
    "ab_test_design(sd_1_delta, practical_significance)"
   ]
  },
  {
   "cell_type": "markdown",
   "id": "c530950c-6884-4311-a30c-d827a2a44f2b",
   "metadata": {},
   "source": [
    "Observation: If you take seven individual measurements, you'll have a 5% chance of a false positive - of incorrectly acting as if BYSE is better than ASDAQ."
   ]
  },
  {
   "cell_type": "markdown",
   "id": "4ba642c8-712a-410c-b09a-6521d0c1c61b",
   "metadata": {},
   "source": [
    "### False Negatives"
   ]
  },
  {
   "cell_type": "code",
   "execution_count": 28,
   "id": "e726ce43-24b6-4d04-8e80-3af133457341",
   "metadata": {},
   "outputs": [],
   "source": [
    "def ab_test_design_2(sd_1_delta, practical_significance):\n",
    "    \"\"\"A/B test design with power analysis\"\"\"\n",
    "    num_individual_measurements = (2.48 * sd_1_delta / practical_significance) ** 2\n",
    "    print(num_individual_measurements)\n",
    "    return np.ceil(num_individual_measurements)"
   ]
  },
  {
   "cell_type": "code",
   "execution_count": 29,
   "id": "5280d6f0-72f4-4380-afdf-f15da514c704",
   "metadata": {},
   "outputs": [
    {
     "name": "stdout",
     "output_type": "stream",
     "text": [
      "15.451665191504688\n"
     ]
    },
    {
     "data": {
      "text/plain": [
       "16.0"
      ]
     },
     "execution_count": 29,
     "metadata": {},
     "output_type": "execute_result"
    }
   ],
   "source": [
    "np.random.seed(17)\n",
    "\n",
    "sd_1_asdaq = np.array([trading_system(\"ASDAQ\") for _ in range(100)]).std()\n",
    "sd_1_byse = sd_1_asdaq\n",
    "sd_1_delta = np.sqrt(sd_1_asdaq**2 + sd_1_byse**2)\n",
    "prac_sig = 1.0\n",
    "nobs1 = ab_test_design_2(sd_1_delta, prac_sig)\n",
    "nobs1"
   ]
  },
  {
   "cell_type": "markdown",
   "id": "a61e4f98-622a-48ef-9eb7-af0a8d693ac2",
   "metadata": {},
   "source": [
    "### Measure and analyze"
   ]
  },
  {
   "cell_type": "code",
   "execution_count": 30,
   "id": "b801fec8-50cf-4169-ae00-07af9542433d",
   "metadata": {},
   "outputs": [],
   "source": [
    "def measure(min_individual_measurements):\n",
    "    ind_asdaq = []\n",
    "    ind_byse = []\n",
    "    while (\n",
    "        len(ind_asdaq) < min_individual_measurements\n",
    "        or len(ind_byse) < min_individual_measurements\n",
    "    ):\n",
    "        if np.random.randint(2) == 0:\n",
    "            if len(ind_asdaq) < min_individual_measurements:\n",
    "                ind_asdaq.append(trading_system(\"ASDAQ\"))\n",
    "        else:\n",
    "            if len(ind_byse) < min_individual_measurements:\n",
    "                ind_byse.append(trading_system(\"BYSE\"))\n",
    "    return np.array(ind_asdaq), np.array(ind_byse)"
   ]
  },
  {
   "cell_type": "code",
   "execution_count": 31,
   "id": "51c3c433-5926-458c-8f65-d373d6b88b65",
   "metadata": {},
   "outputs": [
    {
     "name": "stdout",
     "output_type": "stream",
     "text": [
      "16 16\n"
     ]
    }
   ],
   "source": [
    "np.random.seed(17)\n",
    "\n",
    "ind_asdaq, ind_byse = measure(nobs1)\n",
    "print(len(ind_asdaq), len(ind_byse))"
   ]
  },
  {
   "cell_type": "code",
   "execution_count": 32,
   "id": "8d6c9810-1cb6-4181-94c5-972c1eb09186",
   "metadata": {},
   "outputs": [
    {
     "data": {
      "text/plain": [
       "-2.6262631797410325"
      ]
     },
     "execution_count": 32,
     "metadata": {},
     "output_type": "execute_result"
    }
   ],
   "source": [
    "ind_byse.mean() - ind_asdaq.mean()"
   ]
  },
  {
   "cell_type": "code",
   "execution_count": 33,
   "id": "14013512-3e18-4e64-8447-8e6318426608",
   "metadata": {},
   "outputs": [],
   "source": [
    "def analyze(ind_asdaq, ind_byse):\n",
    "    agg_asdaq = ind_asdaq.mean()\n",
    "    se_asdaq = ind_asdaq.std() / np.sqrt(len(ind_asdaq))\n",
    "\n",
    "    agg_byse = ind_byse.mean()\n",
    "    se_byse = ind_byse.std() / np.sqrt(len(ind_byse))\n",
    "\n",
    "    delta = agg_byse - agg_asdaq\n",
    "    se_delta = np.sqrt(se_asdaq**2 + se_byse**2)\n",
    "\n",
    "    z = delta / se_delta\n",
    "    return z"
   ]
  },
  {
   "cell_type": "code",
   "execution_count": 34,
   "id": "3f227355-69a4-47ff-b3cc-f295306e2ca1",
   "metadata": {},
   "outputs": [
    {
     "data": {
      "text/plain": [
       "-7.175523933947565"
      ]
     },
     "execution_count": 34,
     "metadata": {},
     "output_type": "execute_result"
    }
   ],
   "source": [
    "analyze(ind_asdaq, ind_byse)"
   ]
  },
  {
   "cell_type": "code",
   "execution_count": 35,
   "id": "1c0079b1-7a5d-4531-b71b-b9fb0c984c7a",
   "metadata": {},
   "outputs": [],
   "source": [
    "def z_score(dist1, dist2):\n",
    "    \"\"\"\n",
    "    https://www.statsmodels.org/dev/_modules/statsmodels/stats/weightstats.html#ztest\n",
    "    \"\"\"\n",
    "    assert isinstance(dist1, np.ndarray), \"dist1 is not np.ndarray\"\n",
    "    assert isinstance(dist2, np.ndarray), \"dist2 is not np.ndarray\"\n",
    "\n",
    "    mean1 = dist1.mean()\n",
    "    mean2 = dist2.mean()\n",
    "    # Why minus 1?\n",
    "    # https://www.quora.com/Why-do-we-subtract-1-from-the-number-of-samples-for-sample-standard-deviation#:~:text=So%20why%20do%20we%20subtract,sample%20size)%20corrects%20this%20bias.\n",
    "    # https://www.reddit.com/r/learnmath/comments/lvxik0/why_do_we_divide_by_n1_and_not_n_when_calculating/?rdt=33845\n",
    "    std_err1 = dist1.std() / np.sqrt(len(dist1) - 1)\n",
    "    std_err2 = dist2.std() / np.sqrt(len(dist2) - 1)\n",
    "    std_err_delta = np.sqrt(std_err1**2 + std_err2**2)\n",
    "\n",
    "    delta = mean2 - mean1\n",
    "\n",
    "    z = delta / std_err_delta\n",
    "    return z"
   ]
  },
  {
   "cell_type": "code",
   "execution_count": 36,
   "id": "84e545dc-78b3-4e04-9106-dab9eb74b78f",
   "metadata": {},
   "outputs": [
    {
     "data": {
      "text/plain": [
       "-6.947671174122912"
      ]
     },
     "execution_count": 36,
     "metadata": {},
     "output_type": "execute_result"
    }
   ],
   "source": [
    "z_score(ind_asdaq, ind_byse)"
   ]
  },
  {
   "cell_type": "markdown",
   "id": "9de5af26-732d-43c0-b37d-ea29e5712da9",
   "metadata": {},
   "source": [
    "Observation: because z is well below the threshold of -1.64, this result is statistically significant. BYSE has passed the second test."
   ]
  },
  {
   "cell_type": "markdown",
   "id": "8d2a8fe1-0f06-45ec-9ea8-8e14533e2935",
   "metadata": {},
   "source": [
    "## Using scipy"
   ]
  },
  {
   "cell_type": "code",
   "execution_count": 37,
   "id": "46d2fec4-a91e-4815-93d2-7876095613e2",
   "metadata": {},
   "outputs": [
    {
     "data": {
      "text/plain": [
       "(-6.947671174122912, 1.8568267113497456e-12, -6.947671174122912, True)"
      ]
     },
     "execution_count": 37,
     "metadata": {},
     "output_type": "execute_result"
    }
   ],
   "source": [
    "import scipy.stats as st\n",
    "from statsmodels.stats.weightstats import ztest\n",
    "\n",
    "# NOTE: The position of the X values are important.\n",
    "# X1 - X2, for smaller alternative.\n",
    "tstat, pvalue = ztest(ind_byse, ind_asdaq, usevar=\"unequal\", alternative=\"smaller\")\n",
    "# tstat is zscore.\n",
    "zscore = st.norm.ppf(pvalue)\n",
    "alpha = 0.05\n",
    "tstat, pvalue, zscore, st.norm.sf(abs(tstat)) < alpha"
   ]
  },
  {
   "cell_type": "markdown",
   "id": "e9fd251d-7a4a-475d-bd99-2a9c8e5c0b2a",
   "metadata": {},
   "source": [
    "Calculating sample size "
   ]
  },
  {
   "cell_type": "code",
   "execution_count": 41,
   "id": "bfc8925c-6331-45b5-ba3a-809e9c98f4e6",
   "metadata": {},
   "outputs": [
    {
     "data": {
      "text/plain": [
       "(6.787667486366592, 7.0)"
      ]
     },
     "execution_count": 41,
     "metadata": {},
     "output_type": "execute_result"
    }
   ],
   "source": [
    "import statsmodels.stats.api as sm\n",
    "\n",
    "# effect_size is the difference in mean divided by the std deviation\n",
    "# es = practical_significance / sd_1_byse\n",
    "es = practical_significance / 1.12 \n",
    "n1 = sm.zt_ind_solve_power(\n",
    "    effect_size=es,\n",
    "    nobs1=None,\n",
    "    ratio=1,\n",
    "    power=0.5,  # 0\n",
    "    alpha=0.05,\n",
    "    alternative=\"larger\",\n",
    ")\n",
    "n1, np.ceil(n1)"
   ]
  },
  {
   "cell_type": "code",
   "execution_count": 39,
   "id": "70a8f160-329b-4c97-b535-1fda673d0967",
   "metadata": {},
   "outputs": [
    {
     "data": {
      "text/plain": [
       "(15.53245388534377, 16.0)"
      ]
     },
     "execution_count": 39,
     "metadata": {},
     "output_type": "execute_result"
    }
   ],
   "source": [
    "n1 = sm.zt_ind_solve_power(\n",
    "    effect_size=es,\n",
    "    ratio=1,\n",
    "    power=0.8,  # 20%\n",
    "    alpha=0.05,\n",
    "    alternative=\"larger\",\n",
    ")\n",
    "n1, np.ceil(n1)"
   ]
  },
  {
   "cell_type": "markdown",
   "id": "fe3f7a9a-ce05-4fa6-b39d-f4a26e62b9aa",
   "metadata": {},
   "source": [
    "### Recap of A/B test stages\n",
    "\n",
    "- design: determined the minimum number of individual measurements needed to be able to detect statistical significance. That number was given by $(2.48 * st_1_delta / prac_sig)**2$\n",
    "- measure: collect the prescribed number of individual measurements, and randomize between variants to remove confounder bias\n",
    "- analyze: ensure the difference in cost between BYSE and ASDAQ was **practically significant** (`delta <- prac_sig`) and **statistically significant** (`delta/se_delta <- 1.64`)"
   ]
  },
  {
   "cell_type": "code",
   "execution_count": 40,
   "id": "b080bea5-5cd6-405d-a4cf-2e23a651d237",
   "metadata": {},
   "outputs": [
    {
     "name": "stdout",
     "output_type": "stream",
     "text": [
      "6.78766741763457\n"
     ]
    },
    {
     "data": {
      "text/plain": [
       "(7.0, 7.0)"
      ]
     },
     "execution_count": 40,
     "metadata": {},
     "output_type": "execute_result"
    }
   ],
   "source": [
    "# Mean of group 1, μ_1\n",
    "mu_1 = 11\n",
    "# Mean of group 2, μ_2\n",
    "mu_2 = 10\n",
    "# Sample standard deviation of group 1\n",
    "s_1 = 1.12\n",
    "# Sample standard deviation of group 2\n",
    "s_2 = 1.12\n",
    "# Sampling ratio, κ = n_1 / n_2\n",
    "kappa = 1\n",
    "\n",
    "# Type I error rate, α\n",
    "alpha = 0.05\n",
    "# Type II error rate, β\n",
    "beta = 0.2\n",
    "is_false_positive = 0  # Replace with 0 to get '7'\n",
    "\n",
    "n_1 = (s_1**2 + s_2**2 / kappa) * (\n",
    "    (st.norm.ppf(1 - alpha) + is_false_positive * st.norm.ppf(1 - beta)) / (mu_1 - mu_2)\n",
    ") ** 2\n",
    "print(n_1)\n",
    "n_1 = np.ceil(n_1)\n",
    "n_2 = kappa * n_1\n",
    "n_1, n_2"
   ]
  }
 ],
 "metadata": {
  "kernelspec": {
   "display_name": "Python 3 (ipykernel)",
   "language": "python",
   "name": "python3"
  },
  "language_info": {
   "codemirror_mode": {
    "name": "ipython",
    "version": 3
   },
   "file_extension": ".py",
   "mimetype": "text/x-python",
   "name": "python",
   "nbconvert_exporter": "python",
   "pygments_lexer": "ipython3",
   "version": "3.12.8"
  },
  "widgets": {
   "application/vnd.jupyter.widget-state+json": {
    "state": {},
    "version_major": 2,
    "version_minor": 0
   }
  }
 },
 "nbformat": 4,
 "nbformat_minor": 5
}
