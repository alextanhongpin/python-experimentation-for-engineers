{
 "cells": [
  {
   "cell_type": "markdown",
   "id": "c0ad2750-433c-41b1-853e-942f6a877097",
   "metadata": {},
   "source": [
    "# A/B testing: Evaluating a modification to your system\n",
    "\n",
    "Three steps in A/B testing:\n",
    "- design: how many measurements to take\n",
    "- measure: use randomization to measure\n",
    "- analyze: compare the busines metric estimates of A and B"
   ]
  },
  {
   "cell_type": "markdown",
   "id": "cf4e404c-a859-48b7-81f3-7ebaf48b0cbe",
   "metadata": {
    "execution": {
     "iopub.execute_input": "2024-04-24T07:23:58.300177Z",
     "iopub.status.busy": "2024-04-24T07:23:58.298022Z",
     "iopub.status.idle": "2024-04-24T07:23:58.317393Z",
     "shell.execute_reply": "2024-04-24T07:23:58.314472Z",
     "shell.execute_reply.started": "2024-04-24T07:23:58.300101Z"
    }
   },
   "source": [
    "## Simulate the trading system"
   ]
  },
  {
   "cell_type": "code",
   "execution_count": 42,
   "id": "9d8ec736-999f-44cb-b913-e4e5d9d4c070",
   "metadata": {
    "execution": {
     "iopub.execute_input": "2024-05-01T08:11:53.402862Z",
     "iopub.status.busy": "2024-05-01T08:11:53.401458Z",
     "iopub.status.idle": "2024-05-01T08:11:53.441819Z",
     "shell.execute_reply": "2024-05-01T08:11:53.423073Z",
     "shell.execute_reply.started": "2024-05-01T08:11:53.402735Z"
    }
   },
   "outputs": [],
   "source": [
    "import numpy as np\n",
    "\n",
    "\n",
    "def trading_system(exchange):\n",
    "    if exchange == \"ASDAQ\":\n",
    "        execution_cost = 12\n",
    "    elif exchange == \"BYSE\":\n",
    "        execution_cost = 10\n",
    "    else:\n",
    "        raise ValueError(\"unknown exchange: {}\".format(exchange))\n",
    "    execution_cost += np.random.normal()\n",
    "    return execution_cost"
   ]
  },
  {
   "cell_type": "code",
   "execution_count": 43,
   "id": "86a9198c-8c4e-4650-ad66-08883d1bfdcd",
   "metadata": {
    "execution": {
     "iopub.execute_input": "2024-05-01T08:11:53.448995Z",
     "iopub.status.busy": "2024-05-01T08:11:53.448083Z",
     "iopub.status.idle": "2024-05-01T08:11:53.466601Z",
     "shell.execute_reply": "2024-05-01T08:11:53.459955Z",
     "shell.execute_reply.started": "2024-05-01T08:11:53.448949Z"
    }
   },
   "outputs": [
    {
     "data": {
      "text/plain": [
       "12.27626589002132"
      ]
     },
     "execution_count": 43,
     "metadata": {},
     "output_type": "execute_result"
    }
   ],
   "source": [
    "np.random.seed(17)\n",
    "\n",
    "trading_system(\"ASDAQ\")"
   ]
  },
  {
   "cell_type": "markdown",
   "id": "41c82181-a052-401f-b4ff-558c5688607c",
   "metadata": {},
   "source": [
    "## Compare execution cost"
   ]
  },
  {
   "cell_type": "code",
   "execution_count": 44,
   "id": "f2429a7c-2988-4fb7-ac88-871808a29445",
   "metadata": {
    "execution": {
     "iopub.execute_input": "2024-05-01T08:11:53.473362Z",
     "iopub.status.busy": "2024-05-01T08:11:53.472634Z",
     "iopub.status.idle": "2024-05-01T08:11:53.585593Z",
     "shell.execute_reply": "2024-05-01T08:11:53.494572Z",
     "shell.execute_reply.started": "2024-05-01T08:11:53.473319Z"
    }
   },
   "outputs": [
    {
     "name": "stdout",
     "output_type": "stream",
     "text": [
      "12.27626589002132\n",
      "8.145371921193496\n"
     ]
    }
   ],
   "source": [
    "np.random.seed(17)\n",
    "\n",
    "print(trading_system(\"ASDAQ\"))\n",
    "print(trading_system(\"BYSE\"))"
   ]
  },
  {
   "cell_type": "markdown",
   "id": "98dfd278-3090-4b05-acba-117a84a4a0e6",
   "metadata": {},
   "source": [
    "Observation: it is cheaper to trade on BYSE"
   ]
  },
  {
   "cell_type": "code",
   "execution_count": 45,
   "id": "3dde279c-1198-4c61-b234-033879274d16",
   "metadata": {
    "execution": {
     "iopub.execute_input": "2024-05-01T08:11:53.618676Z",
     "iopub.status.busy": "2024-05-01T08:11:53.618043Z",
     "iopub.status.idle": "2024-05-01T08:11:53.630071Z",
     "shell.execute_reply": "2024-05-01T08:11:53.627076Z",
     "shell.execute_reply.started": "2024-05-01T08:11:53.618595Z"
    }
   },
   "outputs": [
    {
     "name": "stdout",
     "output_type": "stream",
     "text": [
      "12.079428443806204\n",
      "12.190202357414222\n"
     ]
    }
   ],
   "source": [
    "np.random.seed(18)\n",
    "\n",
    "print(trading_system(\"ASDAQ\"))\n",
    "print(trading_system(\"BYSE\"))"
   ]
  },
  {
   "cell_type": "markdown",
   "id": "153c8aaf-0cc8-4bf6-8b3c-d9ac72a2e508",
   "metadata": {},
   "source": [
    "Observation: it is now cheaper to trade on ASDAQ. The measure value varies from measurement to measurement."
   ]
  },
  {
   "cell_type": "markdown",
   "id": "4e891822-ed2c-407e-9aa3-50032a4fb0a5",
   "metadata": {},
   "source": [
    "### Variation"
   ]
  },
  {
   "cell_type": "code",
   "execution_count": 46,
   "id": "fb2454c7-05b1-49a2-9840-95b515e6aa9c",
   "metadata": {
    "execution": {
     "iopub.execute_input": "2024-05-01T08:11:53.632624Z",
     "iopub.status.busy": "2024-05-01T08:11:53.631662Z",
     "iopub.status.idle": "2024-05-01T08:11:53.642701Z",
     "shell.execute_reply": "2024-05-01T08:11:53.641298Z",
     "shell.execute_reply.started": "2024-05-01T08:11:53.632586Z"
    }
   },
   "outputs": [
    {
     "name": "stdout",
     "output_type": "stream",
     "text": [
      "12.111509794247766\n",
      "10.008382946497413\n"
     ]
    }
   ],
   "source": [
    "np.random.seed(17)\n",
    "\n",
    "print(np.array([trading_system(\"ASDAQ\") for _ in range(100)]).mean())\n",
    "print(np.array([trading_system(\"BYSE\") for _ in range(100)]).mean())"
   ]
  },
  {
   "cell_type": "code",
   "execution_count": 47,
   "id": "e9cee972-81e8-489b-92d5-94b4d3980217",
   "metadata": {
    "execution": {
     "iopub.execute_input": "2024-05-01T08:11:53.645939Z",
     "iopub.status.busy": "2024-05-01T08:11:53.644548Z",
     "iopub.status.idle": "2024-05-01T08:11:53.655366Z",
     "shell.execute_reply": "2024-05-01T08:11:53.654469Z",
     "shell.execute_reply.started": "2024-05-01T08:11:53.645906Z"
    }
   },
   "outputs": [
    {
     "name": "stdout",
     "output_type": "stream",
     "text": [
      "11.880880186907996\n",
      "9.99591773728191\n"
     ]
    }
   ],
   "source": [
    "print(np.array([trading_system(\"ASDAQ\") for _ in range(100)]).mean())\n",
    "print(np.array([trading_system(\"BYSE\") for _ in range(100)]).mean())"
   ]
  },
  {
   "cell_type": "markdown",
   "id": "4720c24c-8ff6-4d51-851d-13bdf654e5ae",
   "metadata": {},
   "source": [
    "### Bias\n",
    "\n",
    "Below is a simulator that accounts for time of day (tod)."
   ]
  },
  {
   "cell_type": "code",
   "execution_count": 48,
   "id": "e136c084-668b-40a9-9768-7c19bac8da47",
   "metadata": {
    "execution": {
     "iopub.execute_input": "2024-05-01T08:11:53.657635Z",
     "iopub.status.busy": "2024-05-01T08:11:53.656694Z",
     "iopub.status.idle": "2024-05-01T08:11:53.667853Z",
     "shell.execute_reply": "2024-05-01T08:11:53.666653Z",
     "shell.execute_reply.started": "2024-05-01T08:11:53.657597Z"
    }
   },
   "outputs": [],
   "source": [
    "def trading_system_tod(exchange, time_of_day):\n",
    "    if time_of_day == \"morning\":\n",
    "        bias = 2.5\n",
    "    elif time_of_day == \"afternoon\":\n",
    "        bias = 0\n",
    "    else:\n",
    "        raise ValueError(\"unknown time of day: {}\".format(time_of_day))\n",
    "    return bias + trading_system(exchange)"
   ]
  },
  {
   "cell_type": "code",
   "execution_count": 49,
   "id": "77035153-8809-4f28-9cb2-c78c036b9d59",
   "metadata": {
    "execution": {
     "iopub.execute_input": "2024-05-01T08:11:53.670487Z",
     "iopub.status.busy": "2024-05-01T08:11:53.669995Z",
     "iopub.status.idle": "2024-05-01T08:11:53.678712Z",
     "shell.execute_reply": "2024-05-01T08:11:53.677239Z",
     "shell.execute_reply.started": "2024-05-01T08:11:53.670451Z"
    }
   },
   "outputs": [
    {
     "name": "stdout",
     "output_type": "stream",
     "text": [
      "14.611509794247766\n",
      "12.008382946497411\n"
     ]
    }
   ],
   "source": [
    "np.random.seed(17)\n",
    "\n",
    "print(np.array([trading_system_tod(\"ASDAQ\", \"morning\") for _ in range(100)]).mean())\n",
    "print(np.array([trading_system_tod(\"ASDAQ\", \"afternoon\") for _ in range(100)]).mean())"
   ]
  },
  {
   "cell_type": "markdown",
   "id": "9a6407e4-7887-4ec9-a0e3-27a2c4283252",
   "metadata": {},
   "source": [
    "Observation: it is cheaper to trade in the afternoon."
   ]
  },
  {
   "cell_type": "code",
   "execution_count": 50,
   "id": "f53ba36d-c04e-4d85-bbc4-7ce497222733",
   "metadata": {
    "execution": {
     "iopub.execute_input": "2024-05-01T08:11:53.692270Z",
     "iopub.status.busy": "2024-05-01T08:11:53.691738Z",
     "iopub.status.idle": "2024-05-01T08:11:53.711139Z",
     "shell.execute_reply": "2024-05-01T08:11:53.709433Z",
     "shell.execute_reply.started": "2024-05-01T08:11:53.692239Z"
    }
   },
   "outputs": [
    {
     "name": "stdout",
     "output_type": "stream",
     "text": [
      "12.611509794247766\n",
      "12.008382946497411\n"
     ]
    }
   ],
   "source": [
    "np.random.seed(17)\n",
    "\n",
    "print(np.array([trading_system_tod(\"BYSE\", \"morning\") for _ in range(100)]).mean())\n",
    "print(np.array([trading_system_tod(\"ASDAQ\", \"afternoon\") for _ in range(100)]).mean())"
   ]
  },
  {
   "cell_type": "markdown",
   "id": "ab6fa44e-1d7c-4534-9df3-8fe8faf05099",
   "metadata": {},
   "source": [
    "Observation: ASDAQ is more expensive, but it would appear as if it is cheaper than BYSE if traded during the afternoon."
   ]
  },
  {
   "cell_type": "markdown",
   "id": "5d19c53a-cf59-424e-84ba-032164d3185a",
   "metadata": {},
   "source": [
    "### Randomization\n",
    "\n",
    "To remove __confounder bias__ (when a bias is applied differently and consistently), we apply __randomization__ when taking measurements."
   ]
  },
  {
   "cell_type": "code",
   "execution_count": 51,
   "id": "b2c68450-93be-4f75-800b-c52a22514003",
   "metadata": {
    "execution": {
     "iopub.execute_input": "2024-05-01T08:11:53.713514Z",
     "iopub.status.busy": "2024-05-01T08:11:53.713023Z",
     "iopub.status.idle": "2024-05-01T08:11:53.722391Z",
     "shell.execute_reply": "2024-05-01T08:11:53.721212Z",
     "shell.execute_reply.started": "2024-05-01T08:11:53.713484Z"
    }
   },
   "outputs": [],
   "source": [
    "def randomized_measurement():\n",
    "    asdaq_measurement = []\n",
    "    byse_measurement = []\n",
    "    for tod in [\"morning\", \"afternoon\"]:\n",
    "        for _ in range(100):\n",
    "            if np.random.randint(2) == 0:\n",
    "                asdaq_measurement.append(trading_system_tod(\"ASDAQ\", tod))\n",
    "            else:\n",
    "                byse_measurement.append(trading_system_tod(\"BYSE\", tod))\n",
    "    return np.array(asdaq_measurement).mean(), np.array(byse_measurement).mean()"
   ]
  },
  {
   "cell_type": "code",
   "execution_count": 52,
   "id": "336ff059-8d8f-4e91-b722-9ca910909bed",
   "metadata": {
    "execution": {
     "iopub.execute_input": "2024-05-01T08:11:53.724659Z",
     "iopub.status.busy": "2024-05-01T08:11:53.724273Z",
     "iopub.status.idle": "2024-05-01T08:11:53.734211Z",
     "shell.execute_reply": "2024-05-01T08:11:53.732640Z",
     "shell.execute_reply.started": "2024-05-01T08:11:53.724635Z"
    }
   },
   "outputs": [
    {
     "data": {
      "text/plain": [
       "(13.39588870623852, 11.259639285763223)"
      ]
     },
     "execution_count": 52,
     "metadata": {},
     "output_type": "execute_result"
    }
   ],
   "source": [
    "np.random.seed(17)\n",
    "\n",
    "randomized_measurement()"
   ]
  },
  {
   "cell_type": "markdown",
   "id": "a3e3e5dd-13f8-4371-9a04-86219ae259df",
   "metadata": {
    "execution": {
     "iopub.execute_input": "2024-04-24T07:43:21.246266Z",
     "iopub.status.busy": "2024-04-24T07:43:21.244228Z",
     "iopub.status.idle": "2024-04-24T07:43:21.323424Z",
     "shell.execute_reply": "2024-04-24T07:43:21.292005Z",
     "shell.execute_reply.started": "2024-04-24T07:43:21.246211Z"
    }
   },
   "source": [
    "## Take a precise measurement"
   ]
  },
  {
   "cell_type": "markdown",
   "id": "607b1298-1df8-45a1-bac0-00c4f95d7ad5",
   "metadata": {},
   "source": [
    "### Mitigate measurement variation with replication"
   ]
  },
  {
   "cell_type": "code",
   "execution_count": 53,
   "id": "ec09e863-ef35-4d79-9186-838218277f70",
   "metadata": {
    "execution": {
     "iopub.execute_input": "2024-05-01T08:11:53.737086Z",
     "iopub.status.busy": "2024-05-01T08:11:53.736363Z",
     "iopub.status.idle": "2024-05-01T08:11:53.869889Z",
     "shell.execute_reply": "2024-05-01T08:11:53.868340Z",
     "shell.execute_reply.started": "2024-05-01T08:11:53.737056Z"
    }
   },
   "outputs": [
    {
     "data": {
      "text/plain": [
       "array([12.27626589, 10.14537192, 12.62390111])"
      ]
     },
     "execution_count": 53,
     "metadata": {},
     "output_type": "execute_result"
    }
   ],
   "source": [
    "np.random.seed(17)\n",
    "\n",
    "measurements = np.array([trading_system(\"ASDAQ\") for _ in range(3)])\n",
    "measurements"
   ]
  },
  {
   "cell_type": "code",
   "execution_count": 54,
   "id": "ca1b81cc-7fb8-4c2e-b3de-785ca1524b0f",
   "metadata": {
    "execution": {
     "iopub.execute_input": "2024-05-01T08:11:53.873031Z",
     "iopub.status.busy": "2024-05-01T08:11:53.872557Z",
     "iopub.status.idle": "2024-05-01T08:11:53.888691Z",
     "shell.execute_reply": "2024-05-01T08:11:53.883376Z",
     "shell.execute_reply.started": "2024-05-01T08:11:53.872996Z"
    }
   },
   "outputs": [
    {
     "data": {
      "text/plain": [
       "11.681846307513723"
      ]
     },
     "execution_count": 54,
     "metadata": {},
     "output_type": "execute_result"
    }
   ],
   "source": [
    "measurements.mean()"
   ]
  },
  {
   "cell_type": "code",
   "execution_count": 55,
   "id": "44c359aa-f2ba-4667-bdb6-a877134e0cf4",
   "metadata": {
    "execution": {
     "iopub.execute_input": "2024-05-01T08:11:53.892576Z",
     "iopub.status.busy": "2024-05-01T08:11:53.891779Z",
     "iopub.status.idle": "2024-05-01T08:11:53.909897Z",
     "shell.execute_reply": "2024-05-01T08:11:53.907600Z",
     "shell.execute_reply.started": "2024-05-01T08:11:53.892535Z"
    }
   },
   "outputs": [
    {
     "data": {
      "text/plain": [
       "array([ 0.27626589, -1.85462808,  0.62390111])"
      ]
     },
     "execution_count": 55,
     "metadata": {},
     "output_type": "execute_result"
    }
   ],
   "source": [
    "measurements - 12"
   ]
  },
  {
   "cell_type": "code",
   "execution_count": 56,
   "id": "6589dd30-9028-4440-a391-5bba3da837c4",
   "metadata": {
    "execution": {
     "iopub.execute_input": "2024-05-01T08:11:53.913398Z",
     "iopub.status.busy": "2024-05-01T08:11:53.913002Z",
     "iopub.status.idle": "2024-05-01T08:11:53.928233Z",
     "shell.execute_reply": "2024-05-01T08:11:53.925117Z",
     "shell.execute_reply.started": "2024-05-01T08:11:53.913365Z"
    }
   },
   "outputs": [
    {
     "data": {
      "text/plain": [
       "-0.3181536924862769"
      ]
     },
     "execution_count": 56,
     "metadata": {},
     "output_type": "execute_result"
    }
   ],
   "source": [
    "measurements.mean() - 12"
   ]
  },
  {
   "cell_type": "code",
   "execution_count": 57,
   "id": "f530a349-5e8d-4154-a2ad-caa02a2c194d",
   "metadata": {
    "execution": {
     "iopub.execute_input": "2024-05-01T08:11:53.931567Z",
     "iopub.status.busy": "2024-05-01T08:11:53.930794Z",
     "iopub.status.idle": "2024-05-01T08:11:53.941013Z",
     "shell.execute_reply": "2024-05-01T08:11:53.938229Z",
     "shell.execute_reply.started": "2024-05-01T08:11:53.931539Z"
    }
   },
   "outputs": [],
   "source": [
    "def aggregate_measurement(exchange, num_individual_measurements):\n",
    "    individual_measurements = np.array(\n",
    "        [trading_system(exchange) for _ in range(num_individual_measurements)]\n",
    "    )\n",
    "    return individual_measurements.mean()"
   ]
  },
  {
   "cell_type": "code",
   "execution_count": 58,
   "id": "6e443692-bef8-40e6-9b55-eb62f0acd542",
   "metadata": {
    "execution": {
     "iopub.execute_input": "2024-05-01T08:11:53.943782Z",
     "iopub.status.busy": "2024-05-01T08:11:53.942936Z",
     "iopub.status.idle": "2024-05-01T08:11:53.958734Z",
     "shell.execute_reply": "2024-05-01T08:11:53.954354Z",
     "shell.execute_reply.started": "2024-05-01T08:11:53.943745Z"
    }
   },
   "outputs": [
    {
     "name": "stdout",
     "output_type": "stream",
     "text": [
      "12.000257642551059\n",
      "10.051095649188758\n"
     ]
    }
   ],
   "source": [
    "np.random.seed(17)\n",
    "\n",
    "print(aggregate_measurement(\"ASDAQ\", 300))\n",
    "print(aggregate_measurement(\"BYSE\", 300))"
   ]
  },
  {
   "cell_type": "code",
   "execution_count": 59,
   "id": "8cef663b-09c5-4d4d-82a2-e350e081aee9",
   "metadata": {
    "execution": {
     "iopub.execute_input": "2024-05-01T08:11:53.963464Z",
     "iopub.status.busy": "2024-05-01T08:11:53.962875Z",
     "iopub.status.idle": "2024-05-01T08:11:53.979465Z",
     "shell.execute_reply": "2024-05-01T08:11:53.976226Z",
     "shell.execute_reply.started": "2024-05-01T08:11:53.963425Z"
    }
   },
   "outputs": [
    {
     "name": "stdout",
     "output_type": "stream",
     "text": [
      "11.987318214094266\n",
      "10.021053044438455\n"
     ]
    }
   ],
   "source": [
    "print(aggregate_measurement(\"ASDAQ\", 300))\n",
    "print(aggregate_measurement(\"BYSE\", 300))"
   ]
  },
  {
   "cell_type": "markdown",
   "id": "c878c95c-1172-41be-a003-7d6bfdf27ab0",
   "metadata": {},
   "source": [
    "### Standard Error"
   ]
  },
  {
   "cell_type": "code",
   "execution_count": 60,
   "id": "7aecdae7-72d0-4f93-816f-036af279d039",
   "metadata": {
    "execution": {
     "iopub.execute_input": "2024-05-01T08:11:53.983543Z",
     "iopub.status.busy": "2024-05-01T08:11:53.981771Z",
     "iopub.status.idle": "2024-05-01T08:11:54.714384Z",
     "shell.execute_reply": "2024-05-01T08:11:54.713480Z",
     "shell.execute_reply.started": "2024-05-01T08:11:53.983496Z"
    }
   },
   "outputs": [
    {
     "data": {
      "text/plain": [
       "(0.5778543829446465, 0.1794924850151226, 0.058012150188856464)"
      ]
     },
     "execution_count": 60,
     "metadata": {},
     "output_type": "execute_result"
    }
   ],
   "source": [
    "agg_3 = np.array([aggregate_measurement(\"ASDAQ\", 3) for _ in range(1000)])\n",
    "agg_30 = np.array([aggregate_measurement(\"ASDAQ\", 30) for _ in range(1000)])\n",
    "agg_300 = np.array([aggregate_measurement(\"ASDAQ\", 300) for _ in range(1000)])\n",
    "\n",
    "agg_3.std(), agg_30.std(), agg_300.std()"
   ]
  },
  {
   "cell_type": "markdown",
   "id": "e7ad2354-9a53-407c-8e7c-06e3b4c35d0b",
   "metadata": {},
   "source": [
    "Observation: the standard deviation decreases as the number of individual measurements in each aggregate measurement increases."
   ]
  },
  {
   "cell_type": "code",
   "execution_count": 61,
   "id": "e6f6ec4a-7c9f-4345-a9b5-4a397177d138",
   "metadata": {
    "execution": {
     "iopub.execute_input": "2024-05-01T08:11:54.734516Z",
     "iopub.status.busy": "2024-05-01T08:11:54.723774Z",
     "iopub.status.idle": "2024-05-01T08:11:54.798977Z",
     "shell.execute_reply": "2024-05-01T08:11:54.797026Z",
     "shell.execute_reply.started": "2024-05-01T08:11:54.734470Z"
    }
   },
   "outputs": [],
   "source": [
    "def standard_error(measurements):\n",
    "    return measurements.std() / np.sqrt(len(measurements))"
   ]
  },
  {
   "cell_type": "code",
   "execution_count": 62,
   "id": "75a1b1fe-d259-4f30-a56f-800c5acb84aa",
   "metadata": {
    "execution": {
     "iopub.execute_input": "2024-05-01T08:11:54.818371Z",
     "iopub.status.busy": "2024-05-01T08:11:54.804158Z",
     "iopub.status.idle": "2024-05-01T08:11:54.839125Z",
     "shell.execute_reply": "2024-05-01T08:11:54.837595Z",
     "shell.execute_reply.started": "2024-05-01T08:11:54.818325Z"
    }
   },
   "outputs": [],
   "source": [
    "def aggregate_measurement_with_se(exchange, num_individual_measurements):\n",
    "    individual_measurements = np.array(\n",
    "        [trading_system(exchange) for _ in range(num_individual_measurements)]\n",
    "    )\n",
    "    aggregate_measurement = individual_measurements.mean()\n",
    "    return aggregate_measurement, standard_error(individual_measurements)"
   ]
  },
  {
   "cell_type": "code",
   "execution_count": 63,
   "id": "09139ad4-e60f-4dbe-a762-fee674af7476",
   "metadata": {
    "execution": {
     "iopub.execute_input": "2024-05-01T08:11:54.879841Z",
     "iopub.status.busy": "2024-05-01T08:11:54.876717Z",
     "iopub.status.idle": "2024-05-01T08:11:54.901579Z",
     "shell.execute_reply": "2024-05-01T08:11:54.896826Z",
     "shell.execute_reply.started": "2024-05-01T08:11:54.879774Z"
    }
   },
   "outputs": [
    {
     "name": "stdout",
     "output_type": "stream",
     "text": [
      "(12.000257642551059, 0.060254756364981225)\n",
      "(10.051095649188758, 0.05714189794415452)\n"
     ]
    }
   ],
   "source": [
    "np.random.seed(17)\n",
    "\n",
    "print(aggregate_measurement_with_se(\"ASDAQ\", 300))\n",
    "print(aggregate_measurement_with_se(\"BYSE\", 300))"
   ]
  },
  {
   "cell_type": "markdown",
   "id": "95645256-d4a5-4335-835f-36891110685e",
   "metadata": {},
   "source": [
    "## Run an A/B test"
   ]
  },
  {
   "cell_type": "markdown",
   "id": "79c58734-52bb-45c1-8568-95ebbf649ca6",
   "metadata": {},
   "source": [
    "### Analyze your measurements"
   ]
  },
  {
   "cell_type": "code",
   "execution_count": 64,
   "id": "33216599-6851-4b24-a370-e7aaf51ce6c7",
   "metadata": {
    "execution": {
     "iopub.execute_input": "2024-05-01T08:11:54.904842Z",
     "iopub.status.busy": "2024-05-01T08:11:54.904326Z",
     "iopub.status.idle": "2024-05-01T08:11:54.921912Z",
     "shell.execute_reply": "2024-05-01T08:11:54.916784Z",
     "shell.execute_reply.started": "2024-05-01T08:11:54.904810Z"
    }
   },
   "outputs": [
    {
     "data": {
      "text/plain": [
       "-4.4851273191475025"
      ]
     },
     "execution_count": 64,
     "metadata": {},
     "output_type": "execute_result"
    }
   ],
   "source": [
    "np.random.seed(17)\n",
    "\n",
    "num_individual_measurements = 10\n",
    "agg_asdaq, se_asdaq = aggregate_measurement_with_se(\n",
    "    \"ASDAQ\", num_individual_measurements\n",
    ")\n",
    "agg_byse, se_byse = aggregate_measurement_with_se(\"BYSE\", num_individual_measurements)\n",
    "delta = agg_byse - agg_asdaq\n",
    "se_delta = np.sqrt(se_byse**2 + se_asdaq**2)\n",
    "z_score = delta / se_delta\n",
    "z_score"
   ]
  },
  {
   "cell_type": "code",
   "execution_count": 65,
   "id": "d8cd5ad7-b35a-4234-9efa-92e6633995a5",
   "metadata": {
    "execution": {
     "iopub.execute_input": "2024-05-01T08:11:54.954432Z",
     "iopub.status.busy": "2024-05-01T08:11:54.953268Z",
     "iopub.status.idle": "2024-05-01T08:11:54.982846Z",
     "shell.execute_reply": "2024-05-01T08:11:54.981644Z",
     "shell.execute_reply.started": "2024-05-01T08:11:54.954397Z"
    }
   },
   "outputs": [
    {
     "name": "stdout",
     "output_type": "stream",
     "text": [
      "1.6448536269514722\n",
      "0.9494974165258963\n",
      "2.3263478740408408\n",
      "0.9934308808644532\n"
     ]
    }
   ],
   "source": [
    "import scipy.stats as st\n",
    "\n",
    "# 95% confidence interval.\n",
    "print(st.norm.ppf(1 - 0.05))  # z-score from p-value\n",
    "print(st.norm.cdf(1.64))  # z-score to p-value\n",
    "\n",
    "# 99% confidence interval.\n",
    "print(st.norm.ppf(1 - 0.01))\n",
    "print(st.norm.cdf(2.48))"
   ]
  },
  {
   "cell_type": "markdown",
   "id": "5a71b7d5-5835-45d2-93ee-b2b6ca2d60a0",
   "metadata": {},
   "source": [
    "We know we can reject the null hypothesis is the value is below alpha of 0.05%:\n",
    "\n",
    "```python\n",
    "1 - scipy.stats.norm.cdf((x-mu)/(std/np.sqrt(n)) < alpha\n",
    "```\n",
    "Where\n",
    "- x = sample mean\n",
    "- mu = population mean\n",
    "- std = population standard deviation\n",
    "\n",
    "We can use it to solve `n`, which is the population mean:\n",
    "\n",
    "```python\n",
    "np.sqrt(n) > std * scipy.stats.norm.ppf(1 - alpha) / (x - mu)\n",
    "```"
   ]
  },
  {
   "cell_type": "markdown",
   "id": "95afe2cc-c72c-465f-98da-e9addf254e00",
   "metadata": {},
   "source": [
    "### Design the A/B test"
   ]
  },
  {
   "cell_type": "code",
   "execution_count": 66,
   "id": "f9a9eec5-e68b-43a3-a277-e5ee291c327e",
   "metadata": {
    "execution": {
     "iopub.execute_input": "2024-05-01T08:11:54.987903Z",
     "iopub.status.busy": "2024-05-01T08:11:54.986903Z",
     "iopub.status.idle": "2024-05-01T08:11:55.016681Z",
     "shell.execute_reply": "2024-05-01T08:11:54.999331Z",
     "shell.execute_reply.started": "2024-05-01T08:11:54.987862Z"
    }
   },
   "outputs": [],
   "source": [
    "def ab_test_design(sd_1_delta, practical_significance):\n",
    "    num_individual_measurements = (1.64 * sd_1_delta / practical_significance) ** 2\n",
    "    return np.ceil(num_individual_measurements)"
   ]
  },
  {
   "cell_type": "code",
   "execution_count": 67,
   "id": "ab6e7276-19e2-43a1-bf1d-b5773e7352f1",
   "metadata": {
    "execution": {
     "iopub.execute_input": "2024-05-01T08:11:55.019918Z",
     "iopub.status.busy": "2024-05-01T08:11:55.018628Z",
     "iopub.status.idle": "2024-05-01T08:11:55.074296Z",
     "shell.execute_reply": "2024-05-01T08:11:55.068480Z",
     "shell.execute_reply.started": "2024-05-01T08:11:55.019875Z"
    },
    "scrolled": true
   },
   "outputs": [
    {
     "data": {
      "text/plain": [
       "7.0"
      ]
     },
     "execution_count": 67,
     "metadata": {},
     "output_type": "execute_result"
    }
   ],
   "source": [
    "np.random.seed(17)\n",
    "\n",
    "sd_1_asdaq = np.array([trading_system(\"ASDAQ\") for _ in range(100)]).std()\n",
    "sd_1_byse = sd_1_asdaq\n",
    "sd_1_delta = np.sqrt(sd_1_asdaq**2 + sd_1_byse**2)\n",
    "practical_significance = 1\n",
    "ab_test_design(sd_1_delta, practical_significance)"
   ]
  },
  {
   "cell_type": "markdown",
   "id": "c530950c-6884-4311-a30c-d827a2a44f2b",
   "metadata": {},
   "source": [
    "Observation: If you take seven individual measurements, you'll have a 5% chance of a false positive - of incorrectly acting as if BYSE is better than ASDAQ."
   ]
  },
  {
   "cell_type": "markdown",
   "id": "4ba642c8-712a-410c-b09a-6521d0c1c61b",
   "metadata": {},
   "source": [
    "### False Negatives"
   ]
  },
  {
   "cell_type": "code",
   "execution_count": 68,
   "id": "e726ce43-24b6-4d04-8e80-3af133457341",
   "metadata": {
    "execution": {
     "iopub.execute_input": "2024-05-01T08:11:55.078948Z",
     "iopub.status.busy": "2024-05-01T08:11:55.077546Z",
     "iopub.status.idle": "2024-05-01T08:11:55.099898Z",
     "shell.execute_reply": "2024-05-01T08:11:55.086242Z",
     "shell.execute_reply.started": "2024-05-01T08:11:55.078905Z"
    }
   },
   "outputs": [],
   "source": [
    "def ab_test_design_2(sd_1_delta, practical_significance):\n",
    "    \"\"\"A/B test design with power analysis\"\"\"\n",
    "    num_individual_measurements = (2.48 * sd_1_delta / practical_significance) ** 2\n",
    "    return np.ceil(num_individual_measurements)"
   ]
  },
  {
   "cell_type": "code",
   "execution_count": 69,
   "id": "5280d6f0-72f4-4380-afdf-f15da514c704",
   "metadata": {
    "execution": {
     "iopub.execute_input": "2024-05-01T08:11:55.110824Z",
     "iopub.status.busy": "2024-05-01T08:11:55.107780Z",
     "iopub.status.idle": "2024-05-01T08:11:55.132451Z",
     "shell.execute_reply": "2024-05-01T08:11:55.127106Z",
     "shell.execute_reply.started": "2024-05-01T08:11:55.110666Z"
    }
   },
   "outputs": [
    {
     "data": {
      "text/plain": [
       "16.0"
      ]
     },
     "execution_count": 69,
     "metadata": {},
     "output_type": "execute_result"
    }
   ],
   "source": [
    "np.random.seed(17)\n",
    "\n",
    "sd_1_asdaq = np.array([trading_system(\"ASDAQ\") for _ in range(100)]).std()\n",
    "sd_1_byse = sd_1_asdaq\n",
    "sd_1_delta = np.sqrt(sd_1_asdaq**2 + sd_1_byse**2)\n",
    "prac_sig = 1.0\n",
    "ab_test_design_2(sd_1_delta, prac_sig)"
   ]
  },
  {
   "cell_type": "markdown",
   "id": "a61e4f98-622a-48ef-9eb7-af0a8d693ac2",
   "metadata": {},
   "source": [
    "### Measure and analyze"
   ]
  },
  {
   "cell_type": "code",
   "execution_count": 70,
   "id": "b801fec8-50cf-4169-ae00-07af9542433d",
   "metadata": {
    "execution": {
     "iopub.execute_input": "2024-05-01T08:11:55.170373Z",
     "iopub.status.busy": "2024-05-01T08:11:55.147117Z",
     "iopub.status.idle": "2024-05-01T08:11:55.247434Z",
     "shell.execute_reply": "2024-05-01T08:11:55.231754Z",
     "shell.execute_reply.started": "2024-05-01T08:11:55.170311Z"
    }
   },
   "outputs": [],
   "source": [
    "def measure(min_individual_measurements):\n",
    "    ind_asdaq = []\n",
    "    ind_byse = []\n",
    "    while (\n",
    "        len(ind_asdaq) < min_individual_measurements\n",
    "        and len(ind_byse) < min_individual_measurements\n",
    "    ):\n",
    "        if np.random.randint(2) == 0:\n",
    "            ind_asdaq.append(trading_system(\"ASDAQ\"))\n",
    "        else:\n",
    "            ind_byse.append(trading_system(\"BYSE\"))\n",
    "    return np.array(ind_asdaq), np.array(ind_byse)"
   ]
  },
  {
   "cell_type": "code",
   "execution_count": 71,
   "id": "51c3c433-5926-458c-8f65-d373d6b88b65",
   "metadata": {
    "execution": {
     "iopub.execute_input": "2024-05-01T08:11:55.332727Z",
     "iopub.status.busy": "2024-05-01T08:11:55.251566Z",
     "iopub.status.idle": "2024-05-01T08:11:55.372277Z",
     "shell.execute_reply": "2024-05-01T08:11:55.370832Z",
     "shell.execute_reply.started": "2024-05-01T08:11:55.332675Z"
    }
   },
   "outputs": [],
   "source": [
    "np.random.seed(17)\n",
    "\n",
    "ind_asdaq, ind_byse = measure(16)"
   ]
  },
  {
   "cell_type": "code",
   "execution_count": 72,
   "id": "8d6c9810-1cb6-4181-94c5-972c1eb09186",
   "metadata": {
    "execution": {
     "iopub.execute_input": "2024-05-01T08:11:55.376281Z",
     "iopub.status.busy": "2024-05-01T08:11:55.374382Z",
     "iopub.status.idle": "2024-05-01T08:11:55.387621Z",
     "shell.execute_reply": "2024-05-01T08:11:55.386312Z",
     "shell.execute_reply.started": "2024-05-01T08:11:55.376234Z"
    }
   },
   "outputs": [
    {
     "data": {
      "text/plain": [
       "-2.7483767796620846"
      ]
     },
     "execution_count": 72,
     "metadata": {},
     "output_type": "execute_result"
    }
   ],
   "source": [
    "ind_byse.mean() - ind_asdaq.mean()"
   ]
  },
  {
   "cell_type": "code",
   "execution_count": 73,
   "id": "14013512-3e18-4e64-8447-8e6318426608",
   "metadata": {
    "execution": {
     "iopub.execute_input": "2024-05-01T08:11:55.390043Z",
     "iopub.status.busy": "2024-05-01T08:11:55.389520Z",
     "iopub.status.idle": "2024-05-01T08:11:55.400415Z",
     "shell.execute_reply": "2024-05-01T08:11:55.398748Z",
     "shell.execute_reply.started": "2024-05-01T08:11:55.390006Z"
    }
   },
   "outputs": [],
   "source": [
    "def analyze(ind_asdaq, ind_byse):\n",
    "    agg_asdaq = ind_asdaq.mean()\n",
    "    se_asdaq = ind_asdaq.std() / np.sqrt(len(ind_asdaq))\n",
    "\n",
    "    agg_byse = ind_byse.mean()\n",
    "    se_byse = ind_byse.std() / np.sqrt(len(ind_byse))\n",
    "\n",
    "    delta = agg_byse - agg_asdaq\n",
    "    se_delta = np.sqrt(se_asdaq**2 + se_byse**2)\n",
    "\n",
    "    z = delta / se_delta\n",
    "    return z"
   ]
  },
  {
   "cell_type": "code",
   "execution_count": 74,
   "id": "3f227355-69a4-47ff-b3cc-f295306e2ca1",
   "metadata": {
    "execution": {
     "iopub.execute_input": "2024-05-01T08:11:55.404436Z",
     "iopub.status.busy": "2024-05-01T08:11:55.402766Z",
     "iopub.status.idle": "2024-05-01T08:11:55.419461Z",
     "shell.execute_reply": "2024-05-01T08:11:55.415009Z",
     "shell.execute_reply.started": "2024-05-01T08:11:55.404389Z"
    }
   },
   "outputs": [
    {
     "data": {
      "text/plain": [
       "-6.353995237966593"
      ]
     },
     "execution_count": 74,
     "metadata": {},
     "output_type": "execute_result"
    }
   ],
   "source": [
    "analyze(ind_asdaq, ind_byse)"
   ]
  },
  {
   "cell_type": "markdown",
   "id": "9de5af26-732d-43c0-b37d-ea29e5712da9",
   "metadata": {},
   "source": [
    "Observation: because z is well below the threshold of -1.64, this result is statistically significant. BYSE has passed the second test."
   ]
  },
  {
   "cell_type": "markdown",
   "id": "8d2a8fe1-0f06-45ec-9ea8-8e14533e2935",
   "metadata": {},
   "source": [
    "## Using scipy"
   ]
  },
  {
   "cell_type": "code",
   "execution_count": 75,
   "id": "46d2fec4-a91e-4815-93d2-7876095613e2",
   "metadata": {
    "execution": {
     "iopub.execute_input": "2024-05-01T08:11:55.423177Z",
     "iopub.status.busy": "2024-05-01T08:11:55.422243Z",
     "iopub.status.idle": "2024-05-01T08:11:55.438564Z",
     "shell.execute_reply": "2024-05-01T08:11:55.435580Z",
     "shell.execute_reply.started": "2024-05-01T08:11:55.423137Z"
    }
   },
   "outputs": [
    {
     "data": {
      "text/plain": [
       "(6.202020909921336, 5.574266926940068e-10, -6.0920335108226755)"
      ]
     },
     "execution_count": 75,
     "metadata": {},
     "output_type": "execute_result"
    }
   ],
   "source": [
    "import scipy.stats as st\n",
    "from statsmodels.stats.weightstats import ztest\n",
    "\n",
    "tstat, pvalue = ztest(ind_asdaq, ind_byse)\n",
    "zscore = st.norm.ppf(pvalue)\n",
    "tstat, pvalue, zscore"
   ]
  },
  {
   "cell_type": "code",
   "execution_count": 106,
   "id": "6ce12f4d-fa3a-49ff-b754-efee26b92d0a",
   "metadata": {
    "execution": {
     "iopub.execute_input": "2024-05-01T08:54:29.353982Z",
     "iopub.status.busy": "2024-05-01T08:54:29.351142Z",
     "iopub.status.idle": "2024-05-01T08:54:29.436538Z",
     "shell.execute_reply": "2024-05-01T08:54:29.435410Z",
     "shell.execute_reply.started": "2024-05-01T08:54:29.353850Z"
    }
   },
   "outputs": [
    {
     "data": {
      "text/plain": [
       "16.714722572276155"
      ]
     },
     "execution_count": 106,
     "metadata": {},
     "output_type": "execute_result"
    }
   ],
   "source": [
    "from statsmodels.stats.power import TTestIndPower, TTestPower\n",
    "\n",
    "obj = TTestIndPower()\n",
    "n = obj.solve_power(effect_size=1, alpha=0.05, power=0.8)\n",
    "n"
   ]
  },
  {
   "cell_type": "markdown",
   "id": "fe3f7a9a-ce05-4fa6-b39d-f4a26e62b9aa",
   "metadata": {},
   "source": [
    "### Recap of A/B test stages\n",
    "\n",
    "- design: determined the minimum number of individual measurements needed to be able to detect statistical significance. That number was given by $(2.48 * st_1_delta / prac_sig)**2$\n",
    "- measure: collect the prescribed number of individual measurements, and randomize between variants to remove confounder bias\n",
    "- analyze: ensure the difference in cost between BYSE and ASDAQ was **practically significant** (`delta <- prac_sig`) and **statistically significant** (`delta/se_delta <- 1.64`)"
   ]
  }
 ],
 "metadata": {
  "kernelspec": {
   "display_name": "Python 3 (ipykernel)",
   "language": "python",
   "name": "python3"
  },
  "language_info": {
   "codemirror_mode": {
    "name": "ipython",
    "version": 3
   },
   "file_extension": ".py",
   "mimetype": "text/x-python",
   "name": "python",
   "nbconvert_exporter": "python",
   "pygments_lexer": "ipython3",
   "version": "3.11.9"
  },
  "widgets": {
   "application/vnd.jupyter.widget-state+json": {
    "state": {},
    "version_major": 2,
    "version_minor": 0
   }
  }
 },
 "nbformat": 4,
 "nbformat_minor": 5
}
