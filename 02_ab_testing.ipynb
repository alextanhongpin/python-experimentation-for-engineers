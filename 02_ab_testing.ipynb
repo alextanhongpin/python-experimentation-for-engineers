{
 "cells": [
  {
   "cell_type": "markdown",
   "id": "c0ad2750-433c-41b1-853e-942f6a877097",
   "metadata": {},
   "source": [
    "# A/B testing: Evaluating a modification to your system\n",
    "\n",
    "Three steps in A/B testing:\n",
    "- design: how many measurements to take\n",
    "- measure: use randomization to measure\n",
    "- analyze: compare the busines metric estimates of A and B"
   ]
  },
  {
   "cell_type": "markdown",
   "id": "cf4e404c-a859-48b7-81f3-7ebaf48b0cbe",
   "metadata": {
    "execution": {
     "iopub.execute_input": "2024-04-24T07:23:58.300177Z",
     "iopub.status.busy": "2024-04-24T07:23:58.298022Z",
     "iopub.status.idle": "2024-04-24T07:23:58.317393Z",
     "shell.execute_reply": "2024-04-24T07:23:58.314472Z",
     "shell.execute_reply.started": "2024-04-24T07:23:58.300101Z"
    }
   },
   "source": [
    "## Simulate the trading system"
   ]
  },
  {
   "cell_type": "code",
   "execution_count": 5,
   "id": "9d8ec736-999f-44cb-b913-e4e5d9d4c070",
   "metadata": {
    "execution": {
     "iopub.execute_input": "2024-04-24T07:25:29.699027Z",
     "iopub.status.busy": "2024-04-24T07:25:29.697843Z",
     "iopub.status.idle": "2024-04-24T07:25:29.735583Z",
     "shell.execute_reply": "2024-04-24T07:25:29.725917Z",
     "shell.execute_reply.started": "2024-04-24T07:25:29.698979Z"
    }
   },
   "outputs": [],
   "source": [
    "import numpy as np\n",
    "\n",
    "\n",
    "def trading_system(exchange):\n",
    "    if exchange == \"ASDAQ\":\n",
    "        execution_cost = 12\n",
    "    elif exchange == \"BYSE\":\n",
    "        execution_cost = 10\n",
    "    else:\n",
    "        raise ValueError(\"unknown exchange: {}\".format(exchange))\n",
    "    execution_cost += np.random.normal()\n",
    "    return execution_cost"
   ]
  },
  {
   "cell_type": "code",
   "execution_count": 8,
   "id": "86a9198c-8c4e-4650-ad66-08883d1bfdcd",
   "metadata": {
    "execution": {
     "iopub.execute_input": "2024-04-24T07:25:42.946130Z",
     "iopub.status.busy": "2024-04-24T07:25:42.945743Z",
     "iopub.status.idle": "2024-04-24T07:25:42.957912Z",
     "shell.execute_reply": "2024-04-24T07:25:42.956661Z",
     "shell.execute_reply.started": "2024-04-24T07:25:42.946104Z"
    }
   },
   "outputs": [
    {
     "data": {
      "text/plain": [
       "12.27626589002132"
      ]
     },
     "execution_count": 8,
     "metadata": {},
     "output_type": "execute_result"
    }
   ],
   "source": [
    "np.random.seed(17)\n",
    "\n",
    "trading_system(\"ASDAQ\")"
   ]
  },
  {
   "cell_type": "markdown",
   "id": "41c82181-a052-401f-b4ff-558c5688607c",
   "metadata": {},
   "source": [
    "## Compare execution cost"
   ]
  },
  {
   "cell_type": "code",
   "execution_count": 20,
   "id": "f2429a7c-2988-4fb7-ac88-871808a29445",
   "metadata": {
    "execution": {
     "iopub.execute_input": "2024-04-24T07:27:04.962301Z",
     "iopub.status.busy": "2024-04-24T07:27:04.961736Z",
     "iopub.status.idle": "2024-04-24T07:27:04.973193Z",
     "shell.execute_reply": "2024-04-24T07:27:04.971766Z",
     "shell.execute_reply.started": "2024-04-24T07:27:04.962272Z"
    }
   },
   "outputs": [
    {
     "name": "stdout",
     "output_type": "stream",
     "text": [
      "12.27626589002132\n",
      "8.145371921193496\n"
     ]
    }
   ],
   "source": [
    "np.random.seed(17)\n",
    "\n",
    "print(trading_system(\"ASDAQ\"))\n",
    "print(trading_system(\"BYSE\"))"
   ]
  },
  {
   "cell_type": "markdown",
   "id": "98dfd278-3090-4b05-acba-117a84a4a0e6",
   "metadata": {},
   "source": [
    "Observation: it is cheaper to trade on BYSE"
   ]
  },
  {
   "cell_type": "code",
   "execution_count": 10,
   "id": "3dde279c-1198-4c61-b234-033879274d16",
   "metadata": {
    "execution": {
     "iopub.execute_input": "2024-04-24T07:26:20.631929Z",
     "iopub.status.busy": "2024-04-24T07:26:20.631033Z",
     "iopub.status.idle": "2024-04-24T07:26:20.677732Z",
     "shell.execute_reply": "2024-04-24T07:26:20.673247Z",
     "shell.execute_reply.started": "2024-04-24T07:26:20.631882Z"
    }
   },
   "outputs": [
    {
     "name": "stdout",
     "output_type": "stream",
     "text": [
      "12.079428443806204\n",
      "12.190202357414222\n"
     ]
    }
   ],
   "source": [
    "np.random.seed(18)\n",
    "\n",
    "print(trading_system(\"ASDAQ\"))\n",
    "print(trading_system(\"BYSE\"))"
   ]
  },
  {
   "cell_type": "markdown",
   "id": "153c8aaf-0cc8-4bf6-8b3c-d9ac72a2e508",
   "metadata": {},
   "source": [
    "Observation: it is now cheaper to trade on ASDAQ. The measure value varies from measurement to measurement."
   ]
  },
  {
   "cell_type": "markdown",
   "id": "4e891822-ed2c-407e-9aa3-50032a4fb0a5",
   "metadata": {},
   "source": [
    "### Variation"
   ]
  },
  {
   "cell_type": "code",
   "execution_count": 22,
   "id": "fb2454c7-05b1-49a2-9840-95b515e6aa9c",
   "metadata": {
    "execution": {
     "iopub.execute_input": "2024-04-24T07:29:35.748000Z",
     "iopub.status.busy": "2024-04-24T07:29:35.735122Z",
     "iopub.status.idle": "2024-04-24T07:29:35.759961Z",
     "shell.execute_reply": "2024-04-24T07:29:35.758549Z",
     "shell.execute_reply.started": "2024-04-24T07:29:35.747944Z"
    }
   },
   "outputs": [
    {
     "name": "stdout",
     "output_type": "stream",
     "text": [
      "12.111509794247766\n",
      "10.008382946497413\n"
     ]
    }
   ],
   "source": [
    "np.random.seed(17)\n",
    "\n",
    "print(np.array([trading_system(\"ASDAQ\") for _ in range(100)]).mean())\n",
    "print(np.array([trading_system(\"BYSE\") for _ in range(100)]).mean())"
   ]
  },
  {
   "cell_type": "code",
   "execution_count": 23,
   "id": "e9cee972-81e8-489b-92d5-94b4d3980217",
   "metadata": {
    "execution": {
     "iopub.execute_input": "2024-04-24T07:29:35.930628Z",
     "iopub.status.busy": "2024-04-24T07:29:35.929984Z",
     "iopub.status.idle": "2024-04-24T07:29:35.945468Z",
     "shell.execute_reply": "2024-04-24T07:29:35.943913Z",
     "shell.execute_reply.started": "2024-04-24T07:29:35.930601Z"
    }
   },
   "outputs": [
    {
     "name": "stdout",
     "output_type": "stream",
     "text": [
      "11.880880186907996\n",
      "9.99591773728191\n"
     ]
    }
   ],
   "source": [
    "print(np.array([trading_system(\"ASDAQ\") for _ in range(100)]).mean())\n",
    "print(np.array([trading_system(\"BYSE\") for _ in range(100)]).mean())"
   ]
  },
  {
   "cell_type": "markdown",
   "id": "4720c24c-8ff6-4d51-851d-13bdf654e5ae",
   "metadata": {},
   "source": [
    "### Bias\n",
    "\n",
    "Below is a simulator that accounts for time of day (tod)."
   ]
  },
  {
   "cell_type": "code",
   "execution_count": 24,
   "id": "e136c084-668b-40a9-9768-7c19bac8da47",
   "metadata": {
    "execution": {
     "iopub.execute_input": "2024-04-24T07:34:03.301959Z",
     "iopub.status.busy": "2024-04-24T07:34:03.298719Z",
     "iopub.status.idle": "2024-04-24T07:34:03.320729Z",
     "shell.execute_reply": "2024-04-24T07:34:03.315911Z",
     "shell.execute_reply.started": "2024-04-24T07:34:03.301894Z"
    }
   },
   "outputs": [],
   "source": [
    "def trading_system_tod(exchange, time_of_day):\n",
    "    if time_of_day == \"morning\":\n",
    "        bias = 2.5\n",
    "    elif time_of_day == \"afternoon\":\n",
    "        bias = 0\n",
    "    else:\n",
    "        raise ValueError(\"unknown time of day: {}\".format(time_of_day))\n",
    "    return bias + trading_system(exchange)"
   ]
  },
  {
   "cell_type": "code",
   "execution_count": 27,
   "id": "77035153-8809-4f28-9cb2-c78c036b9d59",
   "metadata": {
    "execution": {
     "iopub.execute_input": "2024-04-24T07:35:15.343208Z",
     "iopub.status.busy": "2024-04-24T07:35:15.338641Z",
     "iopub.status.idle": "2024-04-24T07:35:15.454518Z",
     "shell.execute_reply": "2024-04-24T07:35:15.453330Z",
     "shell.execute_reply.started": "2024-04-24T07:35:15.343140Z"
    }
   },
   "outputs": [
    {
     "name": "stdout",
     "output_type": "stream",
     "text": [
      "14.611509794247766\n",
      "12.008382946497411\n"
     ]
    }
   ],
   "source": [
    "np.random.seed(17)\n",
    "\n",
    "print(np.array([trading_system_tod(\"ASDAQ\", \"morning\") for _ in range(100)]).mean())\n",
    "print(np.array([trading_system_tod(\"ASDAQ\", \"afternoon\") for _ in range(100)]).mean())"
   ]
  },
  {
   "cell_type": "markdown",
   "id": "9a6407e4-7887-4ec9-a0e3-27a2c4283252",
   "metadata": {},
   "source": [
    "Observation: it is cheaper to trade in the afternoon."
   ]
  },
  {
   "cell_type": "code",
   "execution_count": 28,
   "id": "f53ba36d-c04e-4d85-bbc4-7ce497222733",
   "metadata": {
    "execution": {
     "iopub.execute_input": "2024-04-24T07:35:44.026482Z",
     "iopub.status.busy": "2024-04-24T07:35:44.024851Z",
     "iopub.status.idle": "2024-04-24T07:35:44.043505Z",
     "shell.execute_reply": "2024-04-24T07:35:44.039598Z",
     "shell.execute_reply.started": "2024-04-24T07:35:44.026436Z"
    }
   },
   "outputs": [
    {
     "name": "stdout",
     "output_type": "stream",
     "text": [
      "12.611509794247766\n",
      "12.008382946497411\n"
     ]
    }
   ],
   "source": [
    "np.random.seed(17)\n",
    "\n",
    "print(np.array([trading_system_tod(\"BYSE\", \"morning\") for _ in range(100)]).mean())\n",
    "print(np.array([trading_system_tod(\"ASDAQ\", \"afternoon\") for _ in range(100)]).mean())"
   ]
  },
  {
   "cell_type": "markdown",
   "id": "ab6fa44e-1d7c-4534-9df3-8fe8faf05099",
   "metadata": {},
   "source": [
    "Observation: ASDAQ is more expensive, but it would appear as if it is cheaper than BYSE if traded during the afternoon."
   ]
  },
  {
   "cell_type": "markdown",
   "id": "5d19c53a-cf59-424e-84ba-032164d3185a",
   "metadata": {},
   "source": [
    "### Randomization\n",
    "\n",
    "To remove __confounder bias__ (when a bias is applied differently and consistently), we apply __randomization__ when taking measurements."
   ]
  },
  {
   "cell_type": "code",
   "execution_count": 29,
   "id": "b2c68450-93be-4f75-800b-c52a22514003",
   "metadata": {
    "execution": {
     "iopub.execute_input": "2024-04-24T07:42:38.989153Z",
     "iopub.status.busy": "2024-04-24T07:42:38.984929Z",
     "iopub.status.idle": "2024-04-24T07:42:39.009388Z",
     "shell.execute_reply": "2024-04-24T07:42:39.007598Z",
     "shell.execute_reply.started": "2024-04-24T07:42:38.989062Z"
    }
   },
   "outputs": [],
   "source": [
    "def randomized_measurement():\n",
    "    asdaq_measurement = []\n",
    "    byse_measurement = []\n",
    "    for tod in [\"morning\", \"afternoon\"]:\n",
    "        for _ in range(100):\n",
    "            if np.random.randint(2) == 0:\n",
    "                asdaq_measurement.append(trading_system_tod(\"ASDAQ\", tod))\n",
    "            else:\n",
    "                byse_measurement.append(trading_system_tod(\"BYSE\", tod))\n",
    "    return np.array(asdaq_measurement).mean(), np.array(byse_measurement).mean()"
   ]
  },
  {
   "cell_type": "code",
   "execution_count": 30,
   "id": "336ff059-8d8f-4e91-b722-9ca910909bed",
   "metadata": {
    "execution": {
     "iopub.execute_input": "2024-04-24T07:42:54.847106Z",
     "iopub.status.busy": "2024-04-24T07:42:54.845427Z",
     "iopub.status.idle": "2024-04-24T07:42:54.914359Z",
     "shell.execute_reply": "2024-04-24T07:42:54.910667Z",
     "shell.execute_reply.started": "2024-04-24T07:42:54.847060Z"
    }
   },
   "outputs": [
    {
     "data": {
      "text/plain": [
       "(13.39588870623852, 11.259639285763223)"
      ]
     },
     "execution_count": 30,
     "metadata": {},
     "output_type": "execute_result"
    }
   ],
   "source": [
    "np.random.seed(17)\n",
    "\n",
    "randomized_measurement()"
   ]
  },
  {
   "cell_type": "markdown",
   "id": "a3e3e5dd-13f8-4371-9a04-86219ae259df",
   "metadata": {
    "execution": {
     "iopub.execute_input": "2024-04-24T07:43:21.246266Z",
     "iopub.status.busy": "2024-04-24T07:43:21.244228Z",
     "iopub.status.idle": "2024-04-24T07:43:21.323424Z",
     "shell.execute_reply": "2024-04-24T07:43:21.292005Z",
     "shell.execute_reply.started": "2024-04-24T07:43:21.246211Z"
    }
   },
   "source": [
    "## Take a precise measurement"
   ]
  },
  {
   "cell_type": "markdown",
   "id": "607b1298-1df8-45a1-bac0-00c4f95d7ad5",
   "metadata": {},
   "source": [
    "### Mitigate measurement variation with replication"
   ]
  },
  {
   "cell_type": "code",
   "execution_count": 37,
   "id": "ec09e863-ef35-4d79-9186-838218277f70",
   "metadata": {
    "execution": {
     "iopub.execute_input": "2024-04-24T11:42:26.712022Z",
     "iopub.status.busy": "2024-04-24T11:42:26.711571Z",
     "iopub.status.idle": "2024-04-24T11:42:26.780127Z",
     "shell.execute_reply": "2024-04-24T11:42:26.758460Z",
     "shell.execute_reply.started": "2024-04-24T11:42:26.711989Z"
    }
   },
   "outputs": [
    {
     "data": {
      "text/plain": [
       "array([12.27626589, 10.14537192, 12.62390111])"
      ]
     },
     "execution_count": 37,
     "metadata": {},
     "output_type": "execute_result"
    }
   ],
   "source": [
    "np.random.seed(17)\n",
    "\n",
    "measurements = np.array([trading_system(\"ASDAQ\") for _ in range(3)])\n",
    "measurements"
   ]
  },
  {
   "cell_type": "code",
   "execution_count": 39,
   "id": "ca1b81cc-7fb8-4c2e-b3de-785ca1524b0f",
   "metadata": {
    "execution": {
     "iopub.execute_input": "2024-04-24T11:42:41.727722Z",
     "iopub.status.busy": "2024-04-24T11:42:41.727245Z",
     "iopub.status.idle": "2024-04-24T11:42:41.756891Z",
     "shell.execute_reply": "2024-04-24T11:42:41.754861Z",
     "shell.execute_reply.started": "2024-04-24T11:42:41.727688Z"
    }
   },
   "outputs": [
    {
     "data": {
      "text/plain": [
       "11.681846307513723"
      ]
     },
     "execution_count": 39,
     "metadata": {},
     "output_type": "execute_result"
    }
   ],
   "source": [
    "measurements.mean()"
   ]
  },
  {
   "cell_type": "code",
   "execution_count": 40,
   "id": "44c359aa-f2ba-4667-bdb6-a877134e0cf4",
   "metadata": {
    "execution": {
     "iopub.execute_input": "2024-04-24T11:43:04.918365Z",
     "iopub.status.busy": "2024-04-24T11:43:04.893998Z",
     "iopub.status.idle": "2024-04-24T11:43:04.962596Z",
     "shell.execute_reply": "2024-04-24T11:43:04.929199Z",
     "shell.execute_reply.started": "2024-04-24T11:43:04.918315Z"
    }
   },
   "outputs": [
    {
     "data": {
      "text/plain": [
       "array([ 0.27626589, -1.85462808,  0.62390111])"
      ]
     },
     "execution_count": 40,
     "metadata": {},
     "output_type": "execute_result"
    }
   ],
   "source": [
    "measurements - 12"
   ]
  },
  {
   "cell_type": "code",
   "execution_count": 41,
   "id": "6589dd30-9028-4440-a391-5bba3da837c4",
   "metadata": {
    "execution": {
     "iopub.execute_input": "2024-04-24T11:43:16.606296Z",
     "iopub.status.busy": "2024-04-24T11:43:16.605436Z",
     "iopub.status.idle": "2024-04-24T11:43:16.661627Z",
     "shell.execute_reply": "2024-04-24T11:43:16.614201Z",
     "shell.execute_reply.started": "2024-04-24T11:43:16.606264Z"
    }
   },
   "outputs": [
    {
     "data": {
      "text/plain": [
       "-0.3181536924862769"
      ]
     },
     "execution_count": 41,
     "metadata": {},
     "output_type": "execute_result"
    }
   ],
   "source": [
    "measurements.mean() - 12"
   ]
  },
  {
   "cell_type": "code",
   "execution_count": 42,
   "id": "f530a349-5e8d-4154-a2ad-caa02a2c194d",
   "metadata": {
    "execution": {
     "iopub.execute_input": "2024-04-24T11:45:33.631603Z",
     "iopub.status.busy": "2024-04-24T11:45:33.627972Z",
     "iopub.status.idle": "2024-04-24T11:45:33.650227Z",
     "shell.execute_reply": "2024-04-24T11:45:33.648476Z",
     "shell.execute_reply.started": "2024-04-24T11:45:33.631506Z"
    }
   },
   "outputs": [],
   "source": [
    "def aggregate_measurement(exchange, num_individual_measurements):\n",
    "    individual_measurements = np.array(\n",
    "        [trading_system(exchange) for _ in range(num_individual_measurements)]\n",
    "    )\n",
    "    return individual_measurements.mean()"
   ]
  },
  {
   "cell_type": "code",
   "execution_count": 45,
   "id": "6e443692-bef8-40e6-9b55-eb62f0acd542",
   "metadata": {
    "execution": {
     "iopub.execute_input": "2024-04-24T11:46:29.737802Z",
     "iopub.status.busy": "2024-04-24T11:46:29.736728Z",
     "iopub.status.idle": "2024-04-24T11:46:29.780375Z",
     "shell.execute_reply": "2024-04-24T11:46:29.777381Z",
     "shell.execute_reply.started": "2024-04-24T11:46:29.737755Z"
    }
   },
   "outputs": [
    {
     "name": "stdout",
     "output_type": "stream",
     "text": [
      "12.000257642551059\n",
      "10.051095649188758\n"
     ]
    }
   ],
   "source": [
    "np.random.seed(17)\n",
    "\n",
    "print(aggregate_measurement(\"ASDAQ\", 300))\n",
    "print(aggregate_measurement(\"BYSE\", 300))"
   ]
  },
  {
   "cell_type": "code",
   "execution_count": 46,
   "id": "8cef663b-09c5-4d4d-82a2-e350e081aee9",
   "metadata": {
    "execution": {
     "iopub.execute_input": "2024-04-24T11:46:29.846296Z",
     "iopub.status.busy": "2024-04-24T11:46:29.845765Z",
     "iopub.status.idle": "2024-04-24T11:46:29.981590Z",
     "shell.execute_reply": "2024-04-24T11:46:29.856883Z",
     "shell.execute_reply.started": "2024-04-24T11:46:29.846267Z"
    }
   },
   "outputs": [
    {
     "name": "stdout",
     "output_type": "stream",
     "text": [
      "11.987318214094266\n",
      "10.021053044438455\n"
     ]
    }
   ],
   "source": [
    "print(aggregate_measurement(\"ASDAQ\", 300))\n",
    "print(aggregate_measurement(\"BYSE\", 300))"
   ]
  },
  {
   "cell_type": "markdown",
   "id": "c878c95c-1172-41be-a003-7d6bfdf27ab0",
   "metadata": {},
   "source": [
    "### Standard Error"
   ]
  },
  {
   "cell_type": "code",
   "execution_count": 49,
   "id": "7aecdae7-72d0-4f93-816f-036af279d039",
   "metadata": {
    "execution": {
     "iopub.execute_input": "2024-04-24T11:49:40.221115Z",
     "iopub.status.busy": "2024-04-24T11:49:40.220031Z",
     "iopub.status.idle": "2024-04-24T11:49:40.733952Z",
     "shell.execute_reply": "2024-04-24T11:49:40.730294Z",
     "shell.execute_reply.started": "2024-04-24T11:49:40.221013Z"
    }
   },
   "outputs": [
    {
     "data": {
      "text/plain": [
       "(0.5778543829446465, 0.1794924850151226, 0.058012150188856464)"
      ]
     },
     "execution_count": 49,
     "metadata": {},
     "output_type": "execute_result"
    }
   ],
   "source": [
    "agg_3 = np.array([aggregate_measurement(\"ASDAQ\", 3) for _ in range(1000)])\n",
    "agg_30 = np.array([aggregate_measurement(\"ASDAQ\", 30) for _ in range(1000)])\n",
    "agg_300 = np.array([aggregate_measurement(\"ASDAQ\", 300) for _ in range(1000)])\n",
    "\n",
    "agg_3.std(), agg_30.std(), agg_300.std()"
   ]
  },
  {
   "cell_type": "markdown",
   "id": "e7ad2354-9a53-407c-8e7c-06e3b4c35d0b",
   "metadata": {},
   "source": [
    "Observation: the standard deviation decreases as the number of individual measurements in each aggregate measurement increases."
   ]
  },
  {
   "cell_type": "code",
   "execution_count": 54,
   "id": "75a1b1fe-d259-4f30-a56f-800c5acb84aa",
   "metadata": {
    "execution": {
     "iopub.execute_input": "2024-04-24T11:57:43.225274Z",
     "iopub.status.busy": "2024-04-24T11:57:43.224516Z",
     "iopub.status.idle": "2024-04-24T11:57:43.254673Z",
     "shell.execute_reply": "2024-04-24T11:57:43.236893Z",
     "shell.execute_reply.started": "2024-04-24T11:57:43.225219Z"
    }
   },
   "outputs": [],
   "source": [
    "def aggregate_measurement_with_se(exchange, num_individual_measurements):\n",
    "    individual_measurements = np.array(\n",
    "        [trading_system(exchange) for _ in range(num_individual_measurements)]\n",
    "    )\n",
    "    aggregate_measurement = individual_measurements.mean()\n",
    "    sd_1 = individual_measurements.std()\n",
    "    se = sd_1 / np.sqrt(num_individual_measurements)\n",
    "    return aggregate_measurement, se"
   ]
  },
  {
   "cell_type": "code",
   "execution_count": 55,
   "id": "09139ad4-e60f-4dbe-a762-fee674af7476",
   "metadata": {
    "execution": {
     "iopub.execute_input": "2024-04-24T11:57:43.610682Z",
     "iopub.status.busy": "2024-04-24T11:57:43.609705Z",
     "iopub.status.idle": "2024-04-24T11:57:43.651483Z",
     "shell.execute_reply": "2024-04-24T11:57:43.617188Z",
     "shell.execute_reply.started": "2024-04-24T11:57:43.610638Z"
    }
   },
   "outputs": [
    {
     "name": "stdout",
     "output_type": "stream",
     "text": [
      "(12.000257642551059, 0.060254756364981225)\n",
      "(10.051095649188758, 0.05714189794415452)\n"
     ]
    }
   ],
   "source": [
    "np.random.seed(17)\n",
    "\n",
    "print(aggregate_measurement_with_se(\"ASDAQ\", 300))\n",
    "print(aggregate_measurement_with_se(\"BYSE\", 300))"
   ]
  },
  {
   "cell_type": "markdown",
   "id": "95645256-d4a5-4335-835f-36891110685e",
   "metadata": {},
   "source": [
    "## Run an A/B test"
   ]
  },
  {
   "cell_type": "markdown",
   "id": "79c58734-52bb-45c1-8568-95ebbf649ca6",
   "metadata": {},
   "source": [
    "### Analyze your measurements"
   ]
  },
  {
   "cell_type": "code",
   "execution_count": 62,
   "id": "33216599-6851-4b24-a370-e7aaf51ce6c7",
   "metadata": {
    "execution": {
     "iopub.execute_input": "2024-04-24T12:03:02.515055Z",
     "iopub.status.busy": "2024-04-24T12:03:02.511435Z",
     "iopub.status.idle": "2024-04-24T12:03:02.553605Z",
     "shell.execute_reply": "2024-04-24T12:03:02.531840Z",
     "shell.execute_reply.started": "2024-04-24T12:03:02.514937Z"
    }
   },
   "outputs": [
    {
     "data": {
      "text/plain": [
       "-4.4851273191475025"
      ]
     },
     "execution_count": 62,
     "metadata": {},
     "output_type": "execute_result"
    }
   ],
   "source": [
    "np.random.seed(17)\n",
    "\n",
    "num_individual_measurements = 10\n",
    "agg_asdaq, se_asdaq = aggregate_measurement_with_se(\n",
    "    \"ASDAQ\", num_individual_measurements\n",
    ")\n",
    "agg_byse, se_byse = aggregate_measurement_with_se(\"BYSE\", num_individual_measurements)\n",
    "delta = agg_byse - agg_asdaq\n",
    "se_delta = np.sqrt(se_byse**2 + se_asdaq**2)\n",
    "z_score = delta / se_delta\n",
    "z_score"
   ]
  },
  {
   "cell_type": "markdown",
   "id": "95afe2cc-c72c-465f-98da-e9addf254e00",
   "metadata": {},
   "source": [
    "### Design the A/B test"
   ]
  },
  {
   "cell_type": "code",
   "execution_count": 65,
   "id": "f9a9eec5-e68b-43a3-a277-e5ee291c327e",
   "metadata": {
    "execution": {
     "iopub.execute_input": "2024-04-24T12:09:05.976106Z",
     "iopub.status.busy": "2024-04-24T12:09:05.975475Z",
     "iopub.status.idle": "2024-04-24T12:09:05.996497Z",
     "shell.execute_reply": "2024-04-24T12:09:05.989682Z",
     "shell.execute_reply.started": "2024-04-24T12:09:05.976053Z"
    }
   },
   "outputs": [],
   "source": [
    "def ab_test_design(sd_1_delta, practical_significance):\n",
    "    num_individual_measurements = (1.64 * sd_1_delta / practical_significance) ** 2\n",
    "    return np.ceil(num_individual_measurements)"
   ]
  },
  {
   "cell_type": "code",
   "execution_count": 69,
   "id": "ab6e7276-19e2-43a1-bf1d-b5773e7352f1",
   "metadata": {
    "execution": {
     "iopub.execute_input": "2024-04-24T12:10:52.382087Z",
     "iopub.status.busy": "2024-04-24T12:10:52.381353Z",
     "iopub.status.idle": "2024-04-24T12:10:52.467102Z",
     "shell.execute_reply": "2024-04-24T12:10:52.465781Z",
     "shell.execute_reply.started": "2024-04-24T12:10:52.382044Z"
    }
   },
   "outputs": [
    {
     "data": {
      "text/plain": [
       "7.0"
      ]
     },
     "execution_count": 69,
     "metadata": {},
     "output_type": "execute_result"
    }
   ],
   "source": [
    "np.random.seed(17)\n",
    "\n",
    "sd_1_asdaq = np.array([trading_system(\"ASDAQ\") for _ in range(100)]).std()\n",
    "sd_1_byse = sd_1_asdaq\n",
    "sd_1_delta = np.sqrt(sd_1_asdaq**2 + sd_1_byse**2)\n",
    "\n",
    "practical_significance = 1\n",
    "ab_test_design(sd_1_delta, practical_significance)"
   ]
  },
  {
   "cell_type": "markdown",
   "id": "c530950c-6884-4311-a30c-d827a2a44f2b",
   "metadata": {},
   "source": [
    "Observation: If you take seven individual measurements, you'll have a 5% chance of a false positive - of incorrectly acting as if BYSE is better than ASDAQ."
   ]
  },
  {
   "cell_type": "markdown",
   "id": "4ba642c8-712a-410c-b09a-6521d0c1c61b",
   "metadata": {},
   "source": [
    "### False Negatives"
   ]
  },
  {
   "cell_type": "code",
   "execution_count": 71,
   "id": "e726ce43-24b6-4d04-8e80-3af133457341",
   "metadata": {
    "execution": {
     "iopub.execute_input": "2024-04-24T12:15:05.562381Z",
     "iopub.status.busy": "2024-04-24T12:15:05.561765Z",
     "iopub.status.idle": "2024-04-24T12:15:05.586912Z",
     "shell.execute_reply": "2024-04-24T12:15:05.585590Z",
     "shell.execute_reply.started": "2024-04-24T12:15:05.562339Z"
    }
   },
   "outputs": [],
   "source": [
    "def ab_test_design_2(sd_1_delta, practical_significance):\n",
    "    \"\"\"A/B test design with power analysis\"\"\"\n",
    "    num_individual_measurements = (2.48 * sd_1_delta / practical_significance) ** 2\n",
    "    return np.ceil(num_individual_measurements)"
   ]
  },
  {
   "cell_type": "code",
   "execution_count": 72,
   "id": "5280d6f0-72f4-4380-afdf-f15da514c704",
   "metadata": {
    "execution": {
     "iopub.execute_input": "2024-04-24T12:17:50.697679Z",
     "iopub.status.busy": "2024-04-24T12:17:50.696861Z",
     "iopub.status.idle": "2024-04-24T12:17:50.840602Z",
     "shell.execute_reply": "2024-04-24T12:17:50.819413Z",
     "shell.execute_reply.started": "2024-04-24T12:17:50.697619Z"
    }
   },
   "outputs": [
    {
     "data": {
      "text/plain": [
       "16.0"
      ]
     },
     "execution_count": 72,
     "metadata": {},
     "output_type": "execute_result"
    }
   ],
   "source": [
    "np.random.seed(17)\n",
    "\n",
    "sd_1_asdaq = np.array([trading_system(\"ASDAQ\") for _ in range(100)]).std()\n",
    "sd_1_byse = sd_1_asdaq\n",
    "sd_1_delta = np.sqrt(sd_1_asdaq**2 + sd_1_byse**2)\n",
    "prac_sig = 1.0\n",
    "ab_test_design_2(sd_1_delta, prac_sig)"
   ]
  },
  {
   "cell_type": "markdown",
   "id": "a61e4f98-622a-48ef-9eb7-af0a8d693ac2",
   "metadata": {},
   "source": [
    "### Measure and analyze"
   ]
  },
  {
   "cell_type": "code",
   "execution_count": 75,
   "id": "b801fec8-50cf-4169-ae00-07af9542433d",
   "metadata": {
    "execution": {
     "iopub.execute_input": "2024-04-24T12:21:06.287679Z",
     "iopub.status.busy": "2024-04-24T12:21:06.285825Z",
     "iopub.status.idle": "2024-04-24T12:21:06.357508Z",
     "shell.execute_reply": "2024-04-24T12:21:06.338657Z",
     "shell.execute_reply.started": "2024-04-24T12:21:06.287619Z"
    }
   },
   "outputs": [],
   "source": [
    "def measure(min_individual_measurements):\n",
    "    ind_asdaq = []\n",
    "    ind_byse = []\n",
    "    while (\n",
    "        len(ind_asdaq) < min_individual_measurements\n",
    "        and len(ind_byse) < min_individual_measurements\n",
    "    ):\n",
    "        if np.random.randint(2) == 0:\n",
    "            ind_asdaq.append(trading_system(\"ASDAQ\"))\n",
    "        else:\n",
    "            ind_byse.append(trading_system(\"BYSE\"))\n",
    "    return np.array(ind_asdaq), np.array(ind_byse)"
   ]
  },
  {
   "cell_type": "code",
   "execution_count": 76,
   "id": "51c3c433-5926-458c-8f65-d373d6b88b65",
   "metadata": {
    "execution": {
     "iopub.execute_input": "2024-04-24T12:21:06.908688Z",
     "iopub.status.busy": "2024-04-24T12:21:06.907763Z",
     "iopub.status.idle": "2024-04-24T12:21:06.924372Z",
     "shell.execute_reply": "2024-04-24T12:21:06.923221Z",
     "shell.execute_reply.started": "2024-04-24T12:21:06.908643Z"
    }
   },
   "outputs": [],
   "source": [
    "np.random.seed(17)\n",
    "\n",
    "ind_asdaq, ind_byse = measure(16)"
   ]
  },
  {
   "cell_type": "code",
   "execution_count": 77,
   "id": "8d6c9810-1cb6-4181-94c5-972c1eb09186",
   "metadata": {
    "execution": {
     "iopub.execute_input": "2024-04-24T12:21:45.557437Z",
     "iopub.status.busy": "2024-04-24T12:21:45.556658Z",
     "iopub.status.idle": "2024-04-24T12:21:45.611253Z",
     "shell.execute_reply": "2024-04-24T12:21:45.570619Z",
     "shell.execute_reply.started": "2024-04-24T12:21:45.557397Z"
    }
   },
   "outputs": [
    {
     "data": {
      "text/plain": [
       "-2.7483767796620846"
      ]
     },
     "execution_count": 77,
     "metadata": {},
     "output_type": "execute_result"
    }
   ],
   "source": [
    "ind_byse.mean() - ind_asdaq.mean()"
   ]
  },
  {
   "cell_type": "code",
   "execution_count": 78,
   "id": "14013512-3e18-4e64-8447-8e6318426608",
   "metadata": {
    "execution": {
     "iopub.execute_input": "2024-04-24T12:27:28.494268Z",
     "iopub.status.busy": "2024-04-24T12:27:28.491179Z",
     "iopub.status.idle": "2024-04-24T12:27:28.532167Z",
     "shell.execute_reply": "2024-04-24T12:27:28.529959Z",
     "shell.execute_reply.started": "2024-04-24T12:27:28.494192Z"
    }
   },
   "outputs": [],
   "source": [
    "def analyze(ind_asdaq, ind_byse):\n",
    "    agg_asdaq = ind_asdaq.mean()\n",
    "    se_asdaq = ind_asdaq.std() / np.sqrt(len(ind_asdaq))\n",
    "\n",
    "    agg_byse = ind_byse.mean()\n",
    "    se_byse = ind_byse.std() / np.sqrt(len(ind_byse))\n",
    "\n",
    "    delta = agg_byse - agg_asdaq\n",
    "    se_delta = np.sqrt(se_asdaq**2 + se_byse**2)\n",
    "\n",
    "    z = delta / se_delta\n",
    "    return z"
   ]
  },
  {
   "cell_type": "code",
   "execution_count": 79,
   "id": "3f227355-69a4-47ff-b3cc-f295306e2ca1",
   "metadata": {
    "execution": {
     "iopub.execute_input": "2024-04-24T12:27:38.389925Z",
     "iopub.status.busy": "2024-04-24T12:27:38.389323Z",
     "iopub.status.idle": "2024-04-24T12:27:38.476476Z",
     "shell.execute_reply": "2024-04-24T12:27:38.472675Z",
     "shell.execute_reply.started": "2024-04-24T12:27:38.389869Z"
    }
   },
   "outputs": [
    {
     "data": {
      "text/plain": [
       "-6.353995237966593"
      ]
     },
     "execution_count": 79,
     "metadata": {},
     "output_type": "execute_result"
    }
   ],
   "source": [
    "analyze(ind_asdaq, ind_byse)"
   ]
  },
  {
   "cell_type": "markdown",
   "id": "9de5af26-732d-43c0-b37d-ea29e5712da9",
   "metadata": {},
   "source": [
    "Observation: because z is well below the threshold of -1.64, this result is statistically significant. BYSE has passed the second test."
   ]
  },
  {
   "cell_type": "markdown",
   "id": "fe3f7a9a-ce05-4fa6-b39d-f4a26e62b9aa",
   "metadata": {},
   "source": [
    "### Recap of A/B test stages\n",
    "\n",
    "- design: determined the minimum number of individual measurements needed to be able to detect statistical significance. That number was given by $(2.48 * st_1_delta / prac_sig)**2$\n",
    "- measure: collect the prescribed number of individual measurements, and randomize between variants to remove confounder bias\n",
    "- analyze: ensure the difference in cost between BYSE and ASDAQ was **practically significant** (`delta <- prac_sig`) and **statistically significant** (`delta/se_delta <- 1.64`)"
   ]
  }
 ],
 "metadata": {
  "kernelspec": {
   "display_name": "Python 3 (ipykernel)",
   "language": "python",
   "name": "python3"
  },
  "language_info": {
   "codemirror_mode": {
    "name": "ipython",
    "version": 3
   },
   "file_extension": ".py",
   "mimetype": "text/x-python",
   "name": "python",
   "nbconvert_exporter": "python",
   "pygments_lexer": "ipython3",
   "version": "3.11.9"
  },
  "widgets": {
   "application/vnd.jupyter.widget-state+json": {
    "state": {},
    "version_major": 2,
    "version_minor": 0
   }
  }
 },
 "nbformat": 4,
 "nbformat_minor": 5
}
