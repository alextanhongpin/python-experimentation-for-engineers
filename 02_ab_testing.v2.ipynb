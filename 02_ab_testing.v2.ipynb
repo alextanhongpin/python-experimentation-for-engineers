{
 "cells": [
  {
   "cell_type": "code",
   "execution_count": 2,
   "id": "2ea250e5-ce2d-4bad-b2fa-a3db8b81bf1f",
   "metadata": {},
   "outputs": [
    {
     "name": "stdout",
     "output_type": "stream",
     "text": [
      "$12.66\n",
      "$12.31\n"
     ]
    }
   ],
   "source": [
    "import numpy as np\n",
    "\n",
    "\n",
    "class Exchange:\n",
    "    COST = 0\n",
    "\n",
    "    def sample(self):\n",
    "        return self.COST + np.random.normal()\n",
    "\n",
    "\n",
    "class TimeOfDayEffectWrapper:\n",
    "    def __init__(self, exchange: Exchange):\n",
    "        self.exchange = exchange\n",
    "\n",
    "    def sample(self, tod=\"afternoon\"):\n",
    "        bias = 2.5 if tod == \"morning\" else 0.0\n",
    "        return self.exchange.sample() + bias\n",
    "\n",
    "\n",
    "class ASDAQ(Exchange):\n",
    "    COST = 12\n",
    "\n",
    "\n",
    "class BYSE(Exchange):\n",
    "    COST = 10\n",
    "\n",
    "\n",
    "def pprint(value):\n",
    "    print(\"${:.2f}\".format(value))\n",
    "\n",
    "\n",
    "asdaq = ASDAQ()\n",
    "pprint(asdaq.sample())\n",
    "pprint(TimeOfDayEffectWrapper(asdaq).sample(tod=\"morning\"))"
   ]
  },
  {
   "cell_type": "code",
   "execution_count": null,
   "id": "118be9a7-be97-45bd-8fb4-3d86398e7669",
   "metadata": {},
   "outputs": [],
   "source": []
  }
 ],
 "metadata": {
  "kernelspec": {
   "display_name": "Python 3 (ipykernel)",
   "language": "python",
   "name": "python3"
  },
  "language_info": {
   "codemirror_mode": {
    "name": "ipython",
    "version": 3
   },
   "file_extension": ".py",
   "mimetype": "text/x-python",
   "name": "python",
   "nbconvert_exporter": "python",
   "pygments_lexer": "ipython3",
   "version": "3.12.8"
  }
 },
 "nbformat": 4,
 "nbformat_minor": 5
}
