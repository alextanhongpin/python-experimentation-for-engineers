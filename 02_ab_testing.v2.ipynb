{
 "cells": [
  {
   "cell_type": "code",
   "execution_count": 1,
   "id": "2ea250e5-ce2d-4bad-b2fa-a3db8b81bf1f",
   "metadata": {},
   "outputs": [],
   "source": [
    "import matplotlib.pyplot as plt\n",
    "import numpy as np\n",
    "import scipy.stats as st\n",
    "import statsmodels.stats.api as sm\n",
    "import statsmodels.stats.power as sp\n",
    "\n",
    "plt.rc(\"figure\", figsize=(16, 10))"
   ]
  },
  {
   "cell_type": "code",
   "execution_count": 2,
   "id": "0416d253-4f96-44ef-a6dd-b3ef3bb26c7a",
   "metadata": {},
   "outputs": [
    {
     "name": "stdout",
     "output_type": "stream",
     "text": [
      "$11.66\n",
      "$18.27\n",
      "$12.06\n",
      "$10.52\n"
     ]
    }
   ],
   "source": [
    "class Exchange:\n",
    "    COST = 0\n",
    "\n",
    "    def sample(self):\n",
    "        return self.COST + np.random.normal()\n",
    "\n",
    "\n",
    "class TimeOfDayEffectWrapper:\n",
    "    def __init__(self, exchange: Exchange):\n",
    "        self.exchange = exchange\n",
    "\n",
    "    def sample(self, tod=\"afternoon\"):\n",
    "        bias = 2.5 if tod == \"morning\" else 0.0\n",
    "        return self.exchange.sample() + bias\n",
    "\n",
    "\n",
    "class ASDAQ(Exchange):\n",
    "    COST = 12\n",
    "\n",
    "\n",
    "class BYSE(Exchange):\n",
    "    COST = 10\n",
    "\n",
    "\n",
    "def pprint(value):\n",
    "    print(\"${:.2f}\".format(value))\n",
    "\n",
    "\n",
    "asdaq = ASDAQ()\n",
    "pprint(asdaq.sample())\n",
    "\n",
    "asdaq = TimeOfDayEffectWrapper(asdaq)\n",
    "pprint(asdaq.sample(\"morning\"))\n",
    "pprint(asdaq.sample(\"afternoon\"))\n",
    "\n",
    "byse = TimeOfDayEffectWrapper(BYSE())\n",
    "pprint(byse.sample())"
   ]
  },
  {
   "cell_type": "code",
   "execution_count": 3,
   "id": "118be9a7-be97-45bd-8fb4-3d86398e7669",
   "metadata": {},
   "outputs": [
    {
     "name": "stdout",
     "output_type": "stream",
     "text": [
      "$10.12\n",
      "$12.02\n"
     ]
    }
   ],
   "source": [
    "pprint(np.mean([byse.sample() for _ in range(100)]))\n",
    "pprint(np.mean([asdaq.sample() for _ in range(100)]))"
   ]
  },
  {
   "cell_type": "code",
   "execution_count": 4,
   "id": "b5d94017-a7c8-4dff-8be9-bef3822a544d",
   "metadata": {},
   "outputs": [
    {
     "name": "stdout",
     "output_type": "stream",
     "text": [
      "0.31915404441380624\n",
      "0.09594886072309623\n",
      "0.03150064880547451\n"
     ]
    }
   ],
   "source": [
    "def aggregate_measurements(n):\n",
    "    return np.mean([byse.sample() for _ in range(n)])\n",
    "\n",
    "\n",
    "print(np.std([aggregate_measurements(10) for _ in range(1000)]))\n",
    "print(np.std([aggregate_measurements(100) for _ in range(1000)]))\n",
    "print(np.std([aggregate_measurements(1000) for _ in range(1000)]))"
   ]
  },
  {
   "cell_type": "markdown",
   "id": "b9c2ba69-8920-404c-bcd0-22e78f18a4c5",
   "metadata": {},
   "source": [
    "The more average measurements we take, the smaller the standard deviation."
   ]
  },
  {
   "cell_type": "code",
   "execution_count": 5,
   "id": "f197e654-8028-4cc4-a215-e509e8a8b47b",
   "metadata": {},
   "outputs": [
    {
     "name": "stdout",
     "output_type": "stream",
     "text": [
      "at least 7 individual measurements are needed\n"
     ]
    }
   ],
   "source": [
    "alpha = 0.05\n",
    "beta = 0.2\n",
    "\n",
    "diff = 1\n",
    "power = 1 - beta\n",
    "n1 = sp.normal_sample_size_one_tail(\n",
    "    diff, power, alpha, std_null=1, std_alternative=None\n",
    ")\n",
    "n1 = int(np.ceil(n1))\n",
    "print(\"at least {} individual measurements are needed\".format(n1))"
   ]
  },
  {
   "cell_type": "code",
   "execution_count": 6,
   "id": "c613c942-c741-47c2-a349-fb9f7f4e6148",
   "metadata": {},
   "outputs": [
    {
     "data": {
      "image/png": "[encoded data removed]",
      "text/plain": [
       "<Figure size 1600x1000 with 1 Axes>"
      ]
     },
     "metadata": {},
     "output_type": "display_data"
    }
   ],
   "source": [
    "n = 30\n",
    "asdaq_samples = []\n",
    "byse_samples = []\n",
    "\n",
    "# Randomly collecting samples for both ASDAQ and NYSE.\n",
    "while len(asdaq_samples) < n or len(byse_samples) < n:\n",
    "    if np.random.random() < 0.5:\n",
    "        asdaq_samples.append(asdaq.sample())\n",
    "    else:\n",
    "        byse_samples.append(byse.sample())\n",
    "\n",
    "plt.boxplot(\n",
    "    [asdaq_samples, byse_samples],\n",
    "    tick_labels=[\"ASDAQ\", \"BYSE\"],\n",
    "    showmeans=True,\n",
    "    meanline=True,\n",
    ");"
   ]
  },
  {
   "cell_type": "code",
   "execution_count": 7,
   "id": "a595ad44-b82b-458a-88d6-77a3238911fc",
   "metadata": {},
   "outputs": [
    {
     "name": "stdout",
     "output_type": "stream",
     "text": [
      "sem=0.1803 | std=0.9708 | mean=11.8170\n",
      "30\n"
     ]
    }
   ],
   "source": [
    "sem = st.sem(asdaq_samples)\n",
    "std = np.std(asdaq_samples)\n",
    "mean = np.mean(asdaq_samples)\n",
    "print(\"sem={:.4f} | std={:.4f} | mean={:.4f}\".format(sem, std, mean))\n",
    "print(len(asdaq_samples))"
   ]
  },
  {
   "cell_type": "code",
   "execution_count": 8,
   "id": "69277d86-4573-4655-be9c-d3568a27ff3c",
   "metadata": {},
   "outputs": [
    {
     "name": "stdout",
     "output_type": "stream",
     "text": [
      "sem=0.1437 | std=0.7741 | mean=9.7907\n",
      "30\n"
     ]
    }
   ],
   "source": [
    "sem = st.sem(byse_samples)\n",
    "std = np.std(byse_samples)\n",
    "mean = np.mean(byse_samples)\n",
    "print(\"sem={:.4f} | std={:.4f} | mean={:.4f}\".format(sem, std, mean))\n",
    "print(len(byse_samples))"
   ]
  },
  {
   "cell_type": "code",
   "execution_count": 9,
   "id": "4870b9ce-45e3-4fc0-8b1a-37c94a6ac7f3",
   "metadata": {},
   "outputs": [
    {
     "data": {
      "text/plain": [
       "(6.965917490529979, 1.6313516626215041e-12, True)"
      ]
     },
     "execution_count": 9,
     "metadata": {},
     "output_type": "execute_result"
    }
   ],
   "source": [
    "# NOTE: The position of the X values are important.\n",
    "# X1 - X2, for smaller alternative.\n",
    "sample_size = 13\n",
    "tstat, pvalue = sm.ztest(\n",
    "    np.random.choice(asdaq_samples, sample_size),  # Control\n",
    "    np.random.choice(byse_samples, sample_size),  # Treatment\n",
    "    usevar=\"pooled\",\n",
    "    alternative=\"larger\",\n",
    ")\n",
    "tstat, pvalue, pvalue < 0.05"
   ]
  },
  {
   "cell_type": "code",
   "execution_count": 10,
   "id": "1790b840-6fda-4621-a270-0191473bde6c",
   "metadata": {},
   "outputs": [
    {
     "data": {
      "text/plain": [
       "12.365112414769648"
      ]
     },
     "execution_count": 10,
     "metadata": {},
     "output_type": "execute_result"
    }
   ],
   "source": [
    "es = 1 / 1\n",
    "alpha = 0.05\n",
    "power = 0.8\n",
    "sm.NormalIndPower().solve_power(\n",
    "    effect_size=es,\n",
    "    nobs1=None,\n",
    "    alpha=alpha,\n",
    "    power=power,\n",
    "    ratio=1.0,\n",
    "    alternative=\"larger\",\n",
    ")"
   ]
  },
  {
   "cell_type": "code",
   "execution_count": 11,
   "id": "2045f874-16fc-4536-9dd7-7d1b08e34be4",
   "metadata": {},
   "outputs": [
    {
     "data": {
      "text/plain": [
       "12.365112414769648"
      ]
     },
     "execution_count": 11,
     "metadata": {},
     "output_type": "execute_result"
    }
   ],
   "source": [
    "sm.zt_ind_solve_power(\n",
    "    effect_size=es,\n",
    "    nobs1=None,\n",
    "    alpha=alpha,\n",
    "    power=power,\n",
    "    ratio=1.0,\n",
    "    alternative=\"larger\",\n",
    ")"
   ]
  }
 ],
 "metadata": {
  "kernelspec": {
   "display_name": "Python 3 (ipykernel)",
   "language": "python",
   "name": "python3"
  },
  "language_info": {
   "codemirror_mode": {
    "name": "ipython",
    "version": 3
   },
   "file_extension": ".py",
   "mimetype": "text/x-python",
   "name": "python",
   "nbconvert_exporter": "python",
   "pygments_lexer": "ipython3",
   "version": "3.12.8"
  }
 },
 "nbformat": 4,
 "nbformat_minor": 5
}
