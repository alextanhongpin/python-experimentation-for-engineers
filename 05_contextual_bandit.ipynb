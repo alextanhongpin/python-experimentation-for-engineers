{
 "cells": [
  {
   "cell_type": "markdown",
   "id": "e40a7eb3-5a73-4afa-aca5-bb56c612b97f",
   "metadata": {
    "execution": {
     "iopub.execute_input": "2024-07-03T08:24:14.822588Z",
     "iopub.status.busy": "2024-07-03T08:24:14.818930Z",
     "iopub.status.idle": "2024-07-03T08:24:15.160609Z",
     "shell.execute_reply": "2024-07-03T08:24:15.157581Z",
     "shell.execute_reply.started": "2024-07-03T08:24:14.822522Z"
    }
   },
   "source": [
    "# Contextual Bandit (Answered by Chat GPT)\n",
    "\n",
    "A contextual bandit is a type of reinforcement learning algorithm used to make decisions in situations where each decision (or action) results in some reward, and the goal is to maximize the total reward over time. It is an extension of the multi-armed bandit problem, which is a classic problem in decision theory and machine learning.\n",
    "\n",
    "### Key Concepts of Contextual Bandit\n",
    "\n",
    "1. **Context**: In a contextual bandit problem, each decision is made in the presence of some contextual information (features). This context can represent various aspects of the environment that influence the decision-making process.\n",
    "   \n",
    "2. **Actions**: At each time step, the agent (or decision-maker) selects an action from a set of available actions based on the current context.\n",
    "\n",
    "3. **Rewards**: After taking an action, the agent receives a reward, which provides feedback on the effectiveness of the action taken in the given context.\n",
    "\n",
    "4. **Objective**: The objective of the contextual bandit algorithm is to learn a policy that maps contexts to actions in a way that maximizes the expected cumulative reward over time.\n",
    "\n",
    "### How it Works\n",
    "\n",
    "1. **Observation**: The agent observes the current context.\n",
    "   \n",
    "2. **Action Selection**: Based on the observed context, the agent selects an action. This selection is typically made using a strategy that balances exploration (trying new actions to learn more about them) and exploitation (choosing the best-known actions to maximize reward).\n",
    "\n",
    "3. **Reward**: The agent receives a reward corresponding to the chosen action.\n",
    "\n",
    "4. **Update**: The agent updates its policy based on the observed context, chosen action, and received reward to improve future decisions.\n",
    "\n",
    "### Example Application\n",
    "\n",
    "Consider an online advertising system where the context is the information about a user (such as demographics and browsing history), the actions are the different ads that can be shown, and the reward is whether the user clicks on the ad. The goal is to show ads that maximize the click-through rate.\n",
    "\n",
    "### Algorithms\n",
    "\n",
    "Several algorithms are used to solve contextual bandit problems, including:\n",
    "\n",
    "- **LinUCB (Linear Upper Confidence Bound)**: Assumes a linear relationship between contexts and rewards and uses confidence bounds to balance exploration and exploitation.\n",
    "- **Thompson Sampling**: Uses a Bayesian approach to model uncertainty about the rewards and selects actions based on samples from the posterior distribution.\n",
    "- **Epsilon-Greedy**: With probability epsilon, it explores by choosing a random action, and with probability 1-epsilon, it exploits by choosing the best-known action.\n",
    "\n",
    "### Benefits\n",
    "\n",
    "- **Personalization**: Can provide more personalized recommendations or decisions based on the contextual information.\n",
    "- **Efficiency**: Helps in efficiently allocating resources or selecting actions that are likely to yield higher rewards.\n",
    "\n",
    "### Challenges\n",
    "\n",
    "- **Scalability**: Handling large-scale contexts and action spaces can be computationally challenging.\n",
    "- **Exploration vs. Exploitation**: Balancing the need to explore new actions with the need to exploit known good actions.\n",
    "\n",
    "In summary, the contextual bandit framework is a powerful tool for sequential decision-making problems where actions need to be tailored based on the contextual information to maximize cumulative rewards."
   ]
  },
  {
   "cell_type": "code",
   "execution_count": 9,
   "id": "d3a1d3ac-98ba-4124-8f24-4e42d2d8f6f8",
   "metadata": {
    "execution": {
     "iopub.execute_input": "2024-07-03T09:13:05.922177Z",
     "iopub.status.busy": "2024-07-03T09:13:05.920121Z",
     "iopub.status.idle": "2024-07-03T09:13:07.516094Z",
     "shell.execute_reply": "2024-07-03T09:13:07.515039Z",
     "shell.execute_reply.started": "2024-07-03T09:13:05.922083Z"
    }
   },
   "outputs": [],
   "source": [
    "import matplotlib.pyplot as plt\n",
    "import numpy as np"
   ]
  },
  {
   "cell_type": "code",
   "execution_count": 10,
   "id": "e0c70f77-b99e-4cde-93d9-b9091ee51eaa",
   "metadata": {
    "execution": {
     "iopub.execute_input": "2024-07-03T09:13:07.518198Z",
     "iopub.status.busy": "2024-07-03T09:13:07.517763Z",
     "iopub.status.idle": "2024-07-03T09:13:07.522667Z",
     "shell.execute_reply": "2024-07-03T09:13:07.521926Z",
     "shell.execute_reply.started": "2024-07-03T09:13:07.518164Z"
    }
   },
   "outputs": [],
   "source": [
    "# Simulate viewing time\n",
    "\n",
    "\n",
    "def measure_viewing_time(context, action_weights):\n",
    "    return np.exp((context * action_weights).mean() + 0.1 * np.random.normal())"
   ]
  },
  {
   "cell_type": "code",
   "execution_count": 13,
   "id": "47e19065-ad98-4ce3-a319-9ef9fbc6cc06",
   "metadata": {
    "execution": {
     "iopub.execute_input": "2024-07-03T09:13:51.295050Z",
     "iopub.status.busy": "2024-07-03T09:13:51.294489Z",
     "iopub.status.idle": "2024-07-03T09:13:51.605169Z",
     "shell.execute_reply": "2024-07-03T09:13:51.604456Z",
     "shell.execute_reply.started": "2024-07-03T09:13:51.294993Z"
    }
   },
   "outputs": [
    {
     "data": {
      "image/png": "[encoded data removed]",
      "text/plain": [
       "<Figure size 640x480 with 1 Axes>"
      ]
     },
     "metadata": {},
     "output_type": "display_data"
    }
   ],
   "source": [
    "np.random.seed(17)\n",
    "\n",
    "action_weights = np.random.normal(size=(5,))\n",
    "m = [\n",
    "    measure_viewing_time(\n",
    "        context=np.random.normal(size=(5,)), action_weights=action_weights\n",
    "    )\n",
    "    for _ in range(1000)\n",
    "]\n",
    "plt.hist(m, 25)\n",
    "plt.xlabel(\"viewing time\")\n",
    "plt.ylabel(\"counts\");"
   ]
  },
  {
   "cell_type": "code",
   "execution_count": 44,
   "id": "f8c4e3ea-fc3b-43cb-95a0-d9563d90765e",
   "metadata": {
    "execution": {
     "iopub.execute_input": "2024-07-03T09:32:07.200216Z",
     "iopub.status.busy": "2024-07-03T09:32:07.197616Z",
     "iopub.status.idle": "2024-07-03T09:32:07.226485Z",
     "shell.execute_reply": "2024-07-03T09:32:07.222364Z",
     "shell.execute_reply.started": "2024-07-03T09:32:07.200168Z"
    }
   },
   "outputs": [],
   "source": [
    "class Sample:\n",
    "    def __init__(self, context, action, reward):\n",
    "        self.context = context\n",
    "        self.action = action\n",
    "        self.reward = reward\n",
    "\n",
    "\n",
    "def collect_logs_by_action(num_actions, logs):\n",
    "    samples_y = [[] for _ in range(num_actions)]\n",
    "    samples_x = [[] for _ in range(num_actions)]\n",
    "\n",
    "    for sample in logs:\n",
    "        samples_y[sample.action].append(sample.reward)\n",
    "        samples_x[sample.action].append(sample.context)\n",
    "\n",
    "    return samples_y, samples_x"
   ]
  },
  {
   "cell_type": "code",
   "execution_count": 45,
   "id": "104efb9d-66d3-4749-b817-a37588c17ead",
   "metadata": {
    "execution": {
     "iopub.execute_input": "2024-07-03T09:32:08.025920Z",
     "iopub.status.busy": "2024-07-03T09:32:08.025585Z",
     "iopub.status.idle": "2024-07-03T09:32:08.033065Z",
     "shell.execute_reply": "2024-07-03T09:32:08.030645Z",
     "shell.execute_reply.started": "2024-07-03T09:32:08.025896Z"
    }
   },
   "outputs": [],
   "source": [
    "def build_models(num_features, samples_y, samples_x):\n",
    "    betas = []\n",
    "    for y, x in zip(samples_y, samples_x):\n",
    "        y = np.array(y)\n",
    "        x = np.array(x)\n",
    "        if len(y) > 0:\n",
    "            beta = np.linalg.pinv(x.T @ x) @ x.T @ y\n",
    "        else:\n",
    "            beta = np.zeros(shape=(num_features,))\n",
    "        betas.append(beta)\n",
    "    return betas"
   ]
  },
  {
   "cell_type": "code",
   "execution_count": 46,
   "id": "c21891d3-1158-4087-b599-07654e6337b4",
   "metadata": {
    "execution": {
     "iopub.execute_input": "2024-07-03T09:32:08.224454Z",
     "iopub.status.busy": "2024-07-03T09:32:08.223149Z",
     "iopub.status.idle": "2024-07-03T09:32:08.289038Z",
     "shell.execute_reply": "2024-07-03T09:32:08.287159Z",
     "shell.execute_reply.started": "2024-07-03T09:32:08.224407Z"
    }
   },
   "outputs": [],
   "source": [
    "class RecommenderGreedy:\n",
    "    def __init__(self, num_features, num_actions):\n",
    "        self._num_features = num_features\n",
    "        self._num_actions = num_actions\n",
    "\n",
    "    def reset(self):\n",
    "        self._betas = [\n",
    "            np.random.normal(size=(num_features,)) for _ in range(self._num_actions)\n",
    "        ]\n",
    "\n",
    "    def fit_offline(self, logs):\n",
    "        samples_y, samples_x = collect_logs_by_action(num_actions, logs)\n",
    "        self._betas = build_models(self._num_features, samples_y, samples_x)\n",
    "\n",
    "    def policy(self, context):\n",
    "        viewing_max = -np.inf\n",
    "        for action in range(self._num_actions):\n",
    "            viewing_hat = context @ self._betas[action]\n",
    "            if viewing_hat > viewing_max:\n",
    "                action_best = action\n",
    "                viewing_max = viewing_hat\n",
    "        return action_best"
   ]
  },
  {
   "cell_type": "code",
   "execution_count": 47,
   "id": "250a0bad-a175-4c0e-9b5f-853aaf1ddafa",
   "metadata": {
    "execution": {
     "iopub.execute_input": "2024-07-03T09:32:08.363574Z",
     "iopub.status.busy": "2024-07-03T09:32:08.362804Z",
     "iopub.status.idle": "2024-07-03T09:32:08.432686Z",
     "shell.execute_reply": "2024-07-03T09:32:08.431443Z",
     "shell.execute_reply.started": "2024-07-03T09:32:08.363530Z"
    }
   },
   "outputs": [],
   "source": [
    "def log_production_data(action_weights, recommender):\n",
    "    logs = []\n",
    "    total_viewing_time = 0\n",
    "    num_decisions = 100\n",
    "    for _ in range(num_decisions):\n",
    "        context = np.random.randint(\n",
    "            2, size=(len(action_weights),)\n",
    "        )  # features describing user\n",
    "        context[0] = 1  # first \"feature\" is just a constant / intercept term / offset\n",
    "        action = recommender.policy(context)  # choose best post\n",
    "        viewing_time = measure_viewing_time(\n",
    "            context=context, action_weights=action_weights[:, action]\n",
    "        )\n",
    "        logs.append(Sample(context, action, viewing_time))\n",
    "        total_viewing_time += viewing_time\n",
    "    avg_viewing_time = (total_viewing_time) / num_decisions\n",
    "    return avg_viewing_time, logs"
   ]
  },
  {
   "cell_type": "code",
   "execution_count": 48,
   "id": "27f1b1ab-8d5c-4382-bf88-9268da581c75",
   "metadata": {
    "execution": {
     "iopub.execute_input": "2024-07-03T09:32:08.587503Z",
     "iopub.status.busy": "2024-07-03T09:32:08.586883Z",
     "iopub.status.idle": "2024-07-03T09:32:08.613047Z",
     "shell.execute_reply": "2024-07-03T09:32:08.607715Z",
     "shell.execute_reply.started": "2024-07-03T09:32:08.587472Z"
    }
   },
   "outputs": [],
   "source": [
    "def run_experiment_sequence(action_weights, num_actions, recommender):\n",
    "    num_days = 14\n",
    "    num_features = action_weights.shape[0]\n",
    "    avg_viewing_times = []\n",
    "    all_logs = []\n",
    "    recommender.reset()\n",
    "    for _ in range(num_days):  # one month\n",
    "        avg_viewing_time, logs = log_production_data(action_weights, recommender)\n",
    "        avg_viewing_times.append(avg_viewing_time)\n",
    "        all_logs.extend(logs)\n",
    "        recommender.fit_offline(all_logs)  # all data from day one till now\n",
    "\n",
    "    avg_viewing_times = np.array(avg_viewing_times)\n",
    "    return avg_viewing_times"
   ]
  },
  {
   "cell_type": "code",
   "execution_count": 49,
   "id": "148352ec-45ef-4863-a831-798f2b3a0413",
   "metadata": {
    "execution": {
     "iopub.execute_input": "2024-07-03T09:32:08.754913Z",
     "iopub.status.busy": "2024-07-03T09:32:08.754343Z",
     "iopub.status.idle": "2024-07-03T09:32:08.825863Z",
     "shell.execute_reply": "2024-07-03T09:32:08.823928Z",
     "shell.execute_reply.started": "2024-07-03T09:32:08.754871Z"
    }
   },
   "outputs": [],
   "source": [
    "def run_sequences(action_weights, num_actions, recommender):\n",
    "    avg_viewing_times = []\n",
    "    num_runs = 10\n",
    "    for _ in range(num_runs):\n",
    "        avg_viewing_times.append(\n",
    "            run_experiment_sequence(action_weights, num_actions, recommender)\n",
    "        )\n",
    "    avg_viewing_times = np.array(avg_viewing_times)\n",
    "    mean = avg_viewing_times.mean(axis=0)\n",
    "    se = avg_viewing_times.std(axis=0) / np.sqrt(num_runs)\n",
    "    return mean, se"
   ]
  },
  {
   "cell_type": "code",
   "execution_count": 50,
   "id": "413a00c6-3b78-4657-8db9-8f1a015448ff",
   "metadata": {
    "execution": {
     "iopub.execute_input": "2024-07-03T09:32:09.029039Z",
     "iopub.status.busy": "2024-07-03T09:32:09.028483Z",
     "iopub.status.idle": "2024-07-03T09:32:11.071351Z",
     "shell.execute_reply": "2024-07-03T09:32:11.069695Z",
     "shell.execute_reply.started": "2024-07-03T09:32:09.028997Z"
    }
   },
   "outputs": [],
   "source": [
    "num_features = 5\n",
    "num_actions = 30\n",
    "\n",
    "np.random.seed(17)\n",
    "action_weights = np.random.normal(\n",
    "    size=(num_features, num_actions)\n",
    ")  # the dgp; fixed values\n",
    "recommender = RecommenderGreedy(num_features, num_actions)\n",
    "mean, se = run_sequences(action_weights, num_actions, recommender)\n",
    "betas_g = recommender._betas"
   ]
  },
  {
   "cell_type": "code",
   "execution_count": 55,
   "id": "c82b9f35-caed-4e7e-a33c-694afe0ca452",
   "metadata": {
    "execution": {
     "iopub.execute_input": "2024-07-03T09:33:49.225270Z",
     "iopub.status.busy": "2024-07-03T09:33:49.224716Z",
     "iopub.status.idle": "2024-07-03T09:33:49.720918Z",
     "shell.execute_reply": "2024-07-03T09:33:49.714965Z",
     "shell.execute_reply.started": "2024-07-03T09:33:49.225225Z"
    }
   },
   "outputs": [
    {
     "data": {
      "image/png": "[encoded data removed]",
      "text/plain": [
       "<Figure size 640x480 with 1 Axes>"
      ]
     },
     "metadata": {},
     "output_type": "display_data"
    }
   ],
   "source": [
    "def horizontal_line(y_0):\n",
    "    c = plt.axis()\n",
    "    plt.autoscale(False)\n",
    "    plt.plot([c[0], c[1]], [y_0, y_0], \"--\", linewidth=1)\n",
    "\n",
    "\n",
    "arrow_props = {\n",
    "    \"width\": 1,\n",
    "    \"headwidth\": 5,\n",
    "    \"headlength\": 7,\n",
    "}\n",
    "\n",
    "plt.plot(mean, \".-\")\n",
    "plt.fill_between(np.arange(len(mean)), mean - se, mean + se, alpha=0.333, linewidth=1)\n",
    "\n",
    "asymp = mean[4:].mean()\n",
    "horizontal_line(asymp)\n",
    "\n",
    "plt.annotate(\n",
    "    f\"asymptote, mean viewing time = {asymp:.2f}\",\n",
    "    xy=[0, asymp - 0.01],\n",
    "    xytext=[2, 1.4],\n",
    "    arrowprops=arrow_props,\n",
    ")\n",
    "\n",
    "plt.xlabel(\"day\")\n",
    "plt.ylabel(\"mean viewing time\");"
   ]
  },
  {
   "cell_type": "code",
   "execution_count": 54,
   "id": "3d46db51-efa6-46ce-95a2-0943f0ab58af",
   "metadata": {
    "execution": {
     "iopub.execute_input": "2024-07-03T09:32:50.565261Z",
     "iopub.status.busy": "2024-07-03T09:32:50.564593Z",
     "iopub.status.idle": "2024-07-03T09:32:50.595839Z",
     "shell.execute_reply": "2024-07-03T09:32:50.594715Z",
     "shell.execute_reply.started": "2024-07-03T09:32:50.565217Z"
    }
   },
   "outputs": [
    {
     "data": {
      "text/plain": [
       "array([0.6, 0.9, 1.3])"
      ]
     },
     "execution_count": 54,
     "metadata": {},
     "output_type": "execute_result"
    }
   ],
   "source": [
    "contexts = [[1, 0, 0], [0, 1, 0], [0, 0, 1]]\n",
    "rewards = [0.6, 0.9, 1.3]\n",
    "\n",
    "x = np.array(contexts)\n",
    "y = np.array(rewards)\n",
    "beta_1 = np.linalg.pinv(x.T @ x) @ (x.T @ y)\n",
    "beta_1"
   ]
  },
  {
   "cell_type": "code",
   "execution_count": 8,
   "id": "a1371d4a-26fd-4502-959a-df2a3a45cbf5",
   "metadata": {
    "execution": {
     "iopub.execute_input": "2024-07-03T09:10:46.982288Z",
     "iopub.status.busy": "2024-07-03T09:10:46.981483Z",
     "iopub.status.idle": "2024-07-03T09:10:47.099188Z",
     "shell.execute_reply": "2024-07-03T09:10:47.050115Z",
     "shell.execute_reply.started": "2024-07-03T09:10:46.982238Z"
    }
   },
   "outputs": [
    {
     "data": {
      "text/plain": [
       "array([0.6, 0.9, 0. ])"
      ]
     },
     "execution_count": 8,
     "metadata": {},
     "output_type": "execute_result"
    }
   ],
   "source": [
    "contexts = [[1, 0, 0], [0, 1, 0]]\n",
    "rewards = [0.6, 0.9]\n",
    "\n",
    "x = np.array(contexts)\n",
    "y = np.array(rewards)\n",
    "beta_1 = np.linalg.pinv(x.T @ x) @ (x.T @ y)\n",
    "beta_1"
   ]
  },
  {
   "cell_type": "code",
   "execution_count": 60,
   "id": "64c3e059-2063-4810-8405-6f10c0b856d6",
   "metadata": {
    "execution": {
     "iopub.execute_input": "2024-07-03T09:37:01.360204Z",
     "iopub.status.busy": "2024-07-03T09:37:01.358800Z",
     "iopub.status.idle": "2024-07-03T09:37:01.451251Z",
     "shell.execute_reply": "2024-07-03T09:37:01.442379Z",
     "shell.execute_reply.started": "2024-07-03T09:37:01.359851Z"
    }
   },
   "outputs": [],
   "source": [
    "class RecommenderEpsilonGreedy:\n",
    "    def __init__(self, num_features, num_actions, epsilon=0.1):\n",
    "        self._num_features = num_features\n",
    "        self._num_actions = num_actions\n",
    "        self._epsilon = epsilon\n",
    "\n",
    "    def reset(self):\n",
    "        self._betas = [\n",
    "            np.random.normal(size=(num_features,)) for _ in range(self._num_actions)\n",
    "        ]\n",
    "\n",
    "    def fit_offline(self, logs):\n",
    "        samples_y, samples_x = collect_logs_by_action(num_actions, logs)\n",
    "        self._betas = build_models(self._num_features, samples_y, samples_x)\n",
    "\n",
    "    def policy(self, context):\n",
    "        viewing_max = -np.inf\n",
    "        if np.random.uniform(0, 1) < self._epsilon:\n",
    "            action_best = np.random.randint(0, self._num_actions)\n",
    "        else:\n",
    "            for action in range(self._num_actions):\n",
    "                viewing_hat = context @ self._betas[action]\n",
    "                if viewing_hat > viewing_max:\n",
    "                    action_best = action\n",
    "                    viewing_max = viewing_hat\n",
    "        return action_best"
   ]
  },
  {
   "cell_type": "code",
   "execution_count": 61,
   "id": "6baf3393-9f7c-4cba-9c62-0fdb6a60647a",
   "metadata": {
    "execution": {
     "iopub.execute_input": "2024-07-03T09:37:03.750815Z",
     "iopub.status.busy": "2024-07-03T09:37:03.749344Z",
     "iopub.status.idle": "2024-07-03T09:37:05.810114Z",
     "shell.execute_reply": "2024-07-03T09:37:05.809261Z",
     "shell.execute_reply.started": "2024-07-03T09:37:03.750777Z"
    }
   },
   "outputs": [],
   "source": [
    "np.random.seed(17)\n",
    "recommender = RecommenderEpsilonGreedy(num_features, num_actions, epsilon=0.1)\n",
    "mean_eps, se_eps = run_sequences(action_weights, num_actions, recommender)\n",
    "betas_eg = recommender._betas"
   ]
  },
  {
   "cell_type": "code",
   "execution_count": 64,
   "id": "cf764856-f4e3-42be-ab75-6905a1cc9288",
   "metadata": {
    "execution": {
     "iopub.execute_input": "2024-07-03T09:38:46.634452Z",
     "iopub.status.busy": "2024-07-03T09:38:46.630974Z",
     "iopub.status.idle": "2024-07-03T09:38:46.925395Z",
     "shell.execute_reply": "2024-07-03T09:38:46.918069Z",
     "shell.execute_reply.started": "2024-07-03T09:38:46.634321Z"
    }
   },
   "outputs": [
    {
     "data": {
      "image/png": "[encoded data removed]",
      "text/plain": [
       "<Figure size 640x480 with 1 Axes>"
      ]
     },
     "metadata": {},
     "output_type": "display_data"
    }
   ],
   "source": [
    "plt.plot(mean, \".-\")\n",
    "plt.plot(mean_eps, \".--\")\n",
    "\n",
    "plt.fill_between(np.arange(len(mean)), mean - se, mean + se, alpha=0.333, linewidth=1)\n",
    "\n",
    "plt.fill_between(\n",
    "    np.arange(len(mean_eps)),\n",
    "    mean_eps - se_eps,\n",
    "    mean_eps + se_eps,\n",
    "    alpha=0.333,\n",
    "    linewidth=1,\n",
    ")\n",
    "\n",
    "plt.legend([\"RecommenderGreedy\", \"RecommenderEpsilonGreedy\"])\n",
    "plt.xlabel(\"day\")\n",
    "plt.ylabel(\"mean viewing time\");"
   ]
  },
  {
   "cell_type": "markdown",
   "id": "b16e273d-64d0-41e8-8f4d-cb11fd0b29a3",
   "metadata": {},
   "source": [
    "# Thompson Sampling"
   ]
  },
  {
   "cell_type": "code",
   "execution_count": null,
   "id": "c15d9d17-caaf-44d1-a0fd-832d0c211429",
   "metadata": {},
   "outputs": [],
   "source": []
  }
 ],
 "metadata": {
  "kernelspec": {
   "display_name": "Python 3 (ipykernel)",
   "language": "python",
   "name": "python3"
  },
  "language_info": {
   "codemirror_mode": {
    "name": "ipython",
    "version": 3
   },
   "file_extension": ".py",
   "mimetype": "text/x-python",
   "name": "python",
   "nbconvert_exporter": "python",
   "pygments_lexer": "ipython3",
   "version": "3.11.9"
  },
  "widgets": {
   "application/vnd.jupyter.widget-state+json": {
    "state": {},
    "version_major": 2,
    "version_minor": 0
   }
  }
 },
 "nbformat": 4,
 "nbformat_minor": 5
}
