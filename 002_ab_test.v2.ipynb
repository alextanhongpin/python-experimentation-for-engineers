{
 "cells": [
  {
   "cell_type": "code",
   "execution_count": 1,
   "id": "b33a83fe-7a17-43aa-961e-ea9f2c07d945",
   "metadata": {},
   "outputs": [],
   "source": [
    "import math\n",
    "\n",
    "import numpy as np\n",
    "import scipy.stats as st\n",
    "import statsmodels.stats.api as sm"
   ]
  },
  {
   "cell_type": "code",
   "execution_count": 2,
   "id": "e9808e03-ebbd-4066-a834-e1720e68ae94",
   "metadata": {},
   "outputs": [],
   "source": [
    "a = np.zeros(500)\n",
    "a[:50] = 1\n",
    "b = np.zeros(600)\n",
    "b[:90] = 1"
   ]
  },
  {
   "cell_type": "code",
   "execution_count": 3,
   "id": "05867d17-c042-4e8a-97f4-344fbbb567fe",
   "metadata": {},
   "outputs": [
    {
     "data": {
      "text/plain": [
       "<class 'statsmodels.stats.base.HolderTuple'>\n",
       "statistic = -2.494217538993216\n",
       "pvalue = 0.012623515252023227\n",
       "compare = 'diff'\n",
       "method = 'agresti-caffo'\n",
       "diff = -0.04999999999999999\n",
       "ratio = 0.6666666666666667\n",
       "odds_ratio = 0.6296296296296297\n",
       "variance = 0.00039496130786195586\n",
       "alternative = 'two-sided'\n",
       "value = 0\n",
       "tuple = (-2.494217538993216, 0.012623515252023227)"
      ]
     },
     "execution_count": 3,
     "metadata": {},
     "output_type": "execute_result"
    }
   ],
   "source": [
    "count1 = a.sum()\n",
    "nobs1 = a.size\n",
    "count2 = b.sum()\n",
    "nobs2 = b.size\n",
    "\n",
    "p1 = count1 / nobs1\n",
    "p2 = count2 / nobs2\n",
    "\n",
    "sm.test_proportions_2indep(\n",
    "    count1,\n",
    "    nobs1,\n",
    "    count2,\n",
    "    nobs2,\n",
    "    return_results=True,\n",
    ")"
   ]
  },
  {
   "cell_type": "code",
   "execution_count": 4,
   "id": "39e54f79-05a8-4af1-8ee1-b8e6d8788042",
   "metadata": {},
   "outputs": [
    {
     "data": {
      "text/plain": [
       "<class 'statsmodels.tools.testing.Holder'>\n",
       "power = 0.7009982730689444\n",
       "p_pooled = 0.1272727272727273\n",
       "std_null = 0.451260859854213\n",
       "std_alt = 0.4430011286667338\n",
       "nobs1 = 500\n",
       "nobs2 = 600.0\n",
       "nobs_ratio = 1.2\n",
       "alpha = 0.05"
      ]
     },
     "execution_count": 4,
     "metadata": {},
     "output_type": "execute_result"
    }
   ],
   "source": [
    "sm.power_proportions_2indep(\n",
    "    p1 - p2,\n",
    "    p2,\n",
    "    nobs1,\n",
    "    ratio=nobs2 / nobs1,\n",
    "    alpha=0.05,\n",
    "    alternative=\"two-sided\",\n",
    "    return_results=True,\n",
    ")"
   ]
  },
  {
   "cell_type": "code",
   "execution_count": 5,
   "id": "82cfa30f-9785-48bf-aa02-3a8093557fc6",
   "metadata": {},
   "outputs": [
    {
     "data": {
      "text/plain": [
       "686"
      ]
     },
     "execution_count": 5,
     "metadata": {},
     "output_type": "execute_result"
    }
   ],
   "source": [
    "nobs1 = math.ceil(\n",
    "    sm.samplesize_proportions_2indep_onetail(\n",
    "        p2 - p1, p1, 0.8, alternative=\"two-sided\", ratio=1\n",
    "    )\n",
    ")\n",
    "nobs1"
   ]
  },
  {
   "cell_type": "code",
   "execution_count": 6,
   "id": "90201597-ecd2-49db-81ad-622b763195c5",
   "metadata": {},
   "outputs": [],
   "source": [
    "nobs2 = nobs1\n",
    "count1 = math.ceil(nobs1 * p1)\n",
    "count2 = math.ceil(nobs2 * p2)"
   ]
  },
  {
   "cell_type": "code",
   "execution_count": 7,
   "id": "20dfb649-561a-49de-9494-33f4a8042a64",
   "metadata": {},
   "outputs": [
    {
     "data": {
      "text/plain": [
       "<class 'statsmodels.stats.base.HolderTuple'>\n",
       "statistic = -2.7654436817399235\n",
       "pvalue = 0.005684541990262928\n",
       "compare = 'diff'\n",
       "method = 'agresti-caffo'\n",
       "diff = -0.049562682215743434\n",
       "ratio = 0.6699029126213593\n",
       "odds_ratio = 0.6329876791867949\n",
       "variance = 0.0003193385291546656\n",
       "alternative = 'two-sided'\n",
       "value = 0\n",
       "tuple = (-2.7654436817399235, 0.005684541990262928)"
      ]
     },
     "execution_count": 7,
     "metadata": {},
     "output_type": "execute_result"
    }
   ],
   "source": [
    "sm.test_proportions_2indep(\n",
    "    count1,\n",
    "    nobs1,\n",
    "    count2,\n",
    "    nobs2,\n",
    "    return_results=True,\n",
    ")"
   ]
  },
  {
   "cell_type": "code",
   "execution_count": 8,
   "id": "17ef7cf6-0f90-432c-b9ed-0baf305e05ce",
   "metadata": {},
   "outputs": [
    {
     "data": {
      "text/plain": [
       "<class 'statsmodels.tools.testing.Holder'>\n",
       "power = 0.8002318546957171\n",
       "p_pooled = 0.125\n",
       "std_null = 0.46770717334674267\n",
       "std_alt = 0.4663689526544408\n",
       "nobs1 = 686\n",
       "nobs2 = 686.0\n",
       "nobs_ratio = 1.0\n",
       "alpha = 0.05"
      ]
     },
     "execution_count": 8,
     "metadata": {},
     "output_type": "execute_result"
    }
   ],
   "source": [
    "sm.power_proportions_2indep(\n",
    "    p1 - p2,\n",
    "    p2,\n",
    "    nobs1,\n",
    "    ratio=nobs2 / nobs1,\n",
    "    alpha=0.05,\n",
    "    alternative=\"two-sided\",\n",
    "    return_results=True,\n",
    ")"
   ]
  },
  {
   "cell_type": "code",
   "execution_count": 13,
   "id": "e4f5a7ad-0817-4877-8640-366597f2be9f",
   "metadata": {},
   "outputs": [
    {
     "data": {
      "text/plain": [
       "680.3526619127882"
      ]
     },
     "execution_count": 13,
     "metadata": {},
     "output_type": "execute_result"
    }
   ],
   "source": [
    "sm.zt_ind_solve_power(\n",
    "    sm.proportion_effectsize(p1, p2), nobs1=None, alpha=0.05, power=0.8\n",
    ")"
   ]
  }
 ],
 "metadata": {
  "kernelspec": {
   "display_name": "Python 3 (ipykernel)",
   "language": "python",
   "name": "python3"
  },
  "language_info": {
   "codemirror_mode": {
    "name": "ipython",
    "version": 3
   },
   "file_extension": ".py",
   "mimetype": "text/x-python",
   "name": "python",
   "nbconvert_exporter": "python",
   "pygments_lexer": "ipython3",
   "version": "3.12.9"
  }
 },
 "nbformat": 4,
 "nbformat_minor": 5
}
