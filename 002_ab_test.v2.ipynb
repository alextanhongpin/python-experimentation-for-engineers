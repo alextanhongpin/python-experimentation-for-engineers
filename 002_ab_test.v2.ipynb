{
 "cells": [
  {
   "cell_type": "code",
   "execution_count": 1,
   "id": "b33a83fe-7a17-43aa-961e-ea9f2c07d945",
   "metadata": {},
   "outputs": [],
   "source": [
    "import math\n",
    "\n",
    "import numpy as np\n",
    "import scipy.stats as st\n",
    "import statsmodels.stats.api as sm\n",
    "import statsmodels.stats.power as sp"
   ]
  },
  {
   "cell_type": "code",
   "execution_count": 2,
   "id": "927eb26e-3f54-4390-855b-96e5f3b31e6d",
   "metadata": {},
   "outputs": [
    {
     "data": {
      "text/plain": [
       "(0.02, 0.023)"
      ]
     },
     "execution_count": 2,
     "metadata": {},
     "output_type": "execute_result"
    }
   ],
   "source": [
    "power = 0.8\n",
    "alpha = 0.05\n",
    "ratio = 1\n",
    "\n",
    "p1 = 0.02\n",
    "p2 = p1 * 1.15\n",
    "p1, p2"
   ]
  },
  {
   "cell_type": "code",
   "execution_count": 3,
   "id": "82cfa30f-9785-48bf-aa02-3a8093557fc6",
   "metadata": {},
   "outputs": [
    {
     "data": {
      "text/plain": [
       "36693"
      ]
     },
     "execution_count": 3,
     "metadata": {},
     "output_type": "execute_result"
    }
   ],
   "source": [
    "nobs1 = math.ceil(\n",
    "    sm.samplesize_proportions_2indep_onetail(\n",
    "        p2 - p1, p1, power, alternative=\"two-sided\", ratio=ratio\n",
    "    )\n",
    ")\n",
    "nobs1"
   ]
  },
  {
   "cell_type": "code",
   "execution_count": 4,
   "id": "90201597-ecd2-49db-81ad-622b763195c5",
   "metadata": {},
   "outputs": [
    {
     "data": {
      "text/plain": [
       "(734, 844, 0.02000381544163737, 0.02300166244242771)"
      ]
     },
     "execution_count": 4,
     "metadata": {},
     "output_type": "execute_result"
    }
   ],
   "source": [
    "nobs2 = nobs1\n",
    "count1 = math.ceil(p1 * nobs1)\n",
    "count2 = math.ceil(p2 * nobs2)\n",
    "count1, count2, count1 / nobs1, count2 / nobs2"
   ]
  },
  {
   "cell_type": "code",
   "execution_count": 5,
   "id": "20dfb649-561a-49de-9494-33f4a8042a64",
   "metadata": {},
   "outputs": [
    {
     "data": {
      "text/plain": [
       "<class 'statsmodels.stats.base.HolderTuple'>\n",
       "statistic = -2.7977781958042582\n",
       "pvalue = 0.005145543433134009\n",
       "compare = 'diff'\n",
       "method = 'agresti-caffo'\n",
       "diff = -0.0029978470007903414\n",
       "ratio = 0.8696682464454977\n",
       "odds_ratio = 0.8670078969611125\n",
       "variance = 1.1480082889411636e-06\n",
       "alternative = 'two-sided'\n",
       "value = 0\n",
       "tuple = (-2.7977781958042582, 0.005145543433134009)"
      ]
     },
     "execution_count": 5,
     "metadata": {},
     "output_type": "execute_result"
    }
   ],
   "source": [
    "sm.test_proportions_2indep(\n",
    "    count1,\n",
    "    nobs1,\n",
    "    count2,\n",
    "    nobs2,\n",
    "    return_results=True,\n",
    ")"
   ]
  },
  {
   "cell_type": "code",
   "execution_count": 6,
   "id": "30cedb4f-3b4b-4137-b9b6-d426d48d9be3",
   "metadata": {},
   "outputs": [
    {
     "data": {
      "text/plain": [
       "(-2.7993640341603294, 0.0051203375431128784)"
      ]
     },
     "execution_count": 6,
     "metadata": {},
     "output_type": "execute_result"
    }
   ],
   "source": [
    "# This is closer to abtestguide\n",
    "sm.proportions_ztest(\n",
    "    count=[count1, count2], nobs=[nobs1, nobs2], alternative=\"two-sided\", prop_var=False\n",
    ")"
   ]
  },
  {
   "cell_type": "code",
   "execution_count": 7,
   "id": "17ef7cf6-0f90-432c-b9ed-0baf305e05ce",
   "metadata": {},
   "outputs": [
    {
     "data": {
      "text/plain": [
       "<class 'statsmodels.tools.testing.Holder'>\n",
       "power = 0.8000034194420894\n",
       "p_pooled = 0.0215\n",
       "std_null = 0.20512313375141283\n",
       "std_alt = 0.2051121644369246\n",
       "nobs1 = 36693\n",
       "nobs2 = 36693.0\n",
       "nobs_ratio = 1.0\n",
       "alpha = 0.05"
      ]
     },
     "execution_count": 7,
     "metadata": {},
     "output_type": "execute_result"
    }
   ],
   "source": [
    "sm.power_proportions_2indep(\n",
    "    p1 - p2,\n",
    "    p2,\n",
    "    nobs1,\n",
    "    ratio=nobs2 / nobs1,\n",
    "    alpha=alpha,\n",
    "    alternative=\"two-sided\",\n",
    "    return_results=True,\n",
    ")"
   ]
  }
 ],
 "metadata": {
  "kernelspec": {
   "display_name": "Python 3 (ipykernel)",
   "language": "python",
   "name": "python3"
  },
  "language_info": {
   "codemirror_mode": {
    "name": "ipython",
    "version": 3
   },
   "file_extension": ".py",
   "mimetype": "text/x-python",
   "name": "python",
   "nbconvert_exporter": "python",
   "pygments_lexer": "ipython3",
   "version": "3.12.9"
  }
 },
 "nbformat": 4,
 "nbformat_minor": 5
}
