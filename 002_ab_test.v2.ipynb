{
 "cells": [
  {
   "cell_type": "markdown",
   "id": "4326ed94-3f81-4921-981a-fcd285d635ff",
   "metadata": {},
   "source": [
    "# "
   ]
  },
  {
   "cell_type": "code",
   "execution_count": 6,
   "id": "b33a83fe-7a17-43aa-961e-ea9f2c07d945",
   "metadata": {},
   "outputs": [],
   "source": [
    "import math\n",
    "\n",
    "import numpy as np\n",
    "import scipy.stats as st\n",
    "import statsmodels.stats.api as sm\n",
    "import statsmodels.stats.power as sp"
   ]
  },
  {
   "cell_type": "code",
   "execution_count": 7,
   "id": "927eb26e-3f54-4390-855b-96e5f3b31e6d",
   "metadata": {},
   "outputs": [
    {
     "data": {
      "text/plain": [
       "(0.01, 0.0114)"
      ]
     },
     "execution_count": 7,
     "metadata": {},
     "output_type": "execute_result"
    }
   ],
   "source": [
    "power = 0.8\n",
    "alpha = 0.05\n",
    "ratio = 1\n",
    "\n",
    "p1 = 0.02\n",
    "p2 = p1 * 0.15 + p1\n",
    "p1 = 0.01\n",
    "p2 = p1 * 0.14 + p1\n",
    "p1, p2"
   ]
  },
  {
   "cell_type": "code",
   "execution_count": 8,
   "id": "82cfa30f-9785-48bf-aa02-3a8093557fc6",
   "metadata": {},
   "outputs": [
    {
     "data": {
      "text/plain": [
       "84779"
      ]
     },
     "execution_count": 8,
     "metadata": {},
     "output_type": "execute_result"
    }
   ],
   "source": [
    "nobs1 = math.ceil(\n",
    "    sm.samplesize_proportions_2indep_onetail(\n",
    "        p2 - p1, p1, power, alternative=\"two-sided\", ratio=ratio\n",
    "    )\n",
    ")\n",
    "nobs1"
   ]
  },
  {
   "cell_type": "code",
   "execution_count": 9,
   "id": "90201597-ecd2-49db-81ad-622b763195c5",
   "metadata": {},
   "outputs": [
    {
     "data": {
      "text/plain": [
       "(848, 967, 0.010002477028509418, 0.011406126517179963)"
      ]
     },
     "execution_count": 9,
     "metadata": {},
     "output_type": "execute_result"
    }
   ],
   "source": [
    "nobs2 = nobs1\n",
    "count1 = math.ceil(p1 * nobs1)\n",
    "count2 = math.ceil(p2 * nobs2)\n",
    "count1, count2, count1 / nobs1, count2 / nobs2"
   ]
  },
  {
   "cell_type": "code",
   "execution_count": 10,
   "id": "20dfb649-561a-49de-9494-33f4a8042a64",
   "metadata": {},
   "outputs": [
    {
     "data": {
      "text/plain": [
       "<class 'statsmodels.stats.base.HolderTuple'>\n",
       "statistic = -2.808378805210456\n",
       "pvalue = 0.004979161993152016\n",
       "compare = 'diff'\n",
       "method = 'wald'\n",
       "diff = -0.0014036494886705449\n",
       "ratio = 0.8769389865563597\n",
       "odds_ratio = 0.8756956350009129\n",
       "variance = 2.498077858533081e-07\n",
       "alternative = 'two-sided'\n",
       "value = 0\n",
       "tuple = (-2.808378805210456, 0.004979161993152016)"
      ]
     },
     "execution_count": 10,
     "metadata": {},
     "output_type": "execute_result"
    }
   ],
   "source": [
    "sm.test_proportions_2indep(\n",
    "    count1,\n",
    "    nobs1,\n",
    "    count2,\n",
    "    nobs2,\n",
    "    method=\"wald\",  # Must be 'wald'\n",
    "    return_results=True,\n",
    ")"
   ]
  },
  {
   "cell_type": "code",
   "execution_count": 11,
   "id": "30cedb4f-3b4b-4137-b9b6-d426d48d9be3",
   "metadata": {},
   "outputs": [
    {
     "data": {
      "text/plain": [
       "(-2.808313491609461, 0.004980172048271678)"
      ]
     },
     "execution_count": 11,
     "metadata": {},
     "output_type": "execute_result"
    }
   ],
   "source": [
    "# This is closer to abtestguide\n",
    "sm.proportions_ztest(\n",
    "    count=[count1, count2], nobs=[nobs1, nobs2], alternative=\"two-sided\", prop_var=False\n",
    ")"
   ]
  },
  {
   "cell_type": "code",
   "execution_count": 12,
   "id": "17ef7cf6-0f90-432c-b9ed-0baf305e05ce",
   "metadata": {},
   "outputs": [
    {
     "data": {
      "text/plain": [
       "<class 'statsmodels.tools.testing.Holder'>\n",
       "power = 0.800001811889412\n",
       "p_pooled = 0.010700000000000001\n",
       "std_null = 0.14550264602405003\n",
       "std_alt = 0.14549927834872584\n",
       "nobs1 = 84779\n",
       "nobs2 = 84779.0\n",
       "nobs_ratio = 1.0\n",
       "alpha = 0.05"
      ]
     },
     "execution_count": 12,
     "metadata": {},
     "output_type": "execute_result"
    }
   ],
   "source": [
    "sm.power_proportions_2indep(\n",
    "    p1 - p2,\n",
    "    p2,\n",
    "    nobs1,\n",
    "    ratio=nobs2 / nobs1,\n",
    "    alpha=alpha,\n",
    "    alternative=\"two-sided\",\n",
    "    return_results=True,\n",
    ")"
   ]
  },
  {
   "cell_type": "code",
   "execution_count": 13,
   "id": "dc2b124a-f227-48c9-926f-52abb1a0e5cc",
   "metadata": {},
   "outputs": [
    {
     "data": {
      "text/plain": [
       "80919"
      ]
     },
     "execution_count": 13,
     "metadata": {},
     "output_type": "execute_result"
    }
   ],
   "source": [
    "def evan_miller_sample_size(p, delta, alpha=0.05, power=0.8):\n",
    "    if p > 0.5:\n",
    "        p = 1.0 - p\n",
    "    z_alpha = st.norm.ppf(1 - alpha / 2)\n",
    "    z_beta = st.norm.ppf(power)\n",
    "\n",
    "    sd1 = np.sqrt(2 * p * (1 - p))\n",
    "    sd2 = np.sqrt(p * (1 - p) + (p + delta) * (1 - p - delta))\n",
    "    return math.ceil(\n",
    "        (\n",
    "            (z_alpha * sd1 + z_beta * sd2)\n",
    "            * (z_alpha * sd1 + z_beta * sd2)\n",
    "            / (delta * delta)\n",
    "        )\n",
    "    )\n",
    "\n",
    "\n",
    "evan_miller_sample_size(p1, p2 - p1)"
   ]
  },
  {
   "cell_type": "markdown",
   "id": "6f26f1da-4abd-406d-bcbb-a1a6fbfe9b37",
   "metadata": {},
   "source": [
    "# Comparing Two Independent Population Proportions\n",
    "\n",
    "$$\n",
    "z = \\frac{(p_1 - p_2) - D_o}{\\sqrt{\n",
    "\\frac{p_1\\cdot(1-p_1)}{n_1} + \\frac{p_2\\cdot(1-p_2)}{n_2}}} $$"
   ]
  },
  {
   "cell_type": "code",
   "execution_count": 14,
   "id": "7053997c-893d-4646-a813-25c50c5d1122",
   "metadata": {},
   "outputs": [
    {
     "data": {
      "text/plain": [
       "(-1.7702754679970862, 0.03834063134876544, 0.07668126269753088)"
      ]
     },
     "execution_count": 14,
     "metadata": {},
     "output_type": "execute_result"
    }
   ],
   "source": [
    "alpha = 0.10\n",
    "delta = 0.05\n",
    "\n",
    "p1 = 0.67\n",
    "p2 = 0.8\n",
    "n1 = 500\n",
    "n2 = 100\n",
    "value = -0.05\n",
    "\n",
    "\n",
    "s1 = p1 * (1 - p1)\n",
    "s2 = p2 * (1 - p2)\n",
    "se = np.sqrt(s1 / n1 + s2 / n2)\n",
    "z = ((p1 - p2) - value) / se\n",
    "p = st.norm.sf(np.abs(z))\n",
    "z, p, p * 2"
   ]
  },
  {
   "cell_type": "code",
   "execution_count": 15,
   "id": "3ad850fe-3378-4fba-a0e1-9262abdea7f3",
   "metadata": {},
   "outputs": [
    {
     "data": {
      "text/plain": [
       "<class 'statsmodels.stats.base.HolderTuple'>\n",
       "statistic = -1.7702754679970862\n",
       "pvalue = 0.07668126269753088\n",
       "compare = 'diff'\n",
       "method = 'wald'\n",
       "diff = -0.13\n",
       "ratio = 0.8375\n",
       "odds_ratio = 0.5075757575757575\n",
       "variance = 0.0020421999999999997\n",
       "alternative = 'two-sided'\n",
       "value = -0.05\n",
       "tuple = (-1.7702754679970862, 0.07668126269753088)"
      ]
     },
     "execution_count": 15,
     "metadata": {},
     "output_type": "execute_result"
    }
   ],
   "source": [
    "count1 = math.ceil(p1 * n1)\n",
    "count2 = math.ceil(p2 * n2)\n",
    "nobs1 = n1\n",
    "nobs2 = n2\n",
    "ratio = nobs2 / nobs1\n",
    "sm.test_proportions_2indep(\n",
    "    count1,\n",
    "    nobs1,\n",
    "    count2,\n",
    "    nobs2,\n",
    "    return_results=True,\n",
    "    value=value,\n",
    "    method=\"wald\",\n",
    "    alternative=\"two-sided\",\n",
    ")"
   ]
  },
  {
   "cell_type": "code",
   "execution_count": 16,
   "id": "5b6855b2-5364-4962-9515-59588d5cd497",
   "metadata": {},
   "outputs": [
    {
     "data": {
      "text/plain": [
       "(-1.5813962397448424, 0.11378746671001491)"
      ]
     },
     "execution_count": 16,
     "metadata": {},
     "output_type": "execute_result"
    }
   ],
   "source": [
    "sm.proportions_ztest(\n",
    "    count=[count1, count2],\n",
    "    nobs=[nobs1, nobs2],\n",
    "    alternative=\"two-sided\",\n",
    "    prop_var=False,\n",
    "    value=value,\n",
    ")"
   ]
  },
  {
   "cell_type": "markdown",
   "id": "0e0827ae-1ea6-46fb-8d97-9fe13a66fee3",
   "metadata": {},
   "source": [
    "# Sample size calculation for comparing proportions\n",
    "\n",
    "\n",
    "$n = (Z_\\text{α/2}+Z_β)^2 * (p_1(1-p_1)+p_2(1-p_2)) / (p_1-p_2)^2$[^1]\n",
    "\n",
    "\n",
    "[^1]: https://select-statistics.co.uk/calculators/sample-size-calculator-two-proportions/\n"
   ]
  },
  {
   "cell_type": "code",
   "execution_count": 17,
   "id": "c8d548f9-cd74-4ab3-9d79-78a6c76a3445",
   "metadata": {},
   "outputs": [
    {
     "data": {
      "text/plain": [
       "290.4085501709164"
      ]
     },
     "execution_count": 17,
     "metadata": {},
     "output_type": "execute_result"
    }
   ],
   "source": [
    "p1 = 0.2\n",
    "p2 = 0.3\n",
    "\n",
    "ratio = 1\n",
    "alpha = 0.05\n",
    "\n",
    "s1 = p1 * (1 - p1)\n",
    "s2 = p2 * (1 - p2)\n",
    "\n",
    "z = st.norm.ppf(1 - alpha / 2) + st.norm.ppf(power)\n",
    "n = (z**2 * (s1 + s2)) / (p1 - p2) ** 2\n",
    "n"
   ]
  },
  {
   "cell_type": "code",
   "execution_count": 18,
   "id": "62ab9f0b-5254-4cba-88b2-9b2b2857bbdc",
   "metadata": {},
   "outputs": [
    {
     "data": {
      "text/plain": [
       "(-2.804436639481245, 0.0025202296674208865, 0.005040459334841773)"
      ]
     },
     "execution_count": 18,
     "metadata": {},
     "output_type": "execute_result"
    }
   ],
   "source": [
    "n1 = n2 = math.ceil(n)\n",
    "value = 0\n",
    "s1 = p1 * (1 - p1)\n",
    "s2 = p2 * (1 - p2)\n",
    "se = np.sqrt(s1 / n1 + s2 / n2)\n",
    "z = ((p1 - p2) - value) / se\n",
    "p = st.norm.sf(np.abs(z))\n",
    "z, p, p * 2"
   ]
  },
  {
   "cell_type": "code",
   "execution_count": 19,
   "id": "8dde73b3-0c12-4e51-8d6c-4a1f8b884ae8",
   "metadata": {},
   "outputs": [
    {
     "data": {
      "text/plain": [
       "294"
      ]
     },
     "execution_count": 19,
     "metadata": {},
     "output_type": "execute_result"
    }
   ],
   "source": [
    "# This is more accurate than the one above\n",
    "# Stick to statsmodels for both the calculation.\n",
    "nobs1 = math.ceil(\n",
    "    sm.samplesize_proportions_2indep_onetail(\n",
    "        p1 - p2, p2, power=power, alpha=alpha, alternative=\"two-sided\", ratio=ratio\n",
    "    )\n",
    ")\n",
    "nobs1"
   ]
  },
  {
   "cell_type": "code",
   "execution_count": 20,
   "id": "fa155c6f-9846-4b2e-8ee0-021ecf096014",
   "metadata": {},
   "outputs": [
    {
     "data": {
      "text/plain": [
       "<class 'statsmodels.stats.base.HolderTuple'>\n",
       "statistic = -2.87061379221714\n",
       "pvalue = 0.0040967571509745926\n",
       "compare = 'diff'\n",
       "method = 'wald'\n",
       "diff = -0.10204081632653061\n",
       "ratio = 0.6629213483146067\n",
       "odds_ratio = 0.5782930910829548\n",
       "variance = 0.0012635671141055802\n",
       "alternative = 'two-sided'\n",
       "value = 0\n",
       "tuple = (-2.87061379221714, 0.0040967571509745926)"
      ]
     },
     "execution_count": 20,
     "metadata": {},
     "output_type": "execute_result"
    }
   ],
   "source": [
    "nobs2 = nobs1\n",
    "count1 = math.ceil(p1 * nobs1)\n",
    "count2 = math.ceil(p2 * nobs2)\n",
    "sm.test_proportions_2indep(\n",
    "    count1,\n",
    "    nobs1,\n",
    "    count2,\n",
    "    nobs2,\n",
    "    return_results=True,\n",
    "    value=0,\n",
    "    method=\"wald\",\n",
    "    alternative=\"two-sided\",\n",
    ")"
   ]
  },
  {
   "cell_type": "code",
   "execution_count": 21,
   "id": "535a74b6-4156-4b0b-a8d7-631c311cb6fe",
   "metadata": {},
   "outputs": [
    {
     "data": {
      "text/plain": [
       "Ttest_indResult(statistic=-1.689668300098093, pvalue=0.04554668967595191)"
      ]
     },
     "execution_count": 21,
     "metadata": {},
     "output_type": "execute_result"
    }
   ],
   "source": [
    "# Matches result from abtestguide\n",
    "import numpy as np\n",
    "from scipy.stats import ttest_ind_from_stats\n",
    "\n",
    "nobs1, count1 = 80000, 1600\n",
    "nobs2, count2 = 80000, 1696\n",
    "mean1 = count1 / nobs1\n",
    "std1 = np.sqrt(mean1 * (1 - mean1))  # variance = p * (1 - p)\n",
    "mean2 = count2 / nobs2\n",
    "std2 = np.sqrt(mean2 * (1 - mean2))\n",
    "\n",
    "ttest_ind_from_stats(\n",
    "    mean1=mean1,\n",
    "    std1=std1,\n",
    "    nobs1=nobs1,\n",
    "    mean2=mean2,\n",
    "    std2=std2,\n",
    "    nobs2=nobs2,\n",
    "    alternative=\"less\",\n",
    ")"
   ]
  },
  {
   "cell_type": "code",
   "execution_count": 32,
   "id": "d73a6585-d463-43b5-ada3-3533d58d1c4e",
   "metadata": {},
   "outputs": [
    {
     "data": {
      "text/plain": [
       "36690.02436708896"
      ]
     },
     "execution_count": 32,
     "metadata": {},
     "output_type": "execute_result"
    }
   ],
   "source": [
    "mean1 = 0.02\n",
    "mean2 = mean1 * 15 / 100 + mean1\n",
    "var1 = mean1 * (1 - mean1)\n",
    "var2 = mean2 * (1 - mean2)\n",
    "\n",
    "z = st.norm.ppf(1 - alpha / 2) + st.norm.ppf(power)\n",
    "n = (z**2 * (var1 + var2)) / (mean1 - mean2) ** 2\n",
    "n"
   ]
  },
  {
   "cell_type": "markdown",
   "id": "2e329309-d186-4950-b293-5f44685f063c",
   "metadata": {},
   "source": [
    "## Difference between method `wald` and `agresti-caffo`:\n",
    "\n",
    "https://www.itl.nist.gov/div898/software/dataplot/refman1/auxillar/diffprop.htm\n",
    "\n",
    "\n",
    "For `wald` (aka _normal approximation_):\n",
    "\n",
    "$$\n",
    "(\\hat{p}_1 - \\hat{p}_2) \\pm z_{\\alpha/2}\n",
    "                 \\sqrt{\\frac{\\hat{p}_1 (1 - \\hat{p}_1)}{n_1} +\n",
    "                 \\frac{\\hat{p}_2 (1 - \\hat{p}_2)}{n_2}}\n",
    "$$\n",
    "\n",
    "For `agresti-caffo` (aka _adjusted wald_):\n",
    "\n",
    "$$\n",
    "(\\tilde{p}_1 - \\tilde{p}_2) \\pm z_{\\alpha/2}\n",
    "                 \\sqrt{\\frac{\\tilde{p}_1 (1 - \\tilde{p}_1)}{n_1+2} +\n",
    "                 \\frac{\\tilde{p}_2 (1 - \\tilde{p}_2)}{n_2+2}}\n",
    "$$\n",
    "\n",
    "`wald` method is commonly used. However, Agresti and Caffo pointed out that this method does not always perform well in the sense that the actual coverage probabilities can be less than (and often substantially less than) the nominal coverage probabilities.\n",
    "\n",
    "\n"
   ]
  }
 ],
 "metadata": {
  "kernelspec": {
   "display_name": "Python 3 (ipykernel)",
   "language": "python",
   "name": "python3"
  },
  "language_info": {
   "codemirror_mode": {
    "name": "ipython",
    "version": 3
   },
   "file_extension": ".py",
   "mimetype": "text/x-python",
   "name": "python",
   "nbconvert_exporter": "python",
   "pygments_lexer": "ipython3",
   "version": "3.12.9"
  }
 },
 "nbformat": 4,
 "nbformat_minor": 5
}
