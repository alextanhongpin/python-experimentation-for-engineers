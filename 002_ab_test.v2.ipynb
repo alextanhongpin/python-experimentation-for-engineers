{
 "cells": [
  {
   "cell_type": "code",
   "execution_count": 1,
   "id": "b33a83fe-7a17-43aa-961e-ea9f2c07d945",
   "metadata": {},
   "outputs": [],
   "source": [
    "import math\n",
    "\n",
    "import numpy as np\n",
    "import scipy.stats as st\n",
    "import statsmodels.stats.api as sm\n",
    "import statsmodels.stats.power as sp"
   ]
  },
  {
   "cell_type": "code",
   "execution_count": 2,
   "id": "927eb26e-3f54-4390-855b-96e5f3b31e6d",
   "metadata": {},
   "outputs": [
    {
     "data": {
      "text/plain": [
       "(0.01, 0.0114)"
      ]
     },
     "execution_count": 2,
     "metadata": {},
     "output_type": "execute_result"
    }
   ],
   "source": [
    "power = 0.8\n",
    "alpha = 0.05\n",
    "ratio = 1\n",
    "\n",
    "p1 = 0.02\n",
    "p2 = p1 * 0.15 + p1\n",
    "p1 = 0.01\n",
    "p2 = p1 * 0.14 + p1\n",
    "p1, p2"
   ]
  },
  {
   "cell_type": "code",
   "execution_count": 3,
   "id": "82cfa30f-9785-48bf-aa02-3a8093557fc6",
   "metadata": {},
   "outputs": [
    {
     "data": {
      "text/plain": [
       "84779"
      ]
     },
     "execution_count": 3,
     "metadata": {},
     "output_type": "execute_result"
    }
   ],
   "source": [
    "nobs1 = math.ceil(\n",
    "    sm.samplesize_proportions_2indep_onetail(\n",
    "        p2 - p1, p1, power, alternative=\"two-sided\", ratio=ratio\n",
    "    )\n",
    ")\n",
    "nobs1"
   ]
  },
  {
   "cell_type": "code",
   "execution_count": 4,
   "id": "90201597-ecd2-49db-81ad-622b763195c5",
   "metadata": {},
   "outputs": [
    {
     "data": {
      "text/plain": [
       "(848, 967, 0.010002477028509418, 0.011406126517179963)"
      ]
     },
     "execution_count": 4,
     "metadata": {},
     "output_type": "execute_result"
    }
   ],
   "source": [
    "nobs2 = nobs1\n",
    "count1 = math.ceil(p1 * nobs1)\n",
    "count2 = math.ceil(p2 * nobs2)\n",
    "count1, count2, count1 / nobs1, count2 / nobs2"
   ]
  },
  {
   "cell_type": "code",
   "execution_count": 5,
   "id": "20dfb649-561a-49de-9494-33f4a8042a64",
   "metadata": {},
   "outputs": [
    {
     "data": {
      "text/plain": [
       "<class 'statsmodels.stats.base.HolderTuple'>\n",
       "statistic = -2.8068490684958927\n",
       "pvalue = 0.005002867614953665\n",
       "compare = 'diff'\n",
       "method = 'agresti-caffo'\n",
       "diff = -0.0014036494886705449\n",
       "ratio = 0.8769389865563597\n",
       "odds_ratio = 0.8756956350009129\n",
       "variance = 2.500683525084858e-07\n",
       "alternative = 'two-sided'\n",
       "value = 0\n",
       "tuple = (-2.8068490684958927, 0.005002867614953665)"
      ]
     },
     "execution_count": 5,
     "metadata": {},
     "output_type": "execute_result"
    }
   ],
   "source": [
    "sm.test_proportions_2indep(\n",
    "    count1,\n",
    "    nobs1,\n",
    "    count2,\n",
    "    nobs2,\n",
    "    return_results=True,\n",
    ")"
   ]
  },
  {
   "cell_type": "code",
   "execution_count": 6,
   "id": "30cedb4f-3b4b-4137-b9b6-d426d48d9be3",
   "metadata": {},
   "outputs": [
    {
     "data": {
      "text/plain": [
       "(-2.808313491609461, 0.004980172048271678)"
      ]
     },
     "execution_count": 6,
     "metadata": {},
     "output_type": "execute_result"
    }
   ],
   "source": [
    "# This is closer to abtestguide\n",
    "sm.proportions_ztest(\n",
    "    count=[count1, count2], nobs=[nobs1, nobs2], alternative=\"two-sided\", prop_var=False\n",
    ")"
   ]
  },
  {
   "cell_type": "code",
   "execution_count": 7,
   "id": "17ef7cf6-0f90-432c-b9ed-0baf305e05ce",
   "metadata": {},
   "outputs": [
    {
     "data": {
      "text/plain": [
       "<class 'statsmodels.tools.testing.Holder'>\n",
       "power = 0.800001811889412\n",
       "p_pooled = 0.010700000000000001\n",
       "std_null = 0.14550264602405003\n",
       "std_alt = 0.14549927834872584\n",
       "nobs1 = 84779\n",
       "nobs2 = 84779.0\n",
       "nobs_ratio = 1.0\n",
       "alpha = 0.05"
      ]
     },
     "execution_count": 7,
     "metadata": {},
     "output_type": "execute_result"
    }
   ],
   "source": [
    "sm.power_proportions_2indep(\n",
    "    p1 - p2,\n",
    "    p2,\n",
    "    nobs1,\n",
    "    ratio=nobs2 / nobs1,\n",
    "    alpha=alpha,\n",
    "    alternative=\"two-sided\",\n",
    "    return_results=True,\n",
    ")"
   ]
  },
  {
   "cell_type": "code",
   "execution_count": 8,
   "id": "dc2b124a-f227-48c9-926f-52abb1a0e5cc",
   "metadata": {},
   "outputs": [
    {
     "data": {
      "text/plain": [
       "80919"
      ]
     },
     "execution_count": 8,
     "metadata": {},
     "output_type": "execute_result"
    }
   ],
   "source": [
    "def evan_miller_sample_size(p, delta, alpha=0.05, power=0.8):\n",
    "    if p > 0.5:\n",
    "        p = 1.0 - p\n",
    "    z_alpha = st.norm.ppf(1 - alpha / 2)\n",
    "    z_beta = st.norm.ppf(power)\n",
    "\n",
    "    sd1 = np.sqrt(2 * p * (1 - p))\n",
    "    sd2 = np.sqrt(p * (1 - p) + (p + delta) * (1 - p - delta))\n",
    "    return math.ceil(\n",
    "        (\n",
    "            (z_alpha * sd1 + z_beta * sd2)\n",
    "            * (z_alpha * sd1 + z_beta * sd2)\n",
    "            / (delta * delta)\n",
    "        )\n",
    "    )\n",
    "\n",
    "\n",
    "evan_miller_sample_size(p1, p2 - p1)"
   ]
  }
 ],
 "metadata": {
  "kernelspec": {
   "display_name": "Python 3 (ipykernel)",
   "language": "python",
   "name": "python3"
  },
  "language_info": {
   "codemirror_mode": {
    "name": "ipython",
    "version": 3
   },
   "file_extension": ".py",
   "mimetype": "text/x-python",
   "name": "python",
   "nbconvert_exporter": "python",
   "pygments_lexer": "ipython3",
   "version": "3.12.9"
  }
 },
 "nbformat": 4,
 "nbformat_minor": 5
}
