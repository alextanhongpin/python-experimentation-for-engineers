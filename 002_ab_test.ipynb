{
 "cells": [
  {
   "cell_type": "markdown",
   "id": "2f6a07da-11de-4549-b84b-48489aa4e5fe",
   "metadata": {},
   "source": [
    "# A/B testing\n",
    "\n",
    "\n",
    "Sample size calculation:\n",
    "- https://mverbakel.github.io/2021-04-11/power-calculations\n",
    "- https://pmc.ncbi.nlm.nih.gov/articles/PMC5738522/\n",
    "- https://www.reddit.com/r/AskStatistics/comments/1i2ran5/standard_deviation_in_sample_size_calculation_for/\n",
    "- https://ethanweed.github.io/pythonbook/05.02-ttest.html"
   ]
  },
  {
   "cell_type": "code",
   "execution_count": 1,
   "id": "cba59bf5-976e-4a69-9408-4acb33f827ff",
   "metadata": {},
   "outputs": [],
   "source": [
    "import matplotlib.pyplot as plt\n",
    "import numpy as np\n",
    "import scipy.stats as st\n",
    "import statsmodels.stats.api as sm\n",
    "import statsmodels.stats.power as sp"
   ]
  },
  {
   "cell_type": "code",
   "execution_count": 2,
   "id": "dd137d53-f165-4eba-95c4-8a854eeaef9d",
   "metadata": {},
   "outputs": [
    {
     "name": "stdout",
     "output_type": "stream",
     "text": [
      "Required sample size per group for mean difference: 32\n",
      "Required sample size per group for proportions: 389\n"
     ]
    }
   ],
   "source": [
    "import math\n",
    "\n",
    "import scipy.stats as stats\n",
    "\n",
    "\n",
    "def sample_size_for_mean_difference(alpha, power, sigma, delta):\n",
    "    \"\"\"\n",
    "    Calculate sample size for comparing two means.\n",
    "\n",
    "    Parameters:\n",
    "        alpha (float): significance level\n",
    "        power (float): statistical power\n",
    "        sigma (float): standard deviation of the differences\n",
    "        delta (float): the difference in means to detect\n",
    "\n",
    "    Returns:\n",
    "        float: required sample size per group\n",
    "    \"\"\"\n",
    "    z_alpha = stats.norm.ppf(1 - alpha / 2)\n",
    "    z_beta = stats.norm.ppf(power)\n",
    "    n = ((z_alpha + z_beta) * sigma / delta) ** 2\n",
    "    return math.ceil(n)\n",
    "\n",
    "\n",
    "def sample_size_for_proportions(alpha, power, p1, p2):\n",
    "    \"\"\"\n",
    "    Calculate sample size for comparing two proportions.\n",
    "\n",
    "    Parameters:\n",
    "        alpha (float): significance level\n",
    "        power (float): statistical power\n",
    "        p1 (float): proportion in group 1\n",
    "        p2 (float): proportion in group 2\n",
    "\n",
    "    Returns:\n",
    "        float: required sample size per group\n",
    "    \"\"\"\n",
    "    z_alpha = stats.norm.ppf(1 - alpha / 2)\n",
    "    z_beta = stats.norm.ppf(power)\n",
    "    p_mean = (p1 + p2) / 2\n",
    "    n = ((z_alpha + z_beta) ** 2 * (p_mean * (1 - p_mean) * 2)) / (p1 - p2) ** 2\n",
    "    return math.ceil(n)\n",
    "\n",
    "\n",
    "# Example calculations\n",
    "alpha = 0.05  # 95% confidence level\n",
    "power = 0.80  # 80% power\n",
    "\n",
    "# Mean difference example\n",
    "sigma = 10\n",
    "delta = 5\n",
    "n_mean_diff = sample_size_for_mean_difference(alpha, power, sigma, delta)\n",
    "print(f\"Required sample size per group for mean difference: {n_mean_diff}\")\n",
    "\n",
    "# Proportion example\n",
    "p1 = 0.5\n",
    "p2 = 0.4\n",
    "n_proportion = sample_size_for_proportions(alpha, power, p1, p2)\n",
    "print(f\"Required sample size per group for proportions: {n_proportion}\")"
   ]
  },
  {
   "cell_type": "code",
   "execution_count": 3,
   "id": "302cdbe0-3fcd-458c-b80f-8ba2cad08dfa",
   "metadata": {},
   "outputs": [],
   "source": [
    "def sample_size_for_mean_difference(delta, std, power=0.8, alpha=0.05, sides=1):\n",
    "    return math.ceil(\n",
    "        sp.normal_sample_size_one_tail(\n",
    "            delta, power, alpha / sides, std_null=std, std_alternative=None\n",
    "        )\n",
    "    )"
   ]
  },
  {
   "cell_type": "code",
   "execution_count": 4,
   "id": "a3e871f8-1cee-4722-b4a8-437c7f2380ab",
   "metadata": {},
   "outputs": [
    {
     "data": {
      "text/plain": [
       "(25, 32)"
      ]
     },
     "execution_count": 4,
     "metadata": {},
     "output_type": "execute_result"
    }
   ],
   "source": [
    "one_tail = sample_size_for_mean_difference(delta, sigma, sides=1)\n",
    "two_tail = sample_size_for_mean_difference(delta, sigma, sides=2)\n",
    "one_tail, two_tail"
   ]
  },
  {
   "cell_type": "code",
   "execution_count": 5,
   "id": "62c4c430-87a1-4ea1-9a27-7c29f3825730",
   "metadata": {},
   "outputs": [
    {
     "data": {
      "text/plain": [
       "(305, 388)"
      ]
     },
     "execution_count": 5,
     "metadata": {},
     "output_type": "execute_result"
    }
   ],
   "source": [
    "def sample_size_for_proportions(p1, p2, power=0.8, alternative=\"two-sided\"):\n",
    "    return math.ceil(\n",
    "        sm.samplesize_proportions_2indep_onetail(\n",
    "            p2 - p1, p1, power, alternative=alternative\n",
    "        )\n",
    "    )\n",
    "\n",
    "\n",
    "one_tail = sample_size_for_proportions(p1, p2, alternative=\"larger\")\n",
    "two_tail = sample_size_for_proportions(p1, p2, alternative=\"two-sided\")\n",
    "one_tail, two_tail"
   ]
  },
  {
   "cell_type": "code",
   "execution_count": 6,
   "id": "10a9e513-e0ca-4f52-98a8-4fcbcb9580e6",
   "metadata": {},
   "outputs": [
    {
     "data": {
      "text/plain": [
       "(-2.0747507095620703, 0.03800964495628399)"
      ]
     },
     "execution_count": 6,
     "metadata": {},
     "output_type": "execute_result"
    }
   ],
   "source": [
    "n = 32\n",
    "np.random.seed(4)\n",
    "a = np.random.normal(0, sigma, n)\n",
    "b = np.random.normal(delta, sigma, n)\n",
    "sm.ztest(a, b)"
   ]
  },
  {
   "cell_type": "code",
   "execution_count": 7,
   "id": "9e86d5e4-02a3-48fc-b610-a86620e333d1",
   "metadata": {},
   "outputs": [
    {
     "data": {
      "text/plain": [
       "(0.2994744890564782, 9.506761445214066, 5.518622508533227, 10.285421704271933)"
      ]
     },
     "execution_count": 7,
     "metadata": {},
     "output_type": "execute_result"
    }
   ],
   "source": [
    "np.mean(a), np.std(a), np.mean(b), np.std(b)"
   ]
  },
  {
   "cell_type": "code",
   "execution_count": 8,
   "id": "37baac60-6c05-4d6e-b9f0-55a1ae776dca",
   "metadata": {},
   "outputs": [
    {
     "data": {
      "text/plain": [
       "(-2.0747507095620703, 0.04216680773099718, 62.0)"
      ]
     },
     "execution_count": 8,
     "metadata": {},
     "output_type": "execute_result"
    }
   ],
   "source": [
    "sm.ttest_ind(a, b)"
   ]
  },
  {
   "cell_type": "code",
   "execution_count": 9,
   "id": "eed2091a-741b-4c87-af70-fe9a156c27ee",
   "metadata": {},
   "outputs": [
    {
     "data": {
      "text/plain": [
       "(2.806441871268021, 0.0050091949361540785)"
      ]
     },
     "execution_count": 9,
     "metadata": {},
     "output_type": "execute_result"
    }
   ],
   "source": [
    "nobs1 = 388\n",
    "nobs2 = 388\n",
    "sm.test_proportions_2indep(\n",
    "    p1 * nobs1, nobs1, p2 * nobs2, nobs2, return_results=False  # count1,\n",
    ")"
   ]
  },
  {
   "cell_type": "code",
   "execution_count": 10,
   "id": "5ac0c6f0-085d-4289-b7b7-03c2638e9a0f",
   "metadata": {},
   "outputs": [
    {
     "data": {
      "text/plain": [
       "(2.799711384836629, 0.005114831546164752)"
      ]
     },
     "execution_count": 10,
     "metadata": {},
     "output_type": "execute_result"
    }
   ],
   "source": [
    "count = [p1 * nobs1, p2 * nobs2]\n",
    "nobs = [nobs1, nobs2]\n",
    "sm.proportions_ztest(count, nobs, alternative=\"two-sided\", prop_var=False)"
   ]
  }
 ],
 "metadata": {
  "kernelspec": {
   "display_name": "Python 3 (ipykernel)",
   "language": "python",
   "name": "python3"
  },
  "language_info": {
   "codemirror_mode": {
    "name": "ipython",
    "version": 3
   },
   "file_extension": ".py",
   "mimetype": "text/x-python",
   "name": "python",
   "nbconvert_exporter": "python",
   "pygments_lexer": "ipython3",
   "version": "3.12.9"
  }
 },
 "nbformat": 4,
 "nbformat_minor": 5
}
