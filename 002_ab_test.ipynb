{
 "cells": [
  {
   "cell_type": "markdown",
   "id": "2f6a07da-11de-4549-b84b-48489aa4e5fe",
   "metadata": {},
   "source": [
    "# A/B testing\n",
    "\n",
    "\n",
    "Sample size calculation:\n",
    "- https://mverbakel.github.io/2021-04-11/power-calculations\n",
    "- https://pmc.ncbi.nlm.nih.gov/articles/PMC5738522/\n",
    "- https://www.reddit.com/r/AskStatistics/comments/1i2ran5/standard_deviation_in_sample_size_calculation_for/\n",
    "- https://ethanweed.github.io/pythonbook/05.02-ttest.html"
   ]
  },
  {
   "cell_type": "code",
   "execution_count": 1,
   "id": "cba59bf5-976e-4a69-9408-4acb33f827ff",
   "metadata": {},
   "outputs": [],
   "source": [
    "import matplotlib.pyplot as plt\n",
    "import numpy as np\n",
    "import scipy.stats as st\n",
    "import statsmodels.stats.api as sm\n",
    "import statsmodels.stats.power as sp"
   ]
  },
  {
   "cell_type": "code",
   "execution_count": 2,
   "id": "dd137d53-f165-4eba-95c4-8a854eeaef9d",
   "metadata": {},
   "outputs": [
    {
     "name": "stdout",
     "output_type": "stream",
     "text": [
      "Required sample size per group for mean difference: 32\n",
      "Required sample size per group for proportions: 389\n"
     ]
    }
   ],
   "source": [
    "import math\n",
    "\n",
    "import scipy.stats as stats\n",
    "\n",
    "\n",
    "def sample_size_for_mean_difference(alpha, power, sigma, delta):\n",
    "    \"\"\"\n",
    "    Calculate sample size for comparing two means.\n",
    "\n",
    "    Parameters:\n",
    "        alpha (float): significance level\n",
    "        power (float): statistical power\n",
    "        sigma (float): standard deviation of the differences\n",
    "        delta (float): the difference in means to detect\n",
    "\n",
    "    Returns:\n",
    "        float: required sample size per group\n",
    "    \"\"\"\n",
    "    z_alpha = stats.norm.ppf(1 - alpha / 2)\n",
    "    z_beta = stats.norm.ppf(power)\n",
    "    n = ((z_alpha + z_beta) * sigma / delta) ** 2\n",
    "    return math.ceil(n)\n",
    "\n",
    "\n",
    "def sample_size_for_proportions(alpha, power, p1, p2):\n",
    "    \"\"\"\n",
    "    Calculate sample size for comparing two proportions.\n",
    "\n",
    "    Parameters:\n",
    "        alpha (float): significance level\n",
    "        power (float): statistical power\n",
    "        p1 (float): proportion in group 1\n",
    "        p2 (float): proportion in group 2\n",
    "\n",
    "    Returns:\n",
    "        float: required sample size per group\n",
    "    \"\"\"\n",
    "    z_alpha = stats.norm.ppf(1 - alpha / 2)\n",
    "    z_beta = stats.norm.ppf(power)\n",
    "    p_mean = (p1 + p2) / 2\n",
    "    n = ((z_alpha + z_beta) ** 2 * (p_mean * (1 - p_mean) * 2)) / (p1 - p2) ** 2\n",
    "    return math.ceil(n)\n",
    "\n",
    "\n",
    "# Example calculations\n",
    "alpha = 0.05  # 95% confidence level\n",
    "power = 0.80  # 80% power\n",
    "\n",
    "# Mean difference example\n",
    "sigma = 10\n",
    "delta = 5\n",
    "n_mean_diff = sample_size_for_mean_difference(alpha, power, sigma, delta)\n",
    "print(f\"Required sample size per group for mean difference: {n_mean_diff}\")\n",
    "\n",
    "# Proportion example\n",
    "p1 = 0.5\n",
    "p2 = 0.4\n",
    "n_proportion = sample_size_for_proportions(alpha, power, p1, p2)\n",
    "print(f\"Required sample size per group for proportions: {n_proportion}\")"
   ]
  },
  {
   "cell_type": "code",
   "execution_count": 3,
   "id": "302cdbe0-3fcd-458c-b80f-8ba2cad08dfa",
   "metadata": {},
   "outputs": [],
   "source": [
    "def sample_size_for_mean_difference(delta, std, power=0.8, alpha=0.05, sides=1):\n",
    "    return math.ceil(\n",
    "        sp.normal_sample_size_one_tail(\n",
    "            delta, power, alpha / sides, std_null=std, std_alternative=None\n",
    "        )\n",
    "    )"
   ]
  },
  {
   "cell_type": "code",
   "execution_count": 4,
   "id": "a3e871f8-1cee-4722-b4a8-437c7f2380ab",
   "metadata": {},
   "outputs": [
    {
     "data": {
      "text/plain": [
       "(25, 32)"
      ]
     },
     "execution_count": 4,
     "metadata": {},
     "output_type": "execute_result"
    }
   ],
   "source": [
    "one_tail = sample_size_for_mean_difference(delta, sigma, sides=1)\n",
    "two_tail = sample_size_for_mean_difference(delta, sigma, sides=2)\n",
    "one_tail, two_tail"
   ]
  },
  {
   "cell_type": "code",
   "execution_count": 5,
   "id": "62c4c430-87a1-4ea1-9a27-7c29f3825730",
   "metadata": {},
   "outputs": [
    {
     "data": {
      "text/plain": [
       "(305, 388)"
      ]
     },
     "execution_count": 5,
     "metadata": {},
     "output_type": "execute_result"
    }
   ],
   "source": [
    "def sample_size_for_proportions(p1, p2, power=0.8, alternative=\"two-sided\"):\n",
    "    return math.ceil(\n",
    "        sm.samplesize_proportions_2indep_onetail(\n",
    "            p2 - p1, p1, power, alternative=alternative\n",
    "        )\n",
    "    )\n",
    "\n",
    "\n",
    "one_tail = sample_size_for_proportions(p1, p2, alternative=\"larger\")\n",
    "two_tail = sample_size_for_proportions(p1, p2, alternative=\"two-sided\")\n",
    "one_tail, two_tail"
   ]
  },
  {
   "cell_type": "code",
   "execution_count": 6,
   "id": "41372134-1bb7-4bb4-846e-a11ae5c507c3",
   "metadata": {},
   "outputs": [
    {
     "data": {
      "text/plain": [
       "<class 'statsmodels.tools.testing.Holder'>\n",
       "power = 0.9997486095693934\n",
       "p_pooled = 0.45\n",
       "std_null = 0.7035623639735145\n",
       "std_alt = 0.7\n",
       "nobs1 = 1455\n",
       "nobs2 = 1455\n",
       "nobs_ratio = 1\n",
       "alpha = 0.05"
      ]
     },
     "execution_count": 6,
     "metadata": {},
     "output_type": "execute_result"
    }
   ],
   "source": [
    "sm.power_proportions_2indep(\n",
    "    p1 - p2,\n",
    "    p2,\n",
    "    nobs1=1455,\n",
    "    ratio=1,\n",
    "    alpha=0.05,\n",
    "    alternative=\"two-sided\",\n",
    "    return_results=True,\n",
    ")"
   ]
  },
  {
   "cell_type": "code",
   "execution_count": 7,
   "id": "10a9e513-e0ca-4f52-98a8-4fcbcb9580e6",
   "metadata": {},
   "outputs": [
    {
     "data": {
      "text/plain": [
       "(-2.026170300843182, 0.04274733595219376)"
      ]
     },
     "execution_count": 7,
     "metadata": {},
     "output_type": "execute_result"
    }
   ],
   "source": [
    "n = 33\n",
    "np.random.seed(4)\n",
    "a = np.random.normal(0, sigma, n)\n",
    "b = np.random.normal(delta, sigma, n)\n",
    "sm.ztest(a, b)"
   ]
  },
  {
   "cell_type": "code",
   "execution_count": 8,
   "id": "9e86d5e4-02a3-48fc-b610-a86620e333d1",
   "metadata": {},
   "outputs": [
    {
     "data": {
      "text/plain": [
       "(0.30494685217315737, 9.361662707497304, 5.286954602816181, 10.28718941558651)"
      ]
     },
     "execution_count": 8,
     "metadata": {},
     "output_type": "execute_result"
    }
   ],
   "source": [
    "np.mean(a), np.std(a), np.mean(b), np.std(b)"
   ]
  },
  {
   "cell_type": "code",
   "execution_count": 9,
   "id": "37baac60-6c05-4d6e-b9f0-55a1ae776dca",
   "metadata": {},
   "outputs": [
    {
     "data": {
      "text/plain": [
       "(-2.026170300843183, 0.046919745963708216, 64.0)"
      ]
     },
     "execution_count": 9,
     "metadata": {},
     "output_type": "execute_result"
    }
   ],
   "source": [
    "sm.ttest_ind(a, b)"
   ]
  },
  {
   "cell_type": "code",
   "execution_count": 10,
   "id": "277a32b7-5024-483b-97ad-41994311c7b7",
   "metadata": {},
   "outputs": [
    {
     "data": {
      "text/plain": [
       "TtestResult(statistic=-2.026170300843182, pvalue=0.04691974596370832, df=64.0)"
      ]
     },
     "execution_count": 10,
     "metadata": {},
     "output_type": "execute_result"
    }
   ],
   "source": [
    "st.ttest_ind(a, b)"
   ]
  },
  {
   "cell_type": "code",
   "execution_count": 11,
   "id": "1cc668a4-1cf1-43e3-92de-625d3991c212",
   "metadata": {},
   "outputs": [
    {
     "data": {
      "text/plain": [
       "Ttest_indResult(statistic=-2.026170300843182, pvalue=0.04691974596370832)"
      ]
     },
     "execution_count": 11,
     "metadata": {},
     "output_type": "execute_result"
    }
   ],
   "source": [
    "st.ttest_ind_from_stats(\n",
    "    np.mean(a),\n",
    "    np.std(a, ddof=1),\n",
    "    len(a),\n",
    "    np.mean(b),\n",
    "    np.std(b, ddof=1),\n",
    "    len(b),\n",
    ")"
   ]
  },
  {
   "cell_type": "code",
   "execution_count": 12,
   "id": "eed2091a-741b-4c87-af70-fe9a156c27ee",
   "metadata": {},
   "outputs": [
    {
     "data": {
      "text/plain": [
       "<class 'statsmodels.stats.base.HolderTuple'>\n",
       "statistic = -3.2535580685929917\n",
       "pvalue = 0.0011396942939908236\n",
       "compare = 'diff'\n",
       "method = 'agresti-caffo'\n",
       "diff = -0.06666666666666665\n",
       "ratio = 0.6000000000000001\n",
       "odds_ratio = 0.5555555555555557\n",
       "variance = 0.00041375423296553056\n",
       "alternative = 'two-sided'\n",
       "value = 0\n",
       "tuple = (-3.2535580685929917, 0.0011396942939908236)"
      ]
     },
     "execution_count": 12,
     "metadata": {},
     "output_type": "execute_result"
    }
   ],
   "source": [
    "# nobs1 = 388\n",
    "# nobs2 = 388\n",
    "# count1 = math.ceil(p1 * nobs1)\n",
    "# count2 = math.ceil(p2 * nobs2)\n",
    "# count1 = 1600\n",
    "# nobs1 = 80000\n",
    "# count2 = 1696\n",
    "# nobs2 = 80000\n",
    "\n",
    "count1 = 50\n",
    "nobs1 = 500\n",
    "count2 = 100\n",
    "nobs2 = 600\n",
    "p1 = count1 / nobs1\n",
    "p2 = count2 / nobs2\n",
    "\n",
    "sm.test_proportions_2indep(\n",
    "    count1,\n",
    "    nobs1,\n",
    "    count2,\n",
    "    nobs2,\n",
    "    return_results=True,\n",
    ")"
   ]
  },
  {
   "cell_type": "code",
   "execution_count": 13,
   "id": "ccb874eb-7463-4ac9-b264-f641e02a9aff",
   "metadata": {},
   "outputs": [
    {
     "data": {
      "text/plain": [
       "(-3.206718094200441, 0.001342584922266084)"
      ]
     },
     "execution_count": 13,
     "metadata": {},
     "output_type": "execute_result"
    }
   ],
   "source": [
    "import statsmodels.stats.proportion as sap\n",
    "\n",
    "sap.score_test_proportions_2indep(\n",
    "    count1,\n",
    "    nobs1,\n",
    "    count2,\n",
    "    nobs2,\n",
    "    return_results=False,\n",
    ")"
   ]
  },
  {
   "cell_type": "code",
   "execution_count": 14,
   "id": "5ac0c6f0-085d-4289-b7b7-03c2638e9a0f",
   "metadata": {},
   "outputs": [
    {
     "data": {
      "text/plain": [
       "(-3.2081766879052513, 0.0013357940586552824)"
      ]
     },
     "execution_count": 14,
     "metadata": {},
     "output_type": "execute_result"
    }
   ],
   "source": [
    "count = [count1, count2]\n",
    "nobs = [nobs1, nobs2]\n",
    "sm.proportions_ztest(count, nobs, alternative=\"two-sided\", prop_var=False)"
   ]
  },
  {
   "cell_type": "code",
   "execution_count": 15,
   "id": "953aaf4d-9a64-48c2-8468-494c3d4625d2",
   "metadata": {},
   "outputs": [
    {
     "name": "stdout",
     "output_type": "stream",
     "text": [
      "0.13636363636363635\n",
      "0.02078023536484084\n"
     ]
    },
    {
     "data": {
      "text/plain": [
       "Ttest_indResult(statistic=-3.286499674123032, pvalue=0.0010465503504400564)"
      ]
     },
     "execution_count": 15,
     "metadata": {},
     "output_type": "execute_result"
    }
   ],
   "source": [
    "n1 = nobs1\n",
    "n2 = nobs2\n",
    "# p = (p1 * n1 + p2 * n2) / (n1 + n2)\n",
    "p = (count1 + count2) / (n1 + n2)\n",
    "std = np.sqrt(p * (1 - p) * (1 / n1 + 1 / n2))\n",
    "print(p)\n",
    "print(std)\n",
    "\n",
    "# This has the closest result to abtest\n",
    "# https://abtestguide.com/calc/\n",
    "st.ttest_ind_from_stats(\n",
    "    p1,\n",
    "    np.sqrt(p1 * (1 - p1)),\n",
    "    nobs1,\n",
    "    p2,\n",
    "    np.sqrt(p2 * (1 - p2)),\n",
    "    nobs2,\n",
    "    equal_var=False,\n",
    ")"
   ]
  },
  {
   "cell_type": "code",
   "execution_count": 16,
   "id": "b83e2fc3-2546-4054-9fc2-3a46ece453ae",
   "metadata": {},
   "outputs": [
    {
     "data": {
      "text/plain": [
       "(-3.286499674123032, 0.000507204456283015)"
      ]
     },
     "execution_count": 16,
     "metadata": {},
     "output_type": "execute_result"
    }
   ],
   "source": [
    "std_a = np.sqrt((p1 * (1 - p1)) / nobs1)\n",
    "std_b = np.sqrt((p2 * (1 - p2)) / nobs2)\n",
    "std_diff = np.sqrt(std_a**2 + std_b**2)\n",
    "z_score = (p1 - p2) / (std_diff)\n",
    "p_value = st.norm.sf(np.abs(z_score))  # One-sided. To get the two-sided, multiply by 2.\n",
    "z_score, p_value"
   ]
  },
  {
   "cell_type": "code",
   "execution_count": 17,
   "id": "0377d473-d47d-4ed3-b4e1-af44fa8ed20d",
   "metadata": {},
   "outputs": [
    {
     "data": {
      "text/plain": [
       "0.19756756177464585"
      ]
     },
     "execution_count": 17,
     "metadata": {},
     "output_type": "execute_result"
    }
   ],
   "source": [
    "sm.proportion_effectsize(p2, p1)"
   ]
  },
  {
   "cell_type": "code",
   "execution_count": 18,
   "id": "647d3da3-f7a8-4110-889a-60a763352c84",
   "metadata": {},
   "outputs": [
    {
     "data": {
      "text/plain": [
       "(0.07370432378270256, 0.12629567621729745)"
      ]
     },
     "execution_count": 18,
     "metadata": {},
     "output_type": "execute_result"
    }
   ],
   "source": [
    "sm.proportion_confint(count1, nobs1, alpha=0.05, method=\"normal\")"
   ]
  },
  {
   "cell_type": "code",
   "execution_count": 19,
   "id": "64c8b3d6-f4c3-4a09-8fa4-37d77e739452",
   "metadata": {},
   "outputs": [
    {
     "data": {
      "text/plain": [
       "<class 'statsmodels.tools.testing.Holder'>\n",
       "power = 0.8994962353514785\n",
       "p_pooled = 0.13636363636363635\n",
       "std_null = 0.4646601886422926\n",
       "std_alt = 0.4535865305988933\n",
       "nobs1 = 500\n",
       "nobs2 = 600.0\n",
       "nobs_ratio = 1.2\n",
       "alpha = 0.05"
      ]
     },
     "execution_count": 19,
     "metadata": {},
     "output_type": "execute_result"
    }
   ],
   "source": [
    "sm.power_proportions_2indep(\n",
    "    p1 - p2,\n",
    "    p2,\n",
    "    nobs1,\n",
    "    ratio=nobs2 / nobs1,\n",
    "    alpha=0.05,\n",
    "    alternative=\"two-sided\",\n",
    "    return_results=True,\n",
    ")"
   ]
  },
  {
   "cell_type": "code",
   "execution_count": 20,
   "id": "a2054882-7d4b-46b8-9895-8eb4dc6734dd",
   "metadata": {},
   "outputs": [
    {
     "data": {
      "text/plain": [
       "(-0.06666666666666665, True)"
      ]
     },
     "execution_count": 20,
     "metadata": {},
     "output_type": "execute_result"
    }
   ],
   "source": [
    "p1 - p2, p2 + (p1 - p2) == p1"
   ]
  },
  {
   "cell_type": "code",
   "execution_count": 21,
   "id": "c088b54a-43ec-434d-870e-db50fa4ea2d2",
   "metadata": {},
   "outputs": [
    {
     "data": {
      "text/plain": [
       "0.9036712061263761"
      ]
     },
     "execution_count": 21,
     "metadata": {},
     "output_type": "execute_result"
    }
   ],
   "source": [
    "sm.zt_ind_solve_power(\n",
    "    sm.proportion_effectsize(p1, p2),\n",
    "    nobs1,\n",
    "    alpha=0.05,\n",
    "    power=None,\n",
    "    ratio=nobs2 / nobs1,\n",
    "    alternative=\"two-sided\",\n",
    ")"
   ]
  },
  {
   "cell_type": "code",
   "execution_count": 22,
   "id": "ca80ab19-e6b6-40ff-94f2-f18b977b2343",
   "metadata": {},
   "outputs": [
    {
     "data": {
      "text/plain": [
       "0.9031827828884099"
      ]
     },
     "execution_count": 22,
     "metadata": {},
     "output_type": "execute_result"
    }
   ],
   "source": [
    "sm.tt_ind_solve_power(\n",
    "    sm.proportion_effectsize(p2, p1),\n",
    "    nobs1,\n",
    "    alpha=0.05,\n",
    "    power=None,\n",
    "    ratio=nobs2 / nobs1,\n",
    ")"
   ]
  },
  {
   "cell_type": "code",
   "execution_count": 23,
   "id": "33475198-6eeb-49c7-b803-dd01187c1e10",
   "metadata": {},
   "outputs": [
    {
     "name": "stdout",
     "output_type": "stream",
     "text": [
      "Calculated power for the A/B test: 0.90\n"
     ]
    }
   ],
   "source": [
    "import statsmodels.stats.api as sms\n",
    "\n",
    "\n",
    "def calculate_ab_test_power(p1, p2, n1, n2, alpha=0.05):\n",
    "    # Calculate effect size\n",
    "    effect_size = sms.proportion_effectsize(p1, p2)\n",
    "\n",
    "    # Calculate power\n",
    "    power_analysis = sms.NormalIndPower()\n",
    "    power = power_analysis.solve_power(\n",
    "        effect_size=effect_size,\n",
    "        nobs1=n1,\n",
    "        alpha=alpha,\n",
    "        ratio=n2 / n1,\n",
    "        alternative=\"two-sided\",\n",
    "    )\n",
    "\n",
    "    return power\n",
    "\n",
    "\n",
    "# Example usage\n",
    "\n",
    "power = calculate_ab_test_power(p1, p2, n1, n2, alpha)\n",
    "print(f\"Calculated power for the A/B test: {power:.2f}\")"
   ]
  }
 ],
 "metadata": {
  "kernelspec": {
   "display_name": "Python 3 (ipykernel)",
   "language": "python",
   "name": "python3"
  },
  "language_info": {
   "codemirror_mode": {
    "name": "ipython",
    "version": 3
   },
   "file_extension": ".py",
   "mimetype": "text/x-python",
   "name": "python",
   "nbconvert_exporter": "python",
   "pygments_lexer": "ipython3",
   "version": "3.12.9"
  }
 },
 "nbformat": 4,
 "nbformat_minor": 5
}
