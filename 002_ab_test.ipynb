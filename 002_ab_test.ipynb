{
 "cells": [
  {
   "cell_type": "markdown",
   "id": "2f6a07da-11de-4549-b84b-48489aa4e5fe",
   "metadata": {},
   "source": [
    "# A/B testing\n",
    "\n",
    "\n",
    "Sample size calculation:\n",
    "- https://mverbakel.github.io/2021-04-11/power-calculations\n",
    "- https://pmc.ncbi.nlm.nih.gov/articles/PMC5738522/\n",
    "- https://www.reddit.com/r/AskStatistics/comments/1i2ran5/standard_deviation_in_sample_size_calculation_for/\n",
    "- https://ethanweed.github.io/pythonbook/05.02-ttest.html"
   ]
  },
  {
   "cell_type": "code",
   "execution_count": 1,
   "id": "cba59bf5-976e-4a69-9408-4acb33f827ff",
   "metadata": {},
   "outputs": [],
   "source": [
    "import matplotlib.pyplot as plt\n",
    "import numpy as np\n",
    "import scipy.stats as st\n",
    "import statsmodels.stats.api as sm\n",
    "import statsmodels.stats.power as sp"
   ]
  },
  {
   "cell_type": "code",
   "execution_count": 2,
   "id": "dd137d53-f165-4eba-95c4-8a854eeaef9d",
   "metadata": {},
   "outputs": [
    {
     "name": "stdout",
     "output_type": "stream",
     "text": [
      "Required sample size per group for mean difference: 32\n",
      "Required sample size per group for proportions: 389\n"
     ]
    }
   ],
   "source": [
    "import math\n",
    "\n",
    "import scipy.stats as stats\n",
    "\n",
    "\n",
    "def sample_size_for_mean_difference(alpha, power, sigma, delta):\n",
    "    \"\"\"\n",
    "    Calculate sample size for comparing two means.\n",
    "\n",
    "    Parameters:\n",
    "        alpha (float): significance level\n",
    "        power (float): statistical power\n",
    "        sigma (float): standard deviation of the differences\n",
    "        delta (float): the difference in means to detect\n",
    "\n",
    "    Returns:\n",
    "        float: required sample size per group\n",
    "    \"\"\"\n",
    "    z_alpha = stats.norm.ppf(1 - alpha / 2)\n",
    "    z_beta = stats.norm.ppf(power)\n",
    "    n = ((z_alpha + z_beta) * sigma / delta) ** 2\n",
    "    return math.ceil(n)\n",
    "\n",
    "\n",
    "def sample_size_for_proportions(alpha, power, p1, p2):\n",
    "    \"\"\"\n",
    "    Calculate sample size for comparing two proportions.\n",
    "\n",
    "    Parameters:\n",
    "        alpha (float): significance level\n",
    "        power (float): statistical power\n",
    "        p1 (float): proportion in group 1\n",
    "        p2 (float): proportion in group 2\n",
    "\n",
    "    Returns:\n",
    "        float: required sample size per group\n",
    "    \"\"\"\n",
    "    z_alpha = stats.norm.ppf(1 - alpha / 2)\n",
    "    z_beta = stats.norm.ppf(power)\n",
    "    p_mean = (p1 + p2) / 2\n",
    "    n = ((z_alpha + z_beta) ** 2 * (p_mean * (1 - p_mean) * 2)) / (p1 - p2) ** 2\n",
    "    return math.ceil(n)\n",
    "\n",
    "\n",
    "# Example calculations\n",
    "alpha = 0.05  # 95% confidence level\n",
    "power = 0.80  # 80% power\n",
    "\n",
    "# Mean difference example\n",
    "sigma = 10\n",
    "delta = 5\n",
    "n_mean_diff = sample_size_for_mean_difference(alpha, power, sigma, delta)\n",
    "print(f\"Required sample size per group for mean difference: {n_mean_diff}\")\n",
    "\n",
    "# Proportion example\n",
    "p1 = 0.5\n",
    "p2 = 0.4\n",
    "n_proportion = sample_size_for_proportions(alpha, power, p1, p2)\n",
    "print(f\"Required sample size per group for proportions: {n_proportion}\")"
   ]
  },
  {
   "cell_type": "code",
   "execution_count": 3,
   "id": "302cdbe0-3fcd-458c-b80f-8ba2cad08dfa",
   "metadata": {},
   "outputs": [],
   "source": [
    "def sample_size_for_mean_difference(delta, std, power=0.8, alpha=0.05, sides=1):\n",
    "    return math.ceil(\n",
    "        sp.normal_sample_size_one_tail(\n",
    "            delta, power, alpha / sides, std_null=std, std_alternative=None\n",
    "        )\n",
    "    )"
   ]
  },
  {
   "cell_type": "code",
   "execution_count": 4,
   "id": "a3e871f8-1cee-4722-b4a8-437c7f2380ab",
   "metadata": {},
   "outputs": [
    {
     "data": {
      "text/plain": [
       "(25, 32)"
      ]
     },
     "execution_count": 4,
     "metadata": {},
     "output_type": "execute_result"
    }
   ],
   "source": [
    "one_tail = sample_size_for_mean_difference(delta, sigma, sides=1)\n",
    "two_tail = sample_size_for_mean_difference(delta, sigma, sides=2)\n",
    "one_tail, two_tail"
   ]
  },
  {
   "cell_type": "code",
   "execution_count": 5,
   "id": "62c4c430-87a1-4ea1-9a27-7c29f3825730",
   "metadata": {},
   "outputs": [
    {
     "data": {
      "text/plain": [
       "(305, 388)"
      ]
     },
     "execution_count": 5,
     "metadata": {},
     "output_type": "execute_result"
    }
   ],
   "source": [
    "def sample_size_for_proportions(p1, p2, power=0.8, alternative=\"two-sided\"):\n",
    "    return math.ceil(\n",
    "        sm.samplesize_proportions_2indep_onetail(\n",
    "            p2 - p1, p1, power, alternative=alternative\n",
    "        )\n",
    "    )\n",
    "\n",
    "\n",
    "one_tail = sample_size_for_proportions(p1, p2, alternative=\"larger\")\n",
    "two_tail = sample_size_for_proportions(p1, p2, alternative=\"two-sided\")\n",
    "one_tail, two_tail"
   ]
  },
  {
   "cell_type": "code",
   "execution_count": 30,
   "id": "41372134-1bb7-4bb4-846e-a11ae5c507c3",
   "metadata": {},
   "outputs": [
    {
     "data": {
      "text/plain": [
       "<class 'statsmodels.tools.testing.Holder'>\n",
       "power = 0.7809360655972347\n",
       "p_pooled = 0.13333333333333333\n",
       "std_null = 0.48074017006186526\n",
       "std_alt = 0.47842333648024415\n",
       "nobs1 = 388\n",
       "nobs2 = 388\n",
       "nobs_ratio = 1\n",
       "alpha = 0.05"
      ]
     },
     "execution_count": 30,
     "metadata": {},
     "output_type": "execute_result"
    }
   ],
   "source": [
    "sm.power_proportions_2indep(\n",
    "    p1 - p2,\n",
    "    p2,\n",
    "    nobs1=388,\n",
    "    ratio=1,\n",
    "    alpha=0.05,\n",
    "    alternative=\"two-sided\",\n",
    "    return_results=True,\n",
    ")"
   ]
  },
  {
   "cell_type": "code",
   "execution_count": 31,
   "id": "10a9e513-e0ca-4f52-98a8-4fcbcb9580e6",
   "metadata": {},
   "outputs": [
    {
     "data": {
      "text/plain": [
       "(-0.019795765823731406, 0.9842062956060404)"
      ]
     },
     "execution_count": 31,
     "metadata": {},
     "output_type": "execute_result"
    }
   ],
   "source": [
    "n = 33\n",
    "np.random.seed(4)\n",
    "a = np.random.normal(0, sigma, n)\n",
    "b = np.random.normal(delta, sigma, n)\n",
    "sm.ztest(a, b)"
   ]
  },
  {
   "cell_type": "code",
   "execution_count": 32,
   "id": "9e86d5e4-02a3-48fc-b610-a86620e333d1",
   "metadata": {},
   "outputs": [
    {
     "data": {
      "text/plain": [
       "(0.30494685217315737,\n",
       " 9.361662707497304,\n",
       " 0.35362126948284883,\n",
       " 10.287189415586512)"
      ]
     },
     "execution_count": 32,
     "metadata": {},
     "output_type": "execute_result"
    }
   ],
   "source": [
    "np.mean(a), np.std(a), np.mean(b), np.std(b)"
   ]
  },
  {
   "cell_type": "code",
   "execution_count": 33,
   "id": "37baac60-6c05-4d6e-b9f0-55a1ae776dca",
   "metadata": {},
   "outputs": [
    {
     "data": {
      "text/plain": [
       "(-0.019795765823731385, 0.9842678829762332, 64.0)"
      ]
     },
     "execution_count": 33,
     "metadata": {},
     "output_type": "execute_result"
    }
   ],
   "source": [
    "sm.ttest_ind(a, b)"
   ]
  },
  {
   "cell_type": "code",
   "execution_count": 34,
   "id": "277a32b7-5024-483b-97ad-41994311c7b7",
   "metadata": {},
   "outputs": [
    {
     "data": {
      "text/plain": [
       "TtestResult(statistic=-0.019795765823731406, pvalue=0.9842678829762332, df=64.0)"
      ]
     },
     "execution_count": 34,
     "metadata": {},
     "output_type": "execute_result"
    }
   ],
   "source": [
    "st.ttest_ind(a, b)"
   ]
  },
  {
   "cell_type": "code",
   "execution_count": 35,
   "id": "1cc668a4-1cf1-43e3-92de-625d3991c212",
   "metadata": {},
   "outputs": [
    {
     "data": {
      "text/plain": [
       "Ttest_indResult(statistic=-0.019795765823731406, pvalue=0.9842678829762332)"
      ]
     },
     "execution_count": 35,
     "metadata": {},
     "output_type": "execute_result"
    }
   ],
   "source": [
    "st.ttest_ind_from_stats(\n",
    "    np.mean(a),\n",
    "    np.std(a, ddof=1),\n",
    "    len(a),\n",
    "    np.mean(b),\n",
    "    np.std(b, ddof=1),\n",
    "    len(b),\n",
    ")"
   ]
  },
  {
   "cell_type": "code",
   "execution_count": 48,
   "id": "eed2091a-741b-4c87-af70-fe9a156c27ee",
   "metadata": {},
   "outputs": [
    {
     "data": {
      "text/plain": [
       "<class 'statsmodels.stats.base.HolderTuple'>\n",
       "statistic = -2.494217538993216\n",
       "pvalue = 0.012623515252023227\n",
       "compare = 'diff'\n",
       "method = 'agresti-caffo'\n",
       "diff = -0.04999999999999999\n",
       "ratio = 0.6666666666666667\n",
       "odds_ratio = 0.6296296296296297\n",
       "variance = 0.00039496130786195586\n",
       "alternative = 'two-sided'\n",
       "value = 0\n",
       "tuple = (-2.494217538993216, 0.012623515252023227)"
      ]
     },
     "execution_count": 48,
     "metadata": {},
     "output_type": "execute_result"
    }
   ],
   "source": [
    "# nobs1 = 388\n",
    "# nobs2 = 388\n",
    "# count1 = math.ceil(p1 * nobs1)\n",
    "# count2 = math.ceil(p2 * nobs2)\n",
    "# count1 = 1600\n",
    "# nobs1 = 80000\n",
    "# count2 = 1696\n",
    "# nobs2 = 80000\n",
    "\n",
    "count1 = 50\n",
    "nobs1 = 500\n",
    "count2 = 90\n",
    "nobs2 = 600\n",
    "p1 = count1 / nobs1\n",
    "p2 = count2 / nobs2\n",
    "\n",
    "sm.test_proportions_2indep(\n",
    "    count1,\n",
    "    nobs1,\n",
    "    count2,\n",
    "    nobs2,\n",
    "    return_results=True,\n",
    ")"
   ]
  },
  {
   "cell_type": "code",
   "execution_count": 49,
   "id": "ccb874eb-7463-4ac9-b264-f641e02a9aff",
   "metadata": {},
   "outputs": [
    {
     "data": {
      "text/plain": [
       "(-2.476451594519868, 0.01326956172775838)"
      ]
     },
     "execution_count": 49,
     "metadata": {},
     "output_type": "execute_result"
    }
   ],
   "source": [
    "import statsmodels.stats.proportion as sap\n",
    "\n",
    "sap.score_test_proportions_2indep(\n",
    "    count1,\n",
    "    nobs1,\n",
    "    count2,\n",
    "    nobs2,\n",
    "    return_results=False,\n",
    ")"
   ]
  },
  {
   "cell_type": "code",
   "execution_count": 50,
   "id": "5ac0c6f0-085d-4289-b7b7-03c2638e9a0f",
   "metadata": {},
   "outputs": [
    {
     "data": {
      "text/plain": [
       "(-2.4775780224127866, 0.013227748427113117)"
      ]
     },
     "execution_count": 50,
     "metadata": {},
     "output_type": "execute_result"
    }
   ],
   "source": [
    "count = [count1, count2]\n",
    "nobs = [nobs1, nobs2]\n",
    "sm.proportions_ztest(count, nobs, alternative=\"two-sided\", prop_var=False)"
   ]
  },
  {
   "cell_type": "code",
   "execution_count": 51,
   "id": "953aaf4d-9a64-48c2-8468-494c3d4625d2",
   "metadata": {},
   "outputs": [
    {
     "name": "stdout",
     "output_type": "stream",
     "text": [
      "0.12727272727272726\n",
      "0.02018099916438052\n"
     ]
    },
    {
     "data": {
      "text/plain": [
       "Ttest_indResult(statistic=-2.5237723256253433, pvalue=0.011750495881847919)"
      ]
     },
     "execution_count": 51,
     "metadata": {},
     "output_type": "execute_result"
    }
   ],
   "source": [
    "n1 = nobs1\n",
    "n2 = nobs2\n",
    "# p = (p1 * n1 + p2 * n2) / (n1 + n2)\n",
    "p = (count1 + count2) / (n1 + n2)\n",
    "std = np.sqrt(p * (1 - p) * (1 / n1 + 1 / n2))\n",
    "print(p)\n",
    "print(std)\n",
    "\n",
    "# This has the closest result to abtest\n",
    "# https://abtestguide.com/calc/\n",
    "st.ttest_ind_from_stats(\n",
    "    p1,\n",
    "    np.sqrt(p1 * (1 - p1)),\n",
    "    nobs1,\n",
    "    p2,\n",
    "    np.sqrt(p2 * (1 - p2)),\n",
    "    nobs2,\n",
    "    equal_var=False,\n",
    ")"
   ]
  },
  {
   "cell_type": "code",
   "execution_count": 52,
   "id": "b83e2fc3-2546-4054-9fc2-3a46ece453ae",
   "metadata": {},
   "outputs": [
    {
     "data": {
      "text/plain": [
       "(-2.5237723256253433, 0.005805154770786605)"
      ]
     },
     "execution_count": 52,
     "metadata": {},
     "output_type": "execute_result"
    }
   ],
   "source": [
    "std_a = np.sqrt((p1 * (1 - p1)) / nobs1)\n",
    "std_b = np.sqrt((p2 * (1 - p2)) / nobs2)\n",
    "std_diff = np.sqrt(std_a**2 + std_b**2)\n",
    "z_score = (p1 - p2) / (std_diff)\n",
    "p_value = st.norm.sf(np.abs(z_score))  # One-sided. To get the two-sided, multiply by 2.\n",
    "z_score, p_value"
   ]
  },
  {
   "cell_type": "code",
   "execution_count": 53,
   "id": "0377d473-d47d-4ed3-b4e1-af44fa8ed20d",
   "metadata": {},
   "outputs": [
    {
     "data": {
      "text/plain": [
       "0.15189772139085922"
      ]
     },
     "execution_count": 53,
     "metadata": {},
     "output_type": "execute_result"
    }
   ],
   "source": [
    "sm.proportion_effectsize(p2, p1)"
   ]
  },
  {
   "cell_type": "code",
   "execution_count": 54,
   "id": "647d3da3-f7a8-4110-889a-60a763352c84",
   "metadata": {},
   "outputs": [
    {
     "data": {
      "text/plain": [
       "(0.07370432378270256, 0.12629567621729745)"
      ]
     },
     "execution_count": 54,
     "metadata": {},
     "output_type": "execute_result"
    }
   ],
   "source": [
    "sm.proportion_confint(count1, nobs1, alpha=0.05, method=\"normal\")"
   ]
  },
  {
   "cell_type": "code",
   "execution_count": 55,
   "id": "64c8b3d6-f4c3-4a09-8fa4-37d77e739452",
   "metadata": {},
   "outputs": [
    {
     "data": {
      "text/plain": [
       "<class 'statsmodels.tools.testing.Holder'>\n",
       "power = 0.7009982730689444\n",
       "p_pooled = 0.1272727272727273\n",
       "std_null = 0.451260859854213\n",
       "std_alt = 0.4430011286667338\n",
       "nobs1 = 500\n",
       "nobs2 = 600.0\n",
       "nobs_ratio = 1.2\n",
       "alpha = 0.05"
      ]
     },
     "execution_count": 55,
     "metadata": {},
     "output_type": "execute_result"
    }
   ],
   "source": [
    "sm.power_proportions_2indep(\n",
    "    p1 - p2,\n",
    "    p2,\n",
    "    nobs1,\n",
    "    ratio=nobs2 / nobs1,\n",
    "    alpha=0.05,\n",
    "    alternative=\"two-sided\",\n",
    "    return_results=True,\n",
    ")"
   ]
  },
  {
   "cell_type": "code",
   "execution_count": 56,
   "id": "a2054882-7d4b-46b8-9895-8eb4dc6734dd",
   "metadata": {},
   "outputs": [
    {
     "data": {
      "text/plain": [
       "(-0.04999999999999999, True)"
      ]
     },
     "execution_count": 56,
     "metadata": {},
     "output_type": "execute_result"
    }
   ],
   "source": [
    "p1 - p2, p2 + (p1 - p2) == p1"
   ]
  },
  {
   "cell_type": "code",
   "execution_count": 57,
   "id": "c088b54a-43ec-434d-870e-db50fa4ea2d2",
   "metadata": {},
   "outputs": [
    {
     "data": {
      "text/plain": [
       "0.7083448374710821"
      ]
     },
     "execution_count": 57,
     "metadata": {},
     "output_type": "execute_result"
    }
   ],
   "source": [
    "sm.zt_ind_solve_power(\n",
    "    sm.proportion_effectsize(p1, p2),\n",
    "    nobs1,\n",
    "    alpha=0.05,\n",
    "    power=None,\n",
    "    ratio=nobs2 / nobs1,\n",
    "    alternative=\"two-sided\",\n",
    ")"
   ]
  },
  {
   "cell_type": "code",
   "execution_count": 58,
   "id": "ca80ab19-e6b6-40ff-94f2-f18b977b2343",
   "metadata": {},
   "outputs": [
    {
     "data": {
      "text/plain": [
       "0.7075911983838853"
      ]
     },
     "execution_count": 58,
     "metadata": {},
     "output_type": "execute_result"
    }
   ],
   "source": [
    "sm.tt_ind_solve_power(\n",
    "    sm.proportion_effectsize(p2, p1),\n",
    "    nobs1,\n",
    "    alpha=0.05,\n",
    "    power=None,\n",
    "    ratio=nobs2 / nobs1,\n",
    ")"
   ]
  },
  {
   "cell_type": "code",
   "execution_count": 47,
   "id": "33475198-6eeb-49c7-b803-dd01187c1e10",
   "metadata": {},
   "outputs": [
    {
     "name": "stdout",
     "output_type": "stream",
     "text": [
      "Calculated power for the A/B test: 0.90\n"
     ]
    }
   ],
   "source": [
    "import statsmodels.stats.api as sms\n",
    "\n",
    "\n",
    "def calculate_ab_test_power(p1, p2, n1, n2, alpha=0.05):\n",
    "    # Calculate effect size\n",
    "    effect_size = sms.proportion_effectsize(p1, p2)\n",
    "\n",
    "    # Calculate power\n",
    "    power_analysis = sms.NormalIndPower()\n",
    "    power = power_analysis.solve_power(\n",
    "        effect_size=effect_size,\n",
    "        nobs1=n1,\n",
    "        alpha=alpha,\n",
    "        ratio=n2 / n1,\n",
    "        alternative=\"two-sided\",\n",
    "    )\n",
    "\n",
    "    return power\n",
    "\n",
    "\n",
    "# Example usage\n",
    "\n",
    "power = calculate_ab_test_power(p1, p2, n1, n2, alpha)\n",
    "print(f\"Calculated power for the A/B test: {power:.2f}\")"
   ]
  }
 ],
 "metadata": {
  "kernelspec": {
   "display_name": "Python 3 (ipykernel)",
   "language": "python",
   "name": "python3"
  },
  "language_info": {
   "codemirror_mode": {
    "name": "ipython",
    "version": 3
   },
   "file_extension": ".py",
   "mimetype": "text/x-python",
   "name": "python",
   "nbconvert_exporter": "python",
   "pygments_lexer": "ipython3",
   "version": "3.12.9"
  }
 },
 "nbformat": 4,
 "nbformat_minor": 5
}
