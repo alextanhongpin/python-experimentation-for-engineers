{
 "cells": [
  {
   "cell_type": "markdown",
   "id": "4bbbaeab-893b-42db-be5b-6549bf9cbb24",
   "metadata": {},
   "source": [
    "# Z-score\n",
    "\n",
    "\n",
    "- a statistical measurement that describes a value's relationship to the mean of a group of values\n",
    "- measured in terms of standard deviation from the mean\n",
    "\n",
    "Why is Z-score important for traders?\n",
    "- it reveals if a value is typical/atypical for a specificied data set\n",
    "- in other words, traders can identify potential buy/sell opportunities\n",
    "\n",
    "How to read Z-score?\n",
    "- 0: the data point's score is identical to the mean score\n",
    "- 1.0: the value is one standard deviation from the mean\n",
    "- 3.0: the value is three standard deviation from the mean\n",
    "\n",
    "From a trader's interpretation:\n",
    "- a z-score significantly higher than 1.5 might indicate that the stock is overprice compared to its historical average, while a value lower than -1.5 might indicate the oppposite\n",
    "\n",
    "Z-scores may be positive of negative\n",
    "- negative: it is below the mean\n",
    "- positive: it is above the mean\n",
    "\n",
    "Formula:\n",
    "\n",
    "$$ z = (x - \\mu)/\\sigma $$\n",
    "\n",
    "Where\n",
    "- $z$ = Z-score\n",
    "- $x$ = the value being evaluated\n",
    "- $\\mu$ = the mean\n",
    "- $\\sigma$ = the standard deviation\n",
    "\n",
    "\n",
    "Reference: https://www.investopedia.com/terms/z/zscore.asp#:~:text=Z%2Dscore%20is%20a%20statistical,traders%20to%20help%20determine%20volatility."
   ]
  },
  {
   "cell_type": "markdown",
   "id": "beec8257-ba24-4d10-927d-7f167d44534c",
   "metadata": {},
   "source": [
    "## Calculating z-score\n",
    "\n",
    "Imagine you have the following data:\n",
    "\n",
    "Where\n",
    "- $x$ = 57\n",
    "- $\\mu$ = 52\n",
    "- $\\sigma$ = 4"
   ]
  },
  {
   "cell_type": "code",
   "execution_count": 2,
   "id": "f0965fe5-1443-40a9-80ea-f87c46ac89b8",
   "metadata": {
    "execution": {
     "iopub.execute_input": "2024-04-30T08:02:32.981470Z",
     "iopub.status.busy": "2024-04-30T08:02:32.980918Z",
     "iopub.status.idle": "2024-04-30T08:02:33.043138Z",
     "shell.execute_reply": "2024-04-30T08:02:33.038131Z",
     "shell.execute_reply.started": "2024-04-30T08:02:32.981445Z"
    }
   },
   "outputs": [
    {
     "data": {
      "text/plain": [
       "1.25"
      ]
     },
     "execution_count": 2,
     "metadata": {},
     "output_type": "execute_result"
    }
   ],
   "source": [
    "x = 57\n",
    "mean = 52\n",
    "std = 4\n",
    "\n",
    "z = (x - mean) / std\n",
    "z"
   ]
  },
  {
   "cell_type": "code",
   "execution_count": 13,
   "id": "61a1bd80-80f7-49a6-bcd2-69cd5b09c3cd",
   "metadata": {
    "execution": {
     "iopub.execute_input": "2024-04-30T08:29:19.554520Z",
     "iopub.status.busy": "2024-04-30T08:29:19.550990Z",
     "iopub.status.idle": "2024-04-30T08:29:19.784879Z",
     "shell.execute_reply": "2024-04-30T08:29:19.781954Z",
     "shell.execute_reply.started": "2024-04-30T08:29:19.554448Z"
    }
   },
   "outputs": [
    {
     "data": {
      "text/plain": [
       "5.0"
      ]
     },
     "execution_count": 13,
     "metadata": {},
     "output_type": "execute_result"
    }
   ],
   "source": [
    "# The x-value is indeed 1.25 standard deviation from the mean.\n",
    "1.25 * std"
   ]
  },
  {
   "cell_type": "markdown",
   "id": "b7415ef8-a960-44f0-ae48-279a34824d76",
   "metadata": {
    "execution": {
     "iopub.execute_input": "2024-04-30T08:29:32.684085Z",
     "iopub.status.busy": "2024-04-30T08:29:32.683454Z",
     "iopub.status.idle": "2024-04-30T08:29:32.695545Z",
     "shell.execute_reply": "2024-04-30T08:29:32.690617Z",
     "shell.execute_reply.started": "2024-04-30T08:29:32.684054Z"
    }
   },
   "source": [
    "## Plotting the Standard Normal Distribution (SND)"
   ]
  },
  {
   "cell_type": "code",
   "execution_count": 23,
   "id": "73733963-17df-4c6e-83ca-5623e6e5d350",
   "metadata": {
    "execution": {
     "iopub.execute_input": "2024-04-30T08:43:08.379133Z",
     "iopub.status.busy": "2024-04-30T08:43:08.378020Z",
     "iopub.status.idle": "2024-04-30T08:43:09.000242Z",
     "shell.execute_reply": "2024-04-30T08:43:08.998960Z",
     "shell.execute_reply.started": "2024-04-30T08:43:08.379057Z"
    }
   },
   "outputs": [
    {
     "data": {
      "image/png": "[encoded data removed]",
      "text/plain": [
       "<Figure size 640x480 with 1 Axes>"
      ]
     },
     "metadata": {},
     "output_type": "display_data"
    }
   ],
   "source": [
    "import numpy as np\n",
    "from matplotlib.pyplot import subplots\n",
    "from scipy.stats import norm\n",
    "\n",
    "std_lim = 1.96  # 95% Confidence Interval (CI)\n",
    "\n",
    "# Plot between -10 and 10 with 0.1 steps\n",
    "X = np.arange(-std_lim * 3, std_lim * 3, 0.1)\n",
    "ax = subplots()[1]\n",
    "\n",
    "# Mean and std of any SND is always 0 and 1 respectively.\n",
    "mean = 0\n",
    "std = 1\n",
    "pdf = norm.pdf(X, mean, std)\n",
    "ax.plot(X, pdf)\n",
    "\n",
    "lo = mean - std_lim * std\n",
    "hi = mean + std_lim * std\n",
    "\n",
    "ax.fill_between(X, pdf, where=(X > lo) & (X < hi))\n",
    "ax.text(lo, 0, lo, ha=\"center\")\n",
    "ax.text(hi, 0, hi, ha=\"center\");"
   ]
  },
  {
   "cell_type": "markdown",
   "id": "d980193c-f19c-4c67-bd1b-32197aacdf23",
   "metadata": {},
   "source": [
    "Observation:\n",
    "- the probability of randomly selecting a score between -1.96 and +1.96 standard deviations from the mean is 95%.\n",
    "- if there is less than a 5% chance of a raw score being selected randomly, then this is a statistically significant result"
   ]
  },
  {
   "cell_type": "markdown",
   "id": "3bcc45d1-2d17-4f50-8236-a62e751a09b3",
   "metadata": {},
   "source": [
    "According to a unit normal table, the values for a z-score of 1.64 are 0.9495, 0.0505, and 0.4495. The values for a z-score of 2.48 are 0.9934, 0.0066, and 0.4934. "
   ]
  },
  {
   "cell_type": "code",
   "execution_count": null,
   "id": "f97cdb1a-9cb5-484d-b975-f24a4381d26f",
   "metadata": {},
   "outputs": [],
   "source": []
  }
 ],
 "metadata": {
  "kernelspec": {
   "display_name": "Python 3 (ipykernel)",
   "language": "python",
   "name": "python3"
  },
  "language_info": {
   "codemirror_mode": {
    "name": "ipython",
    "version": 3
   },
   "file_extension": ".py",
   "mimetype": "text/x-python",
   "name": "python",
   "nbconvert_exporter": "python",
   "pygments_lexer": "ipython3",
   "version": "3.11.9"
  },
  "widgets": {
   "application/vnd.jupyter.widget-state+json": {
    "state": {},
    "version_major": 2,
    "version_minor": 0
   }
  }
 },
 "nbformat": 4,
 "nbformat_minor": 5
}
