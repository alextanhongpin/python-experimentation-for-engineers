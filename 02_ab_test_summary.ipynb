{
 "cells": [
  {
   "cell_type": "markdown",
   "id": "4bbbaeab-893b-42db-be5b-6549bf9cbb24",
   "metadata": {},
   "source": [
    "# Z-score\n",
    "\n",
    "\n",
    "- a statistical measurement that describes a value's relationship to the mean of a group of values\n",
    "- measured in terms of standard deviation from the mean\n",
    "\n",
    "Why is Z-score important for traders?\n",
    "- it reveals if a value is typical/atypical for a specificied data set\n",
    "- in other words, traders can identify potential buy/sell opportunities\n",
    "\n",
    "How to read Z-score?\n",
    "- 0: the data point's score is identical to the mean score\n",
    "- 1.0: the value is one standard deviation from the mean\n",
    "- 3.0: the value is three standard deviation from the mean\n",
    "\n",
    "From a trader's interpretation:\n",
    "- a z-score significantly higher than 1.5 might indicate that the stock is overprice compared to its historical average, while a value lower than -1.5 might indicate the oppposite\n",
    "\n",
    "Z-scores may be positive of negative\n",
    "- negative: it is below the mean\n",
    "- positive: it is above the mean\n",
    "\n",
    "Formula:\n",
    "\n",
    "$$ z = (x - \\mu)/\\sigma $$\n",
    "\n",
    "Where\n",
    "- $z$ = Z-score\n",
    "- $x$ = the value being evaluated\n",
    "- $\\mu$ = the mean\n",
    "- $\\sigma$ = the standard deviation\n",
    "\n",
    "\n",
    "Reference: https://www.investopedia.com/terms/z/zscore.asp#:~:text=Z%2Dscore%20is%20a%20statistical,traders%20to%20help%20determine%20volatility."
   ]
  },
  {
   "cell_type": "markdown",
   "id": "beec8257-ba24-4d10-927d-7f167d44534c",
   "metadata": {},
   "source": [
    "## Calculating z-score\n",
    "\n",
    "Imagine you have the following data:\n",
    "\n",
    "Where\n",
    "- $x$ = 57\n",
    "- $\\mu$ = 52\n",
    "- $\\sigma$ = 4"
   ]
  },
  {
   "cell_type": "code",
   "execution_count": 1,
   "id": "f0965fe5-1443-40a9-80ea-f87c46ac89b8",
   "metadata": {},
   "outputs": [
    {
     "data": {
      "text/plain": [
       "1.25"
      ]
     },
     "execution_count": 1,
     "metadata": {},
     "output_type": "execute_result"
    }
   ],
   "source": [
    "x = 57\n",
    "mean = 52\n",
    "std = 4\n",
    "\n",
    "z = (x - mean) / std\n",
    "z"
   ]
  },
  {
   "cell_type": "code",
   "execution_count": 2,
   "id": "61a1bd80-80f7-49a6-bcd2-69cd5b09c3cd",
   "metadata": {},
   "outputs": [
    {
     "data": {
      "text/plain": [
       "5.0"
      ]
     },
     "execution_count": 2,
     "metadata": {},
     "output_type": "execute_result"
    }
   ],
   "source": [
    "# The x-value is indeed 1.25 standard deviation from the mean.\n",
    "1.25 * std"
   ]
  },
  {
   "cell_type": "code",
   "execution_count": 3,
   "id": "3e34d151-213e-4d5f-b033-1fceaaaa00c8",
   "metadata": {},
   "outputs": [
    {
     "data": {
      "text/plain": [
       "(0.04999579029644087, True)"
      ]
     },
     "execution_count": 3,
     "metadata": {},
     "output_type": "execute_result"
    }
   ],
   "source": [
    "from scipy.stats import norm\n",
    "\n",
    "# Multiply by 2 for two-tailed tests\n",
    "p = norm.sf(abs(1.96)) * 2\n",
    "p, p < 0.05"
   ]
  },
  {
   "cell_type": "code",
   "execution_count": 4,
   "id": "2e720318-4c72-4e34-8651-ef9509be84fb",
   "metadata": {},
   "outputs": [
    {
     "data": {
      "text/plain": [
       "(0.2112995473337107, False)"
      ]
     },
     "execution_count": 4,
     "metadata": {},
     "output_type": "execute_result"
    }
   ],
   "source": [
    "p = norm.sf(abs(1.25)) * 2\n",
    "p, p < 0.05"
   ]
  },
  {
   "cell_type": "markdown",
   "id": "b7415ef8-a960-44f0-ae48-279a34824d76",
   "metadata": {
    "execution": {
     "iopub.execute_input": "2024-04-30T08:29:32.684085Z",
     "iopub.status.busy": "2024-04-30T08:29:32.683454Z",
     "iopub.status.idle": "2024-04-30T08:29:32.695545Z",
     "shell.execute_reply": "2024-04-30T08:29:32.690617Z",
     "shell.execute_reply.started": "2024-04-30T08:29:32.684054Z"
    }
   },
   "source": [
    "## Plotting the Standard Normal Distribution (SND)"
   ]
  },
  {
   "cell_type": "code",
   "execution_count": 5,
   "id": "73733963-17df-4c6e-83ca-5623e6e5d350",
   "metadata": {},
   "outputs": [
    {
     "data": {
      "image/png": "[encoded data removed]",
      "text/plain": [
       "<Figure size 640x480 with 1 Axes>"
      ]
     },
     "metadata": {},
     "output_type": "display_data"
    }
   ],
   "source": [
    "import numpy as np\n",
    "from matplotlib.pyplot import subplots\n",
    "from scipy.stats import norm\n",
    "\n",
    "std_lim = 1.96  # 95% Confidence Interval (CI)\n",
    "\n",
    "# Plot between -10 and 10 with 0.1 steps\n",
    "X = np.arange(-std_lim * 3, std_lim * 3, 0.1)\n",
    "ax = subplots()[1]\n",
    "ax.set_title(\"two-tailed test\")\n",
    "\n",
    "# Mean and std of any SND is always 0 and 1 respectively.\n",
    "mean = 0\n",
    "std = 1\n",
    "pdf = norm.pdf(X, mean, std)\n",
    "ax.plot(X, pdf)\n",
    "\n",
    "lo = mean - std_lim * std\n",
    "hi = mean + std_lim * std\n",
    "\n",
    "# ax.fill_between(X, pdf, where=(X > lo) & (X < hi))\n",
    "ax.fill_between(X, pdf, where=(X <= norm.ppf(0.975)) & (X >= norm.ppf(0.025)))\n",
    "ax.text(lo, 0, lo, ha=\"center\")\n",
    "ax.text(hi, 0, hi, ha=\"center\")\n",
    "\n",
    "\n",
    "ax.text(2.5, 0.15, \"area = 0.025\")\n",
    "ax.text(-1, 0.13, \"area = 0.95 = 95%\")\n",
    "ax.text(-4, 0.15, \"area = 0.025\");"
   ]
  },
  {
   "cell_type": "code",
   "execution_count": 6,
   "id": "2d51517c-068a-458c-8432-57addc775d4e",
   "metadata": {},
   "outputs": [
    {
     "data": {
      "text/plain": [
       "(0.024997895148220435, 0.9750021048517795)"
      ]
     },
     "execution_count": 6,
     "metadata": {},
     "output_type": "execute_result"
    }
   ],
   "source": [
    "norm.cdf(-1.96), norm.cdf(1.96)"
   ]
  },
  {
   "cell_type": "code",
   "execution_count": 7,
   "id": "8f83c21a-018d-4c6e-9d64-5173a9d72f51",
   "metadata": {},
   "outputs": [
    {
     "data": {
      "text/plain": [
       "(-1.9599639845400545, 1.959963984540054)"
      ]
     },
     "execution_count": 7,
     "metadata": {},
     "output_type": "execute_result"
    }
   ],
   "source": [
    "norm.ppf(0.025), norm.ppf(0.975)"
   ]
  },
  {
   "cell_type": "code",
   "execution_count": 8,
   "id": "420b08c6-7b41-4ece-a753-11f45f3f0d3f",
   "metadata": {},
   "outputs": [
    {
     "data": {
      "text/plain": [
       "0.04999579029644087"
      ]
     },
     "execution_count": 8,
     "metadata": {},
     "output_type": "execute_result"
    }
   ],
   "source": [
    "norm.sf(abs(-1.96)) * 2  # For two-tailed test"
   ]
  },
  {
   "cell_type": "code",
   "execution_count": 9,
   "id": "cdbdd7bb-d2b3-4b7a-a01e-9028160c6f7e",
   "metadata": {},
   "outputs": [
    {
     "data": {
      "image/png": "[encoded data removed]",
      "text/plain": [
       "<Figure size 640x480 with 1 Axes>"
      ]
     },
     "metadata": {},
     "output_type": "display_data"
    }
   ],
   "source": [
    "import numpy as np\n",
    "from matplotlib.pyplot import subplots\n",
    "from scipy.stats import norm\n",
    "\n",
    "std_lim = 1.645  # 90% Confidence Interval (CI)\n",
    "\n",
    "# Plot between -10 and 10 with 0.1 steps\n",
    "X = np.arange(-std_lim * 3, std_lim * 3, 0.1)\n",
    "ax = subplots()[1]\n",
    "ax.set_title(\"one-tailed test\")\n",
    "\n",
    "# Mean and std of any SND is always 0 and 1 respectively.\n",
    "mean = 0\n",
    "std = 1\n",
    "pdf = norm.pdf(X, mean, std)\n",
    "ax.plot(X, pdf)\n",
    "\n",
    "lo = mean - std_lim * std\n",
    "hi = mean + std_lim * std\n",
    "\n",
    "# ax.fill_between(X, pdf, where=(X > lo) & (X < hi))\n",
    "ax.fill_between(X, pdf, where=(X < norm.ppf(0.05)))\n",
    "ax.text(lo, 0, lo, ha=\"center\")\n",
    "\n",
    "\n",
    "ax.text(-1, 0.13, \"area = 0.95 = 95%\")\n",
    "ax.text(-4, 0.15, \"area = 0.05\");"
   ]
  },
  {
   "cell_type": "markdown",
   "id": "d980193c-f19c-4c67-bd1b-32197aacdf23",
   "metadata": {},
   "source": [
    "Observation:\n",
    "- the probability of randomly selecting a score between -1.96 and +1.96 standard deviations from the mean is 95%.\n",
    "- if there is less than a 5% chance of a raw score being selected randomly, then this is a statistically significant result"
   ]
  },
  {
   "cell_type": "markdown",
   "id": "9234b754-3f1a-4232-94ca-a86e1adf0a86",
   "metadata": {},
   "source": [
    "the two-tailed test shows evidence that the control and variation are different, but the one-tailed test shows evidence if variation is better than the control."
   ]
  },
  {
   "cell_type": "markdown",
   "id": "3bcc45d1-2d17-4f50-8236-a62e751a09b3",
   "metadata": {},
   "source": [
    "According to a unit normal table, the values for a z-score of 1.64 are 0.9495, 0.0505, and 0.4495. The values for a z-score of 2.48 are 0.9934, 0.0066, and 0.4934. "
   ]
  },
  {
   "cell_type": "code",
   "execution_count": 10,
   "id": "f97cdb1a-9cb5-484d-b975-f24a4381d26f",
   "metadata": {},
   "outputs": [
    {
     "data": {
      "image/png": "[encoded data removed]",
      "text/plain": [
       "<Figure size 640x480 with 1 Axes>"
      ]
     },
     "metadata": {},
     "output_type": "display_data"
    }
   ],
   "source": [
    "vals = np.random.standard_normal(100000)\n",
    "ax = subplots()[1]\n",
    "ax.hist(vals, bins=200, density=True);"
   ]
  },
  {
   "cell_type": "markdown",
   "id": "1d5a29d3-6fb7-493b-bde8-d94a84205f06",
   "metadata": {},
   "source": [
    "## Finding z-score and p-value using scipy"
   ]
  },
  {
   "cell_type": "code",
   "execution_count": 11,
   "id": "0fc58378-193a-4a2d-bbe5-70c931f02fba",
   "metadata": {},
   "outputs": [
    {
     "data": {
      "text/plain": [
       "0.04084178926110882"
      ]
     },
     "execution_count": 11,
     "metadata": {},
     "output_type": "execute_result"
    }
   ],
   "source": [
    "import scipy.stats as st\n",
    "\n",
    "# Compute the p-value for a z-score\n",
    "st.norm.cdf(-1.741)"
   ]
  },
  {
   "cell_type": "code",
   "execution_count": 12,
   "id": "8b88cd86-a11d-4437-bf84-ddb21cd6164f",
   "metadata": {},
   "outputs": [
    {
     "data": {
      "text/plain": [
       "0.050502583474103704"
      ]
     },
     "execution_count": 12,
     "metadata": {},
     "output_type": "execute_result"
    }
   ],
   "source": [
    "st.norm.cdf(-1.64)"
   ]
  },
  {
   "cell_type": "code",
   "execution_count": 13,
   "id": "12a0e98f-8c2c-4655-ab1f-63d04ce1e9a8",
   "metadata": {},
   "outputs": [
    {
     "data": {
      "text/plain": [
       "[0.001349898031630093,\n",
       " 0.15865525393145707,\n",
       " 0.5,\n",
       " 0.8413447460685429,\n",
       " 0.9772498680518208]"
      ]
     },
     "execution_count": 13,
     "metadata": {},
     "output_type": "execute_result"
    }
   ],
   "source": [
    "# Some common z-scores\n",
    "[st.norm.cdf(-3), st.norm.cdf(-1), st.norm.cdf(0), st.norm.cdf(1), st.norm.cdf(2)]"
   ]
  },
  {
   "cell_type": "markdown",
   "id": "47dda59c-075d-4084-adb4-e7440f9a745a",
   "metadata": {},
   "source": [
    "The `norm.cdf()` function gives the **cumulative probability (left tail)** from `-3` to `3` approx. To get the right tailed distribution, subtract this value from 1."
   ]
  },
  {
   "cell_type": "markdown",
   "id": "a05bc142-a408-4e00-a90b-ef701d633604",
   "metadata": {},
   "source": [
    "### Finding z-score from a p-value"
   ]
  },
  {
   "cell_type": "code",
   "execution_count": 14,
   "id": "8768d15c-6118-418f-85b7-fa7ef99d2ee9",
   "metadata": {},
   "outputs": [
    {
     "data": {
      "text/plain": [
       "1.8807936081512506"
      ]
     },
     "execution_count": 14,
     "metadata": {},
     "output_type": "execute_result"
    }
   ],
   "source": [
    "# Find z-score for a probability of 0.97 (2sd)\n",
    "st.norm.ppf(0.97)"
   ]
  },
  {
   "cell_type": "code",
   "execution_count": 15,
   "id": "b4804931-25d3-47b7-a396-4b866133caa8",
   "metadata": {},
   "outputs": [
    {
     "data": {
      "text/plain": [
       "(-1.6448536269514729, 1.644853626951472)"
      ]
     },
     "execution_count": 15,
     "metadata": {},
     "output_type": "execute_result"
    }
   ],
   "source": [
    "st.norm.ppf(0.05), st.norm.ppf(0.95)"
   ]
  },
  {
   "cell_type": "code",
   "execution_count": 16,
   "id": "3f7026ca-63ab-423c-8079-8eb44fe3ffb0",
   "metadata": {},
   "outputs": [
    {
     "data": {
      "text/plain": [
       "[1.644853626951472, 1.8807936081512506, 2.0537489106318225, 2.3263478740408408]"
      ]
     },
     "execution_count": 16,
     "metadata": {},
     "output_type": "execute_result"
    }
   ],
   "source": [
    "[st.norm.ppf(0.95), st.norm.ppf(0.97), st.norm.ppf(0.98), st.norm.ppf(0.99)]"
   ]
  },
  {
   "cell_type": "markdown",
   "id": "f8716f77-d088-42bb-989b-d4bee9cca9ca",
   "metadata": {},
   "source": [
    "## Power analysis"
   ]
  },
  {
   "cell_type": "code",
   "execution_count": 17,
   "id": "1eee7f13-2bbf-4333-a83d-7ce31343c515",
   "metadata": {},
   "outputs": [
    {
     "name": "stdout",
     "output_type": "stream",
     "text": [
      "Effect size: 1.0\n",
      "Sample size/Number needed in each group: 17.000\n"
     ]
    }
   ],
   "source": [
    "import math\n",
    "\n",
    "from statsmodels.stats.power import TTestIndPower\n",
    "\n",
    "# calculation of effect size\n",
    "# size of samples in pilot study\n",
    "n1, n2 = 40, 4\n",
    "\n",
    "# variance of samples in pilot study\n",
    "s1, s2 = 5**2, 5**2\n",
    "\n",
    "# calculate the pooled standard deviation\n",
    "# (Cohen's d)\n",
    "s = math.sqrt(((n1 - 1) * s1 + (n2 - 1) * s2) / (n1 + n2 - 2))\n",
    "\n",
    "# means of the samples\n",
    "u1, u2 = 90, 85\n",
    "\n",
    "# calculate the effect size\n",
    "d = (u1 - u2) / s\n",
    "print(f\"Effect size: {d}\")\n",
    "\n",
    "# factors for power analysis\n",
    "alpha = 0.05\n",
    "power = 0.8\n",
    "\n",
    "# perform power analysis to find sample size\n",
    "# for given effect\n",
    "obj = TTestIndPower()\n",
    "n = obj.solve_power(\n",
    "    effect_size=d, alpha=alpha, power=power, ratio=1, alternative=\"two-sided\"\n",
    ")\n",
    "\n",
    "print(\"Sample size/Number needed in each group: {:.3f}\".format(math.ceil(n)))"
   ]
  },
  {
   "cell_type": "code",
   "execution_count": 18,
   "id": "23958d14-fe6d-4622-bdba-931d38eec179",
   "metadata": {},
   "outputs": [],
   "source": [
    "def sample_size(a, b):\n",
    "    from statsmodels.stats.power import TTestIndPower, TTestPower\n",
    "\n",
    "    # calculation of effect size\n",
    "    # size of samples in pilot study\n",
    "    n1, n2 = len(a), len(b)\n",
    "\n",
    "    # variance of samples in pilot study\n",
    "    s1, s2 = a.var(), b.var()\n",
    "\n",
    "    # calculate the pooled standard deviation\n",
    "    # (Cohen's d)\n",
    "    s = math.sqrt(((n1 - 1) * s1 + (n2 - 1) * s2) / (n1 + n2 - 2))\n",
    "\n",
    "    # means of the samples\n",
    "    u1, u2 = a.mean(), b.mean()\n",
    "\n",
    "    # calculate the effect size\n",
    "    d = (u1 - u2) / s\n",
    "    print(f\"Effect size: {d}\")\n",
    "\n",
    "    # factors for power analysis\n",
    "    alpha = 0.05\n",
    "    power = 0.8\n",
    "\n",
    "    # perform power analysis to find sample size\n",
    "    # for given effect\n",
    "    obj = TTestIndPower()\n",
    "    n = obj.solve_power(\n",
    "        effect_size=d, alpha=alpha, power=power, ratio=1, alternative=\"two-sided\"\n",
    "    )\n",
    "    n = int(math.ceil(n))\n",
    "    print(\"Sample size/Number needed in each group: {:.3f}\".format(n))\n",
    "    return n"
   ]
  },
  {
   "cell_type": "markdown",
   "id": "cc39f058-c405-4bd9-90b6-bf7049e51ed5",
   "metadata": {},
   "source": [
    "Finding sample size with estimate effect size (when the variance is unknown)"
   ]
  },
  {
   "cell_type": "code",
   "execution_count": 19,
   "id": "f095fa86-1456-40d5-9a44-d913bf7287ab",
   "metadata": {},
   "outputs": [
    {
     "data": {
      "text/plain": [
       "16.714722572276173"
      ]
     },
     "execution_count": 19,
     "metadata": {},
     "output_type": "execute_result"
    }
   ],
   "source": [
    "from statsmodels.stats.power import TTestIndPower, TTestPower\n",
    "\n",
    "obj = TTestIndPower()\n",
    "n = obj.solve_power(effect_size=1, alpha=0.05, power=0.8)\n",
    "n"
   ]
  }
 ],
 "metadata": {
  "kernelspec": {
   "display_name": "Python 3 (ipykernel)",
   "language": "python",
   "name": "python3"
  },
  "language_info": {
   "codemirror_mode": {
    "name": "ipython",
    "version": 3
   },
   "file_extension": ".py",
   "mimetype": "text/x-python",
   "name": "python",
   "nbconvert_exporter": "python",
   "pygments_lexer": "ipython3",
   "version": "3.12.8"
  },
  "widgets": {
   "application/vnd.jupyter.widget-state+json": {
    "state": {},
    "version_major": 2,
    "version_minor": 0
   }
  }
 },
 "nbformat": 4,
 "nbformat_minor": 5
}
