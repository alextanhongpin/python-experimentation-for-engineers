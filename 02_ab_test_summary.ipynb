{
 "cells": [
  {
   "cell_type": "markdown",
   "id": "4bbbaeab-893b-42db-be5b-6549bf9cbb24",
   "metadata": {},
   "source": [
    "# Z-score\n",
    "\n",
    "\n",
    "- a statistical measurement that describes a value's relationship to the mean of a group of values\n",
    "- measured in terms of standard deviation from the mean\n",
    "\n",
    "Why is Z-score important for traders?\n",
    "- it reveals if a value is typical/atypical for a specificied data set\n",
    "- in other words, traders can identify potential buy/sell opportunities\n",
    "\n",
    "How to read Z-score?\n",
    "- 0: the data point's score is identical to the mean score\n",
    "- 1.0: the value is one standard deviation from the mean\n",
    "- 3.0: the value is three standard deviation from the mean\n",
    "\n",
    "From a trader's interpretation:\n",
    "- a z-score significantly higher than 1.5 might indicate that the stock is overprice compared to its historical average, while a value lower than -1.5 might indicate the oppposite\n",
    "\n",
    "Z-scores may be positive of negative\n",
    "- negative: it is below the mean\n",
    "- positive: it is above the mean\n",
    "\n",
    "Formula:\n",
    "\n",
    "$$ z = (x - \\mu)/\\sigma $$\n",
    "\n",
    "Where\n",
    "- $z$ = Z-score\n",
    "- $x$ = the value being evaluated\n",
    "- $\\mu$ = the mean\n",
    "- $\\sigma$ = the standard deviation\n",
    "\n",
    "\n",
    "Reference: https://www.investopedia.com/terms/z/zscore.asp#:~:text=Z%2Dscore%20is%20a%20statistical,traders%20to%20help%20determine%20volatility."
   ]
  },
  {
   "cell_type": "markdown",
   "id": "beec8257-ba24-4d10-927d-7f167d44534c",
   "metadata": {},
   "source": [
    "## Calculating z-score\n",
    "\n",
    "Imagine you have the following data:\n",
    "\n",
    "Where\n",
    "- $x$ = 57\n",
    "- $\\mu$ = 52\n",
    "- $\\sigma$ = 4"
   ]
  },
  {
   "cell_type": "code",
   "execution_count": 1,
   "id": "f0965fe5-1443-40a9-80ea-f87c46ac89b8",
   "metadata": {},
   "outputs": [
    {
     "data": {
      "text/plain": [
       "1.25"
      ]
     },
     "execution_count": 1,
     "metadata": {},
     "output_type": "execute_result"
    }
   ],
   "source": [
    "x = 57\n",
    "mean = 52\n",
    "std = 4\n",
    "\n",
    "z = (x - mean) / std\n",
    "z"
   ]
  },
  {
   "cell_type": "code",
   "execution_count": 2,
   "id": "61a1bd80-80f7-49a6-bcd2-69cd5b09c3cd",
   "metadata": {},
   "outputs": [
    {
     "data": {
      "text/plain": [
       "5.0"
      ]
     },
     "execution_count": 2,
     "metadata": {},
     "output_type": "execute_result"
    }
   ],
   "source": [
    "# The x-value is indeed 1.25 standard deviation from the mean.\n",
    "1.25 * std"
   ]
  },
  {
   "cell_type": "markdown",
   "id": "62e6e696-5397-4318-9b6e-55c495569d05",
   "metadata": {},
   "source": [
    "## Comparing distribution using z-score"
   ]
  },
  {
   "cell_type": "markdown",
   "id": "87e44cd3-ee05-4389-8605-67986d93c95e",
   "metadata": {},
   "source": [
    "z-score can also be used to test if two distributions are equal. If they are equal, they belong to the same population.\n",
    "\n",
    "\n",
    "When comparing two distributions, we usually come with null hypothesis, $h_0$ and an alternative hypothesis $h_a$.\n",
    "\n",
    "The null hypothesis is usually indicates there is no difference between the distributions, aka they belong to the same population. If we reject the null hypothesis, it means there is a statistical significance and the two populations are not the same.\n",
    "\n",
    "Two-tailed test are usually used to check if there is a difference in the distribution, when the direction doesn't matter, whether it is above or below the mean population.\n",
    "\n",
    "One-tailed test is used when the direction is important, aka population A is greater/lower than population B."
   ]
  },
  {
   "cell_type": "code",
   "execution_count": 3,
   "id": "fdbc533e-fb07-4064-a357-dce7e547ad78",
   "metadata": {},
   "outputs": [],
   "source": [
    "import numpy as np\n",
    "from matplotlib.pyplot import subplots\n",
    "from scipy.stats import norm"
   ]
  },
  {
   "cell_type": "markdown",
   "id": "b7415ef8-a960-44f0-ae48-279a34824d76",
   "metadata": {
    "execution": {
     "iopub.execute_input": "2024-04-30T08:29:32.684085Z",
     "iopub.status.busy": "2024-04-30T08:29:32.683454Z",
     "iopub.status.idle": "2024-04-30T08:29:32.695545Z",
     "shell.execute_reply": "2024-04-30T08:29:32.690617Z",
     "shell.execute_reply.started": "2024-04-30T08:29:32.684054Z"
    }
   },
   "source": [
    "## Plotting the Standard Normal Distribution (SND)"
   ]
  },
  {
   "cell_type": "markdown",
   "id": "9bf770dd-8041-4a6a-a205-96e0ccbeadb9",
   "metadata": {},
   "source": [
    "For the two-tailed test, what matters is the value lies between the lower and upper critical z-score.\n",
    "\n",
    "When the $\\alpha=0.05$, the lower and upper critical z-score represents the 2.5% ..."
   ]
  },
  {
   "cell_type": "markdown",
   "id": "a1851654-67e7-47b6-9515-494565643b46",
   "metadata": {},
   "source": [
    "For two-tail experiments, we can find the critical z-score for the lower and upper bound using"
   ]
  },
  {
   "cell_type": "code",
   "execution_count": 4,
   "id": "254cb43c-5a93-4f69-bf2b-4e7165f85d46",
   "metadata": {},
   "outputs": [
    {
     "name": "stdout",
     "output_type": "stream",
     "text": [
      "alpha: 0.05\n",
      "p_val|z_score\n",
      "0.025|-1.96\n",
      "0.975|+1.96\n",
      "\n",
      "alpha: 0.01\n",
      "p_val|z_score\n",
      "0.005|-2.58\n",
      "0.995|+2.58\n"
     ]
    }
   ],
   "source": [
    "alpha = 0.05\n",
    "num_side = 2\n",
    "\n",
    "lower = norm.ppf(alpha / num_side)\n",
    "upper = norm.ppf(1 - alpha / num_side)\n",
    "\n",
    "print(\"alpha: {}\".format(alpha))\n",
    "print(\n",
    "    \"p_val|z_score\\n{}|{:+.2f}\\n{}|{:+.2f}\".format(\n",
    "        alpha / num_side, lower, 1 - alpha / num_side, upper\n",
    "    )\n",
    ")\n",
    "print()\n",
    "alpha = 0.01\n",
    "lower = norm.ppf(alpha / num_side)\n",
    "upper = norm.ppf(1 - alpha / num_side)\n",
    "\n",
    "print(\"alpha: {}\".format(alpha))\n",
    "print(\n",
    "    \"p_val|z_score\\n{}|{:+.2f}\\n{}|{:+.2f}\".format(\n",
    "        alpha / num_side, lower, 1 - alpha / num_side, upper\n",
    "    )\n",
    ")"
   ]
  },
  {
   "cell_type": "code",
   "execution_count": 5,
   "id": "0088600a-27d5-4f82-94d1-495fd1a101cf",
   "metadata": {},
   "outputs": [
    {
     "data": {
      "text/plain": [
       "(0.004999999999999998, 0.995)"
      ]
     },
     "execution_count": 5,
     "metadata": {},
     "output_type": "execute_result"
    }
   ],
   "source": [
    "norm.cdf(lower), norm.cdf(upper)"
   ]
  },
  {
   "cell_type": "code",
   "execution_count": 6,
   "id": "73733963-17df-4c6e-83ca-5623e6e5d350",
   "metadata": {},
   "outputs": [
    {
     "data": {
      "image/png": "[encoded data removed]",
      "text/plain": [
       "<Figure size 640x480 with 1 Axes>"
      ]
     },
     "metadata": {},
     "output_type": "display_data"
    }
   ],
   "source": [
    "std_lim = 1.96  # 97.5% Confidence Interval (CI)\n",
    "\n",
    "# Plot between -10 and 10 with 0.1 steps\n",
    "X = np.arange(-std_lim * 3, std_lim * 3, 0.1)\n",
    "ax = subplots()[1]\n",
    "ax.set_title(\"Two-tailed test\")\n",
    "\n",
    "# Mean and std of any SND is always 0 and 1 respectively.\n",
    "mean = 0\n",
    "std = 1\n",
    "pdf = norm.pdf(X, mean, std)\n",
    "ax.plot(X, pdf)\n",
    "\n",
    "lo = mean - std_lim * std\n",
    "hi = mean + std_lim * std\n",
    "\n",
    "ax.fill_between(X, pdf, where=(X <= norm.ppf(0.025)))\n",
    "ax.fill_between(X, pdf, where=((X >= norm.ppf(0.975))))\n",
    "ax.text(lo, 0, lo, ha=\"center\")\n",
    "ax.text(hi, 0, hi, ha=\"center\")\n",
    "\n",
    "\n",
    "ax.text(2.5, 0.15, \"area = 0.025\")\n",
    "ax.text(-1, 0.13, \"area = 0.95 = 95%\")\n",
    "ax.text(-4, 0.15, \"area = 0.025\");"
   ]
  },
  {
   "cell_type": "code",
   "execution_count": 7,
   "id": "9f4dfade-85af-47c5-8156-f02917526bad",
   "metadata": {},
   "outputs": [
    {
     "data": {
      "text/plain": [
       "(-1.9599639845400545, 1.959963984540054)"
      ]
     },
     "execution_count": 7,
     "metadata": {},
     "output_type": "execute_result"
    }
   ],
   "source": [
    "alpha = 0.05\n",
    "num_side = 2\n",
    "\n",
    "\n",
    "# To compute the critical z-score\n",
    "lower_z_critical = norm.ppf(alpha / num_side)\n",
    "upper_z_critical = norm.ppf(1 - alpha / num_side)\n",
    "lower_z_critical, upper_z_critical"
   ]
  },
  {
   "cell_type": "code",
   "execution_count": 8,
   "id": "2d51517c-068a-458c-8432-57addc775d4e",
   "metadata": {},
   "outputs": [
    {
     "data": {
      "text/plain": [
       "(0.02499999999999998, 0.975)"
      ]
     },
     "execution_count": 8,
     "metadata": {},
     "output_type": "execute_result"
    }
   ],
   "source": [
    "# z-score to p-value\n",
    "norm.cdf(lower_z_critical), norm.cdf(upper_z_critical)"
   ]
  },
  {
   "cell_type": "code",
   "execution_count": 9,
   "id": "8f83c21a-018d-4c6e-9d64-5173a9d72f51",
   "metadata": {},
   "outputs": [
    {
     "data": {
      "text/plain": [
       "0.024999999999999998"
      ]
     },
     "execution_count": 9,
     "metadata": {},
     "output_type": "execute_result"
    }
   ],
   "source": [
    "# If we want to test that the distribution B is lower than distribution A, then\n",
    "# we can reject the null hypothesis if the p-value is below the lower critical z-score.\n",
    "p = norm.cdf(lower_z_critical)\n",
    "assert p < alpha\n",
    "\n",
    "# Similarly if we want to test that the distribution B is higher than distribution A,\n",
    "# then we reject the null hypothesis if the p-value is greater than the upper critical z-score.\n",
    "# We use norm.sf, which is 1 - cdf and check if the value is less than alpha.\n",
    "p = norm.sf(upper_z_critical)\n",
    "assert p < alpha\n",
    "p"
   ]
  },
  {
   "cell_type": "code",
   "execution_count": 10,
   "id": "930835ef-7f3a-40ab-8fbf-65be54fe1241",
   "metadata": {},
   "outputs": [
    {
     "data": {
      "text/plain": [
       "True"
      ]
     },
     "execution_count": 10,
     "metadata": {},
     "output_type": "execute_result"
    }
   ],
   "source": [
    "norm.sf(abs(lower_z_critical)) < alpha"
   ]
  },
  {
   "cell_type": "code",
   "execution_count": 11,
   "id": "218d7457-8675-487a-97f5-ee2c990c3764",
   "metadata": {},
   "outputs": [
    {
     "name": "stdout",
     "output_type": "stream",
     "text": [
      "alpha: 0.05\n",
      "p_val|z_score\n",
      "0.05|-1.645\n",
      "0.95|+1.645\n",
      "\n",
      "alpha: 0.01\n",
      "p_val|z_score\n",
      "0.01|-2.326\n",
      "0.99|+2.326\n"
     ]
    }
   ],
   "source": [
    "alpha = 0.05\n",
    "num_side = 1\n",
    "\n",
    "lower = norm.ppf(alpha / num_side)  # norm.ppf(0.05)\n",
    "upper = norm.ppf(1 - alpha / num_side)  # norm.ppf(0.95)\n",
    "\n",
    "print(\"alpha: {}\".format(alpha))\n",
    "print(\n",
    "    \"p_val|z_score\\n{}|{:+.3f}\\n{}|{:+.3f}\".format(\n",
    "        alpha / num_side, lower, 1 - alpha / num_side, upper\n",
    "    )\n",
    ")\n",
    "print()\n",
    "\n",
    "alpha = 0.01\n",
    "\n",
    "lower = norm.ppf(alpha / num_side)  # norm.ppf(0.05)\n",
    "upper = norm.ppf(1 - alpha / num_side)  # norm.ppf(0.95)\n",
    "\n",
    "print(\"alpha: {}\".format(alpha))\n",
    "print(\n",
    "    \"p_val|z_score\\n{}|{:+.3f}\\n{}|{:+.3f}\".format(\n",
    "        alpha / num_side, lower, 1 - alpha / num_side, upper\n",
    "    )\n",
    ")"
   ]
  },
  {
   "cell_type": "code",
   "execution_count": 12,
   "id": "42bc69db-2e3c-41fb-8799-b6fc83e82edb",
   "metadata": {},
   "outputs": [
    {
     "data": {
      "text/plain": [
       "(0.01, 0.99)"
      ]
     },
     "execution_count": 12,
     "metadata": {},
     "output_type": "execute_result"
    }
   ],
   "source": [
    "norm.cdf(lower), norm.cdf(upper)"
   ]
  },
  {
   "cell_type": "code",
   "execution_count": 13,
   "id": "98965ad5-b740-48b5-bfb5-05bb5676040b",
   "metadata": {},
   "outputs": [
    {
     "data": {
      "text/plain": [
       "(0.01, 0.01)"
      ]
     },
     "execution_count": 13,
     "metadata": {},
     "output_type": "execute_result"
    }
   ],
   "source": [
    "norm.sf(abs(lower)), norm.sf(abs(upper))"
   ]
  },
  {
   "cell_type": "code",
   "execution_count": 14,
   "id": "cdbdd7bb-d2b3-4b7a-a01e-9028160c6f7e",
   "metadata": {},
   "outputs": [
    {
     "data": {
      "image/png": "[encoded data removed]",
      "text/plain": [
       "<Figure size 1400x600 with 2 Axes>"
      ]
     },
     "metadata": {},
     "output_type": "display_data"
    }
   ],
   "source": [
    "import numpy as np\n",
    "from matplotlib.pyplot import subplots\n",
    "from scipy.stats import norm\n",
    "\n",
    "std_lim = 1.645  # 90% Confidence Interval (CI)\n",
    "\n",
    "# Plot between -10 and 10 with 0.1 steps\n",
    "X = np.arange(-std_lim * 3, std_lim * 3, 0.1)\n",
    "fig, axs = subplots(ncols=2)\n",
    "fig.suptitle(\"One-tailed test\")\n",
    "fig.set_size_inches((14, 6))\n",
    "\n",
    "# Mean and std of any SND is always 0 and 1 respectively.\n",
    "mean = 0\n",
    "std = 1\n",
    "pdf = norm.pdf(X, mean, std)\n",
    "axs[0].plot(X, pdf)\n",
    "\n",
    "lo = mean - std_lim * std\n",
    "hi = mean + std_lim * std\n",
    "\n",
    "# ax.fill_between(X, pdf, where=(X > lo) & (X < hi))\n",
    "axs[0].fill_between(X, pdf, where=(X < norm.ppf(0.05)))\n",
    "axs[0].text(lo, 0, lo, ha=\"center\")\n",
    "axs[0].text(-1, 0.13, \"area = 0.95 = 95%\")\n",
    "axs[0].text(norm.ppf(0.05), 0.15, \"area = 0.05\")\n",
    "\n",
    "axs[1].plot(X, pdf)\n",
    "axs[1].fill_between(X, pdf, where=(X > norm.ppf(0.95)))\n",
    "axs[1].text(hi, 0, hi, ha=\"center\")\n",
    "axs[1].text(-1, 0.13, \"area = 0.95 = 95%\")\n",
    "axs[1].text(norm.ppf(0.95), 0.15, \"area = 0.05\");"
   ]
  },
  {
   "cell_type": "markdown",
   "id": "d980193c-f19c-4c67-bd1b-32197aacdf23",
   "metadata": {},
   "source": [
    "Observation:\n",
    "- the probability of randomly selecting a score between -1.96 and +1.96 standard deviations from the mean is 95%.\n",
    "- if there is less than a 5% chance of a raw score being selected randomly, then this is a statistically significant result"
   ]
  },
  {
   "cell_type": "markdown",
   "id": "9234b754-3f1a-4232-94ca-a86e1adf0a86",
   "metadata": {},
   "source": [
    "the two-tailed test shows evidence that the control and variation are different, but the one-tailed test shows evidence if variation is better than the control."
   ]
  },
  {
   "cell_type": "markdown",
   "id": "3bcc45d1-2d17-4f50-8236-a62e751a09b3",
   "metadata": {},
   "source": [
    "According to a unit normal table, the values for a z-score of 1.64 are 0.9495, 0.0505, and 0.4495. The values for a z-score of 2.48 are 0.9934, 0.0066, and 0.4934. "
   ]
  },
  {
   "cell_type": "code",
   "execution_count": 15,
   "id": "f97cdb1a-9cb5-484d-b975-f24a4381d26f",
   "metadata": {},
   "outputs": [
    {
     "data": {
      "image/png": "[encoded data removed]",
      "text/plain": [
       "<Figure size 640x480 with 1 Axes>"
      ]
     },
     "metadata": {},
     "output_type": "display_data"
    }
   ],
   "source": [
    "vals = np.random.standard_normal(100000)\n",
    "ax = subplots()[1]\n",
    "ax.hist(vals, bins=200, density=True);"
   ]
  },
  {
   "cell_type": "markdown",
   "id": "1d5a29d3-6fb7-493b-bde8-d94a84205f06",
   "metadata": {},
   "source": [
    "## Finding z-score and p-value using scipy"
   ]
  },
  {
   "cell_type": "markdown",
   "id": "d5fa9d97-3c6b-4d7a-a108-3980b68bf320",
   "metadata": {},
   "source": [
    "Calculate critical z-scores from the given alpha."
   ]
  },
  {
   "cell_type": "code",
   "execution_count": 16,
   "id": "6a3d3b41-550c-4d7f-8ea6-a80d002a42ce",
   "metadata": {},
   "outputs": [
    {
     "data": {
      "text/plain": [
       "([-1.6448536269514729, 1.644853626951472],\n",
       " [-1.9599639845400545, 1.959963984540054])"
      ]
     },
     "execution_count": 16,
     "metadata": {},
     "output_type": "execute_result"
    }
   ],
   "source": [
    "alpha = 0.05\n",
    "one_tail = [norm.ppf(alpha / 1), norm.ppf(1 - alpha / 1)]\n",
    "two_tail = [norm.ppf(alpha / 2), norm.ppf(1 - alpha / 2)]\n",
    "one_tail, two_tail"
   ]
  },
  {
   "cell_type": "markdown",
   "id": "5b795f6b-ea3b-4530-b6ff-c022dcb7eaad",
   "metadata": {},
   "source": [
    "Calculate p-value from the given z-scores."
   ]
  },
  {
   "cell_type": "code",
   "execution_count": 17,
   "id": "80e27403-5b4d-4586-8e56-0c6f0c3e5fdd",
   "metadata": {},
   "outputs": [
    {
     "data": {
      "text/plain": [
       "([0.049999999999999975, 0.95], [0.02499999999999998, 0.975])"
      ]
     },
     "execution_count": 17,
     "metadata": {},
     "output_type": "execute_result"
    }
   ],
   "source": [
    "one_tail = [norm.cdf(z) for z in one_tail]\n",
    "two_tail = [norm.cdf(z) for z in two_tail]\n",
    "one_tail, two_tail"
   ]
  },
  {
   "cell_type": "markdown",
   "id": "f8716f77-d088-42bb-989b-d4bee9cca9ca",
   "metadata": {},
   "source": [
    "## Performing the Z-test"
   ]
  },
  {
   "cell_type": "code",
   "execution_count": 18,
   "id": "bafedbc7-4363-4334-88db-257105f6a532",
   "metadata": {},
   "outputs": [
    {
     "name": "stdout",
     "output_type": "stream",
     "text": [
      "0.14.4\n"
     ]
    }
   ],
   "source": [
    "import statsmodels\n",
    "import statsmodels.stats.api as sm\n",
    "\n",
    "print(statsmodels.__version__)"
   ]
  },
  {
   "cell_type": "code",
   "execution_count": 19,
   "id": "149dc185-1661-4d20-bb06-004514df0c92",
   "metadata": {},
   "outputs": [
    {
     "data": {
      "text/plain": [
       "(0.04554571556583972, True)"
      ]
     },
     "execution_count": 19,
     "metadata": {},
     "output_type": "execute_result"
    }
   ],
   "source": [
    "def calculate_pvalue(n_obs1, mean1, n_obs2, mean2):\n",
    "    \"\"\"This is similar to how abtest calculates it\"\"\"\n",
    "    std_err1 = np.sqrt(mean1 * (1 - mean1) / n_obs1)\n",
    "    std_err2 = np.sqrt(mean2 * (1 - mean2) / n_obs2)\n",
    "    std_err_delta = np.sqrt(std_err1**2 + std_err2**2)\n",
    "    z_score = (mean2 - mean1) / std_err_delta\n",
    "    p = norm.sf(abs(z_score))\n",
    "    # uplift = (mean2 - mean1) / mean1\n",
    "    return p\n",
    "\n",
    "\n",
    "pval = calculate_pvalue(80000, 1600 / 80000, 80000, 1696 / 80000)\n",
    "pval, pval < 0.05"
   ]
  },
  {
   "cell_type": "markdown",
   "id": "4105cdd4-da52-4634-a46a-e15af189b14e",
   "metadata": {},
   "source": [
    "Below we use statsmodel to achieve similar result"
   ]
  },
  {
   "cell_type": "code",
   "execution_count": 20,
   "id": "89f6c398-a3df-47c8-985a-8de1b6c2dfda",
   "metadata": {},
   "outputs": [
    {
     "data": {
      "text/plain": [
       "(-1.6896532254015406, 0.04554715838988184, True)"
      ]
     },
     "execution_count": 20,
     "metadata": {},
     "output_type": "execute_result"
    }
   ],
   "source": [
    "# To check statistical significance\n",
    "count = [1600, 1696]  # smaller: p1 < p2\n",
    "nobs = [80000, 80000]\n",
    "stat, pval = sm.proportions_ztest(count, nobs, alternative=\"smaller\", prop_var=False)\n",
    "stat, pval, pval < 0.05"
   ]
  },
  {
   "cell_type": "markdown",
   "id": "26041ab3-7fde-4693-97ca-158aefb28e73",
   "metadata": {},
   "source": [
    "## Sample Size Calculation"
   ]
  },
  {
   "cell_type": "markdown",
   "id": "bbe6099b-d0d5-49c1-804a-8498908fc943",
   "metadata": {},
   "source": [
    "The sample size calculated below is similar to the ones in [abtestguide](https://abtestguide.com/abtestsize/)"
   ]
  },
  {
   "cell_type": "code",
   "execution_count": 21,
   "id": "d8fd54fc-8ebf-4928-a9aa-49fd82328ddc",
   "metadata": {},
   "outputs": [
    {
     "data": {
      "text/plain": [
       "(28903, 36693)"
      ]
     },
     "execution_count": 21,
     "metadata": {},
     "output_type": "execute_result"
    }
   ],
   "source": [
    "expected_improvement = 0.15  # 15%\n",
    "p1 = 0.02\n",
    "p2 = (1 + expected_improvement) * p1\n",
    "one_sided = sm.samplesize_proportions_2indep_onetail(\n",
    "    p2 - p1, p1, 0.8, alternative=\"larger\"\n",
    ")\n",
    "two_sided = sm.samplesize_proportions_2indep_onetail(\n",
    "    p2 - p1, p1, 0.8, alternative=\"two-sided\"\n",
    ")\n",
    "\n",
    "round(one_sided), round(two_sided)"
   ]
  },
  {
   "cell_type": "markdown",
   "id": "a4f45543-3b5b-48ce-86da-62bb66eeb6c2",
   "metadata": {},
   "source": [
    "I couldn't find the equivalent when using statsmodel"
   ]
  },
  {
   "cell_type": "code",
   "execution_count": 22,
   "id": "c3193b7b-ea81-4a42-9ca5-04ce6033e318",
   "metadata": {},
   "outputs": [
    {
     "data": {
      "text/plain": [
       "0.020684490843174575"
      ]
     },
     "execution_count": 22,
     "metadata": {},
     "output_type": "execute_result"
    }
   ],
   "source": [
    "def calculate_effect_size(baseline_rate, expected_rate):\n",
    "    # Calculate standard deviations for both rate based on Bernoulli distribution.\n",
    "    # https://math.stackexchange.com/questions/1716156/sd-of-a-bernoulli-trial\n",
    "    std_base = np.sqrt(baseline_rate * (1 - baseline_rate))\n",
    "    std_exp = np.sqrt(expected_rate * (1 - expected_rate))\n",
    "\n",
    "    # Calculate the pooled standard deviation.\n",
    "    pooled_std = np.sqrt((std_base**2 + std_exp**2) / 2)\n",
    "\n",
    "    # Calculate the effect size.\n",
    "    effect_size = (expected_rate - baseline_rate) / pooled_std\n",
    "    return effect_size\n",
    "\n",
    "\n",
    "effect_size = calculate_effect_size(0.02, 0.02 * 1.15)\n",
    "effect_size"
   ]
  },
  {
   "cell_type": "code",
   "execution_count": 23,
   "id": "9efc8e85-45b8-4f11-8bce-81a59fc4cbc1",
   "metadata": {},
   "outputs": [
    {
     "data": {
      "text/html": [
       "<div>\n",
       "<style scoped>\n",
       "    .dataframe tbody tr th:only-of-type {\n",
       "        vertical-align: middle;\n",
       "    }\n",
       "\n",
       "    .dataframe tbody tr th {\n",
       "        vertical-align: top;\n",
       "    }\n",
       "\n",
       "    .dataframe thead th {\n",
       "        text-align: right;\n",
       "    }\n",
       "</style>\n",
       "<table border=\"1\" class=\"dataframe\">\n",
       "  <thead>\n",
       "    <tr style=\"text-align: right;\">\n",
       "      <th></th>\n",
       "      <th>Name</th>\n",
       "      <th>Sides</th>\n",
       "      <th>Effect Size</th>\n",
       "      <th>Sample Size</th>\n",
       "    </tr>\n",
       "  </thead>\n",
       "  <tbody>\n",
       "    <tr>\n",
       "      <th>0</th>\n",
       "      <td>t-test</td>\n",
       "      <td>two-sided</td>\n",
       "      <td>-0.020696</td>\n",
       "      <td>36650.745588</td>\n",
       "    </tr>\n",
       "    <tr>\n",
       "      <th>1</th>\n",
       "      <td>t-test</td>\n",
       "      <td>smaller</td>\n",
       "      <td>-0.020696</td>\n",
       "      <td>28869.758010</td>\n",
       "    </tr>\n",
       "    <tr>\n",
       "      <th>2</th>\n",
       "      <td>z-test</td>\n",
       "      <td>two-sided</td>\n",
       "      <td>-0.020696</td>\n",
       "      <td>36649.785199</td>\n",
       "    </tr>\n",
       "    <tr>\n",
       "      <th>3</th>\n",
       "      <td>z-test</td>\n",
       "      <td>smaller</td>\n",
       "      <td>-0.020696</td>\n",
       "      <td>28869.081601</td>\n",
       "    </tr>\n",
       "    <tr>\n",
       "      <th>4</th>\n",
       "      <td>t-test</td>\n",
       "      <td>two-sided</td>\n",
       "      <td>0.020684</td>\n",
       "      <td>36690.894889</td>\n",
       "    </tr>\n",
       "    <tr>\n",
       "      <th>5</th>\n",
       "      <td>t-test</td>\n",
       "      <td>smaller</td>\n",
       "      <td>0.020684</td>\n",
       "      <td>28901.383665</td>\n",
       "    </tr>\n",
       "    <tr>\n",
       "      <th>6</th>\n",
       "      <td>z-test</td>\n",
       "      <td>two-sided</td>\n",
       "      <td>0.020684</td>\n",
       "      <td>36689.934500</td>\n",
       "    </tr>\n",
       "    <tr>\n",
       "      <th>7</th>\n",
       "      <td>z-test</td>\n",
       "      <td>smaller</td>\n",
       "      <td>0.020684</td>\n",
       "      <td>28900.707255</td>\n",
       "    </tr>\n",
       "  </tbody>\n",
       "</table>\n",
       "</div>"
      ],
      "text/plain": [
       "     Name      Sides  Effect Size   Sample Size\n",
       "0  t-test  two-sided    -0.020696  36650.745588\n",
       "1  t-test    smaller    -0.020696  28869.758010\n",
       "2  z-test  two-sided    -0.020696  36649.785199\n",
       "3  z-test    smaller    -0.020696  28869.081601\n",
       "4  t-test  two-sided     0.020684  36690.894889\n",
       "5  t-test    smaller     0.020684  28901.383665\n",
       "6  z-test  two-sided     0.020684  36689.934500\n",
       "7  z-test    smaller     0.020684  28900.707255"
      ]
     },
     "execution_count": 23,
     "metadata": {},
     "output_type": "execute_result"
    }
   ],
   "source": [
    "import pandas as pd\n",
    "\n",
    "es = sm.proportion_effectsize(0.02, 0.02 * 1.15)\n",
    "\n",
    "df = pd.DataFrame(columns=[\"Name\", \"Sides\", \"Effect Size\", \"Sample Size\"])\n",
    "df.loc[len(df)] = [\n",
    "    \"t-test\",\n",
    "    \"two-sided\",\n",
    "    es,\n",
    "    sm.tt_ind_solve_power(\n",
    "        effect_size=es, ratio=1, power=0.8, alpha=0.05, alternative=\"two-sided\"\n",
    "    ),\n",
    "]\n",
    "df.loc[len(df)] = [\n",
    "    \"t-test\",\n",
    "    \"smaller\",\n",
    "    es,\n",
    "    sm.tt_ind_solve_power(\n",
    "        effect_size=es, ratio=1, power=0.8, alpha=0.05, alternative=\"smaller\"\n",
    "    ),\n",
    "]\n",
    "df.loc[len(df)] = [\n",
    "    \"z-test\",\n",
    "    \"two-sided\",\n",
    "    es,\n",
    "    sm.zt_ind_solve_power(\n",
    "        effect_size=es, ratio=1, power=0.8, alpha=0.05, alternative=\"two-sided\"\n",
    "    ),\n",
    "]\n",
    "df.loc[len(df)] = [\n",
    "    \"z-test\",\n",
    "    \"smaller\",\n",
    "    es,\n",
    "    sm.zt_ind_solve_power(\n",
    "        effect_size=es, ratio=1, power=0.8, alpha=0.05, alternative=\"smaller\"\n",
    "    ),\n",
    "]\n",
    "df.loc[len(df)] = [\n",
    "    \"t-test\",\n",
    "    \"two-sided\",\n",
    "    effect_size,\n",
    "    sm.tt_ind_solve_power(\n",
    "        effect_size=effect_size, ratio=1, power=0.8, alpha=0.05, alternative=\"two-sided\"\n",
    "    ),\n",
    "]\n",
    "df.loc[len(df)] = [\n",
    "    \"t-test\",\n",
    "    \"smaller\",\n",
    "    effect_size,\n",
    "    sm.tt_ind_solve_power(\n",
    "        effect_size=effect_size, ratio=1, power=0.8, alpha=0.05, alternative=\"larger\"\n",
    "    ),\n",
    "]\n",
    "df.loc[len(df)] = [\n",
    "    \"z-test\",\n",
    "    \"two-sided\",\n",
    "    effect_size,\n",
    "    sm.zt_ind_solve_power(\n",
    "        effect_size=effect_size, ratio=1, power=0.8, alpha=0.05, alternative=\"two-sided\"\n",
    "    ),\n",
    "]\n",
    "df.loc[len(df)] = [\n",
    "    \"z-test\",\n",
    "    \"smaller\",\n",
    "    effect_size,\n",
    "    sm.zt_ind_solve_power(\n",
    "        effect_size=effect_size, ratio=1, power=0.8, alpha=0.05, alternative=\"larger\"\n",
    "    ),\n",
    "]\n",
    "df"
   ]
  }
 ],
 "metadata": {
  "kernelspec": {
   "display_name": "Python 3 (ipykernel)",
   "language": "python",
   "name": "python3"
  },
  "language_info": {
   "codemirror_mode": {
    "name": "ipython",
    "version": 3
   },
   "file_extension": ".py",
   "mimetype": "text/x-python",
   "name": "python",
   "nbconvert_exporter": "python",
   "pygments_lexer": "ipython3",
   "version": "3.12.9"
  },
  "widgets": {
   "application/vnd.jupyter.widget-state+json": {
    "state": {},
    "version_major": 2,
    "version_minor": 0
   }
  }
 },
 "nbformat": 4,
 "nbformat_minor": 5
}
